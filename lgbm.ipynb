{
 "cells": [
  {
   "cell_type": "code",
   "execution_count": null,
   "metadata": {},
   "outputs": [],
   "source": [
    "from lightgbm import LGBMRegressor, log_evaluation\n",
    "\n",
    "#Can add weights/grouping to this as well if we want\n",
    "def RMSLE(y, y_pred):\n",
    "    is_higher_better = False\n",
    "    loss = 0\n",
    "    for i in range(len(y)):\n",
    "        loss += (Math.log(1 + y_pred[i]) - Math.log(1 + y[i]))**2\n",
    "    loss = loss / len(y)\n",
    "    return \"RMSLE\", loss, is_higher_better\n",
    "\n",
    "\n",
    "model = LGBMRegressor(n_estimators=100)\n",
    "model.fit(X, y, eval_metric=RMSLE)\n",
    "y_pred = pd.DataFrame(model.predict(X), index=X.index, columns=y.columns)"
   ]
  }
 ],
 "metadata": {
  "language_info": {
   "name": "python"
  },
  "orig_nbformat": 4
 },
 "nbformat": 4,
 "nbformat_minor": 2
}
