{
 "cells": [
  {
   "cell_type": "code",
   "execution_count": 7,
   "metadata": {
    "collapsed": false,
    "pycharm": {
     "name": "#%%\n"
    }
   },
   "outputs": [],
   "source": [
    "import matplotlib.pyplot as plt\n",
    "import numpy as np\n",
    "from tqdm import tqdm\n",
    "import pandas as pd\n",
    "from LazyProphet import LazyProphet as lp\n",
    "\n",
    "train_df = pd.read_csv(r'm4-weekly-train.csv')\n",
    "test_df = pd.read_csv(r'm4-weekly-test.csv')\n",
    "train_df.index = train_df['V1']\n",
    "train_df = train_df.drop('V1', axis = 1)\n",
    "test_df.index = test_df['V1']\n",
    "test_df = test_df.drop('V1', axis = 1)"
   ]
  },
  {
   "cell_type": "code",
   "execution_count": 6,
   "metadata": {
    "collapsed": false,
    "pycharm": {
     "name": "#%%\n"
    }
   },
   "outputs": [],
   "source": [
    "def smape(A, F):\n",
    "    return 100/len(A) * np.sum(2 * np.abs(F - A) / (np.abs(A) + np.abs(F)))"
   ]
  },
  {
   "cell_type": "code",
   "execution_count": 8,
   "metadata": {
    "collapsed": false,
    "pycharm": {
     "name": "#%%\n"
    }
   },
   "outputs": [
    {
     "name": "stderr",
     "output_type": "stream",
     "text": [
      "7.7484259740563886, 9.13930537684544: 100%|██████████| 359/359 [00:42<00:00,  8.49it/s]  "
     ]
    },
    {
     "name": "stdout",
     "output_type": "stream",
     "text": [
      "7.7943668416610095\n",
      "9.161286913982\n"
     ]
    },
    {
     "name": "stderr",
     "output_type": "stream",
     "text": [
      "\n"
     ]
    }
   ],
   "source": [
    "smapes = []\n",
    "naive_smape = []\n",
    "j = tqdm(range(len(train_df)))\n",
    "for row in j:\n",
    "    y = train_df.iloc[row, :].dropna()\n",
    "    y_test = test_df.iloc[row, :].dropna()\n",
    "    j.set_description(f'{np.mean(smapes)}, {np.mean(naive_smape)}')\n",
    "    lp_model = lp.LazyProphet(scale=True,\n",
    "                           seasonal_period=52,\n",
    "                           n_basis=10,\n",
    "                           fourier_order=10,\n",
    "                           ar=list(range(1, 53)),\n",
    "                           decay=.99,\n",
    "                           linear_trend=None,\n",
    "                           decay_average=False)\n",
    "    fitted = lp_model.fit(y)\n",
    "    predictions = lp_model.predict(len(y_test)).reshape(-1)\n",
    "    smapes.append(smape(y_test.values,      pd.Series(predictions).clip(lower=0)))\n",
    "    naive_smape.append(smape(y_test.values, np.tile(y.iloc[-1], len(y_test))))\n",
    "print(np.mean(smapes))\n",
    "print(np.mean(naive_smape))"
   ]
  },
  {
   "cell_type": "code",
   "execution_count": 9,
   "metadata": {
    "collapsed": false,
    "pycharm": {
     "name": "#%%\n"
    }
   },
   "outputs": [
    {
     "name": "stderr",
     "output_type": "stream",
     "text": [
      "11.630263556364747, 42.86116392273107: 100%|██████████| 414/414 [00:47<00:00,  8.73it/s] "
     ]
    },
    {
     "name": "stdout",
     "output_type": "stream",
     "text": [
      "11.633057576291533\n",
      "43.002986836424824\n"
     ]
    },
    {
     "name": "stderr",
     "output_type": "stream",
     "text": [
      "\n"
     ]
    }
   ],
   "source": [
    "train_df = pd.read_csv(r'm4-hourly-train.csv')\n",
    "test_df = pd.read_csv(r'm4-hourly-test.csv')\n",
    "train_df.index = train_df['V1']\n",
    "train_df = train_df.drop('V1', axis = 1)\n",
    "test_df.index = test_df['V1']\n",
    "test_df = test_df.drop('V1', axis = 1)\n",
    "smapes = []\n",
    "naive_smape = []\n",
    "j = tqdm(range(len(train_df)))\n",
    "for row in j:\n",
    "    y = train_df.iloc[row, :].dropna()\n",
    "    y_test = test_df.iloc[row, :].dropna()\n",
    "    j.set_description(f'{np.mean(smapes)}, {np.mean(naive_smape)}')\n",
    "    lp_model = lp.LazyProphet(seasonal_period=[24,168],\n",
    "                            n_basis=10,\n",
    "                            fourier_order=10,\n",
    "                            ar=list(range(1, 25)),\n",
    "                            decay=.99)\n",
    "    fitted = lp_model.fit(y)\n",
    "    predictions = lp_model.predict(len(y_test)).reshape(-1)\n",
    "    smapes.append(smape(y_test.values, pd.Series(predictions).clip(lower=0)))\n",
    "    naive_smape.append(smape(y_test.values, np.tile(y.iloc[-1], len(y_test))))\n",
    "print(np.mean(smapes))\n",
    "print(np.mean(naive_smape))"
   ]
  }
 ],
 "metadata": {
  "kernelspec": {
   "display_name": "Python 3",
   "language": "python",
   "name": "python3"
  },
  "language_info": {
   "codemirror_mode": {
    "name": "ipython",
    "version": 2
   },
   "file_extension": ".py",
   "mimetype": "text/x-python",
   "name": "python",
   "nbconvert_exporter": "python",
   "pygments_lexer": "ipython2",
   "version": "2.7.6"
  }
 },
 "nbformat": 4,
 "nbformat_minor": 0
}