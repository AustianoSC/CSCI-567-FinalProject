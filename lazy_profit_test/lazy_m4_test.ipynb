{
 "cells": [
  {
   "cell_type": "code",
   "execution_count": 9,
   "metadata": {
    "collapsed": false,
    "pycharm": {
     "name": "#%%\n"
    }
   },
   "outputs": [],
   "source": [
    "import matplotlib.pyplot as plt\n",
    "import numpy as np\n",
    "from tqdm import tqdm\n",
    "import pandas as pd\n",
    "from LazyProphet import LazyProphet as lp\n",
    "\n",
    "train_df = pd.read_csv(r'm4-weekly-train.csv')\n",
    "test_df = pd.read_csv(r'm4-weekly-test.csv')\n",
    "train_df.index = train_df['V1']\n",
    "train_df = train_df.drop('V1', axis = 1)\n",
    "test_df.index = test_df['V1']\n",
    "test_df = test_df.drop('V1', axis = 1)"
   ]
  },
  {
   "cell_type": "code",
   "execution_count": 2,
   "metadata": {
    "collapsed": false,
    "pycharm": {
     "name": "#%%\n"
    }
   },
   "outputs": [],
   "source": [
    "def smape(A, F):\n",
    "    return 100/len(A) * np.sum(2 * np.abs(F - A) / (np.abs(A) + np.abs(F)))"
   ]
  },
  {
   "cell_type": "code",
   "execution_count": 10,
   "metadata": {
    "collapsed": false,
    "pycharm": {
     "name": "#%%\n"
    }
   },
   "outputs": [
    {
     "name": "stderr",
     "output_type": "stream",
     "text": [
      "nan, nan:   0%|                                                                                                                                                                                                                          | 0/359 [00:00<?, ?it/s]\n"
     ]
    },
    {
     "ename": "NameError",
     "evalue": "name 'LazyProphet' is not defined",
     "output_type": "error",
     "traceback": [
      "\u001B[0;31m---------------------------------------------------------------------------\u001B[0m",
      "\u001B[0;31mNameError\u001B[0m                                 Traceback (most recent call last)",
      "Cell \u001B[0;32mIn [10], line 8\u001B[0m\n\u001B[1;32m      6\u001B[0m y_test \u001B[38;5;241m=\u001B[39m test_df\u001B[38;5;241m.\u001B[39miloc[row, :]\u001B[38;5;241m.\u001B[39mdropna()\n\u001B[1;32m      7\u001B[0m j\u001B[38;5;241m.\u001B[39mset_description(\u001B[38;5;124mf\u001B[39m\u001B[38;5;124m'\u001B[39m\u001B[38;5;132;01m{\u001B[39;00mnp\u001B[38;5;241m.\u001B[39mmean(smapes)\u001B[38;5;132;01m}\u001B[39;00m\u001B[38;5;124m, \u001B[39m\u001B[38;5;132;01m{\u001B[39;00mnp\u001B[38;5;241m.\u001B[39mmean(naive_smape)\u001B[38;5;132;01m}\u001B[39;00m\u001B[38;5;124m'\u001B[39m)\n\u001B[0;32m----> 8\u001B[0m lp_model \u001B[38;5;241m=\u001B[39m \u001B[43mLazyProphet\u001B[49m(scale\u001B[38;5;241m=\u001B[39m\u001B[38;5;28;01mTrue\u001B[39;00m,\n\u001B[1;32m      9\u001B[0m                        seasonal_period\u001B[38;5;241m=\u001B[39m\u001B[38;5;241m52\u001B[39m,\n\u001B[1;32m     10\u001B[0m                        n_basis\u001B[38;5;241m=\u001B[39m\u001B[38;5;241m10\u001B[39m,\n\u001B[1;32m     11\u001B[0m                        fourier_order\u001B[38;5;241m=\u001B[39m\u001B[38;5;241m10\u001B[39m,\n\u001B[1;32m     12\u001B[0m                        ar\u001B[38;5;241m=\u001B[39m\u001B[38;5;28mlist\u001B[39m(\u001B[38;5;28mrange\u001B[39m(\u001B[38;5;241m1\u001B[39m, \u001B[38;5;241m53\u001B[39m)),\n\u001B[1;32m     13\u001B[0m                        decay\u001B[38;5;241m=\u001B[39m\u001B[38;5;241m.99\u001B[39m,\n\u001B[1;32m     14\u001B[0m                        linear_trend\u001B[38;5;241m=\u001B[39m\u001B[38;5;28;01mNone\u001B[39;00m,\n\u001B[1;32m     15\u001B[0m                        decay_average\u001B[38;5;241m=\u001B[39m\u001B[38;5;28;01mFalse\u001B[39;00m)\n\u001B[1;32m     16\u001B[0m fitted \u001B[38;5;241m=\u001B[39m lp_model\u001B[38;5;241m.\u001B[39mfit(y)\n\u001B[1;32m     17\u001B[0m predictions \u001B[38;5;241m=\u001B[39m lp_model\u001B[38;5;241m.\u001B[39mpredict(\u001B[38;5;28mlen\u001B[39m(y_test))\u001B[38;5;241m.\u001B[39mreshape(\u001B[38;5;241m-\u001B[39m\u001B[38;5;241m1\u001B[39m)\n",
      "\u001B[0;31mNameError\u001B[0m: name 'LazyProphet' is not defined"
     ]
    }
   ],
   "source": [
    "smapes = []\n",
    "naive_smape = []\n",
    "j = tqdm(range(len(train_df)))\n",
    "for row in j:\n",
    "    y = train_df.iloc[row, :].dropna()\n",
    "    y_test = test_df.iloc[row, :].dropna()\n",
    "    j.set_description(f'{np.mean(smapes)}, {np.mean(naive_smape)}')\n",
    "    lp_model = LazyProphet(scale=True,\n",
    "                           seasonal_period=52,\n",
    "                           n_basis=10,\n",
    "                           fourier_order=10,\n",
    "                           ar=list(range(1, 53)),\n",
    "                           decay=.99,\n",
    "                           linear_trend=None,\n",
    "                           decay_average=False)\n",
    "    fitted = lp_model.fit(y)\n",
    "    predictions = lp_model.predict(len(y_test)).reshape(-1)\n",
    "    smapes.append(smape(y_test.values,      pd.Series(predictions).clip(lower=0)))\n",
    "    naive_smape.append(smape(y_test.values, np.tile(y.iloc[-1], len(y_test))))\n",
    "print(np.mean(smapes))\n",
    "print(np.mean(naive_smape))"
   ]
  },
  {
   "cell_type": "code",
   "execution_count": null,
   "metadata": {
    "collapsed": false,
    "pycharm": {
     "name": "#%%\n"
    }
   },
   "outputs": [],
   "source": []
  }
 ],
 "metadata": {
  "kernelspec": {
   "display_name": "Python 3",
   "language": "python",
   "name": "python3"
  },
  "language_info": {
   "codemirror_mode": {
    "name": "ipython",
    "version": 2
   },
   "file_extension": ".py",
   "mimetype": "text/x-python",
   "name": "python",
   "nbconvert_exporter": "python",
   "pygments_lexer": "ipython2",
   "version": "2.7.6"
  }
 },
 "nbformat": 4,
 "nbformat_minor": 0
}