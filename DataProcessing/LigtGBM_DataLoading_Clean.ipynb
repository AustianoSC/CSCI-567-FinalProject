{
 "cells": [
  {
   "cell_type": "markdown",
   "source": [
    "THE CODE BELOW INTEGRATES THE HW4 STUFF AND ADDS THE WORK FROM ABOVE..."
   ],
   "metadata": {
    "collapsed": false,
    "pycharm": {
     "name": "#%% md\n"
    }
   }
  },
  {
   "cell_type": "code",
   "execution_count": 3,
   "outputs": [],
   "source": [
    "import pandas as pd\n",
    "import numpy as np\n",
    "import matplotlib.pyplot as plt\n",
    "import seaborn as sns\n",
    "import lightgbm as lgb\n",
    "import warnings\n",
    "import pickle\n",
    "\n",
    "warnings.filterwarnings('ignore')\n",
    "path = 'inputs/'\n",
    "pd.set_option('display.max_columns', None)\n",
    "pd.set_option('display.max_rows', 20)\n",
    "pd.set_option('display.width', 500)\n",
    "pd.set_option('display.expand_frame_repr', False)\n",
    "\n",
    "# Add holidays\n",
    "def insert_holidays(testy):\n",
    "    data = testy.copy()\n",
    "    data['nat_holiday'] = 0\n",
    "    data['reg_holiday'] = 0\n",
    "    data['loc_holiday'] = 0\n",
    "\n",
    "    stores = stores_new.copy()\n",
    "    holidays = pd.read_csv(path + 'holidays_events.csv',\n",
    "                        usecols=['date', 'type', 'locale', 'locale_name', 'transferred'],\n",
    "                        dtype={'type': 'category', 'locale': 'category', 'locale_name': 'category', 'transferred': 'bool'},\n",
    "                        parse_dates=['date'], infer_datetime_format=True\n",
    "                        )\n",
    "    holidays = holidays.reset_index()\n",
    "    stores = stores.reset_index()\n",
    "\n",
    "    for index, row in holidays.iterrows():\n",
    "        store_nbr_list = []\n",
    "        if row['locale'] == 'Local':\n",
    "            for sindex, srow in stores.iterrows():\n",
    "                if srow['city'] == row['locale_name']:\n",
    "                    data.loc[(data['date'] == row['date']) & (data['store_nbr'] == srow['store_nbr']), 'loc_holiday'] = 1\n",
    "        if row['locale'] == 'Regional':\n",
    "            for sindex, srow in stores.iterrows():\n",
    "                if srow['state'] == row['locale_name']:\n",
    "                    data.loc[(data['date'] == row['date']) & (data['store_nbr'] == srow['store_nbr']), 'reg_holiday'] = 1\n",
    "        if row['locale'] == 'National':\n",
    "            data.loc[data['date'] == row['date'], 'nat_holiday'] = 1\n",
    "\n",
    "    return data\n",
    "\n",
    "\n",
    "#Adapted from https://www.kaggle.com/code/enesdilsiz/time-series-forecasting-with-lightgbm\n",
    "def random_noise(dataframe):\n",
    "    x = np.random.normal(scale=1.5, size=(len(dataframe),))\n",
    "    return x\n",
    "\n",
    "# Data preprocessing functions\n",
    "def lag_features(dataframe, lags):\n",
    "    for lag in lags:\n",
    "        dataframe['sales_lag_' + str(lag)] = dataframe.groupby([\"store_nbr\", \"family\"])['sales'].transform(\n",
    "            lambda x: x.shift(lag)) + random_noise(dataframe)\n",
    "    return dataframe\n",
    "\n",
    "def roll_mean_features(dataframe, windows):\n",
    "    for window in windows:\n",
    "        dataframe['sales_roll_mean_' + str(window)] = dataframe.groupby([\"store_nbr\", \"family\"])['sales']. \\\n",
    "                                                          transform(\n",
    "            lambda x: x.shift(1).rolling(window=window, min_periods=10, win_type=\"triang\").mean()) + random_noise(\n",
    "            dataframe)\n",
    "    return dataframe\n",
    "\n",
    "def ewm_features(dataframe, alphas, lags):\n",
    "    for alpha in alphas:\n",
    "        for lag in lags:\n",
    "            dataframe['sales_ewm_alpha_' + str(alpha).replace(\".\", \"\") + \"_lag_\" + str(lag)] = \\\n",
    "                dataframe.groupby([\"store_nbr\", \"family\"])['sales'].transform(lambda x: x.shift(lag).ewm(alpha=alpha).mean())\n",
    "    return dataframe\n",
    "\n",
    "\n",
    "# Loss Functions\n",
    "def smape(preds, target):\n",
    "    n = len(preds)\n",
    "    masked_arr = ~((preds == 0) & (target == 0))\n",
    "    preds, target = preds[masked_arr], target[masked_arr]\n",
    "    num = np.abs(preds - target)\n",
    "    denom = np.abs(preds) + np.abs(target)\n",
    "    smape_val = (200 * np.sum(num / denom)) / n\n",
    "    return smape_val\n",
    "\n",
    "\n",
    "def lgbm_smape(preds, train_data):\n",
    "    labels = train_data.get_label()\n",
    "    smape_val = smape(preds, labels)\n",
    "    return 'SMAPE', smape_val, False\n",
    "\n",
    "\n",
    "def rmsle_lgbm(y_pred, data):\n",
    "    y_true = np.array(data.get_label())\n",
    "    score = np.sqrt(np.mean(np.power(np.log1p(y_true) - np.log1p(y_pred), 2)))\n",
    "    return 'rmsle', score, False\n",
    "\n",
    "# Plotting and post processing functions\n",
    "def plot_lgb_importances(model, plot=False, num=10):\n",
    "    gain = model.feature_importance('gain')\n",
    "    feat_imp = pd.DataFrame({'feature': model.feature_name(),\n",
    "                             'split': model.feature_importance('split'),\n",
    "                             'gain': 100 * gain / gain.sum()}).sort_values('gain', ascending=False)\n",
    "    if plot:\n",
    "        plt.figure(figsize=(10, 10))\n",
    "        sns.set(font_scale=1)\n",
    "        sns.barplot(x=\"gain\", y=\"feature\", data=feat_imp[0:25])\n",
    "        plt.title('feature')\n",
    "        plt.tight_layout()\n",
    "        plt.show(block=True)\n",
    "    else:\n",
    "        print(feat_imp.head(num))\n",
    "    return feat_imp\n",
    "\n",
    "# Load Oil Data\n",
    "data_oil = pd.read_csv(path + 'oil.csv', parse_dates=['date'], infer_datetime_format=True)\n",
    "data_oil['dcoilwtico'].fillna(method='ffill', inplace=True)\n",
    "data_oil['ma_oil'] = data_oil['dcoilwtico'].rolling(7).mean()\n",
    "data_oil['ma_oil'].fillna(method='ffill', inplace=True)\n",
    "calendar = pd.DataFrame()\n",
    "calendar['date'] = pd.date_range('2013-01-01', '2017-08-31')\n",
    "cally = pd.merge(calendar, data_oil, how='outer', on='date' )\n",
    "cally.fillna(method='ffill', inplace=True)\n",
    "calendar = cally.copy()    #1704 rows\n",
    "\n",
    "# Load Stores\n",
    "stores_new = pd.read_csv(path + 'stores.csv',\n",
    "                         usecols=['store_nbr', 'city', 'state', 'type', 'cluster'],\n",
    "                         dtype={'store_nbr': 'category', 'city': 'category', 'state': 'category', 'type': 'category', 'cluster': 'category'})\n",
    "\n",
    "transactions = pd.read_csv(path + 'transactions.csv',\n",
    "                          usecols=['store_nbr', 'date', 'transactions'],\n",
    "                          dtype={'store_nbr': 'category', 'transactions': 'float32'},\n",
    "                          parse_dates=['date'], infer_datetime_format=True)\n",
    "\n",
    "df_train = pd.read_csv(path + 'train.csv',\n",
    "                       usecols=['store_nbr', 'family', 'date', 'sales', 'onpromotion'],\n",
    "                       dtype={'store_nbr': 'category', 'family': 'category', 'sales': 'float32', 'onpromotion': 'float32'},\n",
    "                       parse_dates=['date'], infer_datetime_format=True)\n",
    "\n",
    "train_oil = pd.merge(df_train, calendar, how='outer', on='date')\n",
    "train_oil.sort_values(by=['family','store_nbr'], axis=0, inplace=True)\n",
    "train_oil['ma_oil'].fillna(method='ffill', inplace=True)\n",
    "train_oil['dcoilwtico'].fillna(method='ffill', inplace=True)\n",
    "train_oil_trans = pd.merge(transactions, train_oil, how='outer', on =['store_nbr', 'date'])\n",
    "# train_oil_trans = train_oil_trans[train_oil_trans['family'].notna()]\n",
    "# tmp.sort_values(by=['store_nbr', 'sales'], axis=0, inplace=True)\n",
    "# train_oil_trans[train_oil_trans['transactions'].isnull()]\n",
    "train_oil_trans_stores = train_oil_trans.merge(stores_new, on='store_nbr')\n",
    "train_oil_trans_stores_holiday = insert_holidays(train_oil_trans_stores)\n",
    "# tmp = train_oil_trans_stores_holiday[train_oil_trans_stores_holiday.transactions.isnull()]\n",
    "# tmp = tmp.loc[(tmp.nat_holiday != 1) & (tmp.reg_holiday != 1) & (tmp.loc_holiday != 1)]\n",
    "# tmp\n",
    "train_oil_trans_stores_holiday.transactions.fillna(0, inplace=True)\n",
    "data = train_oil_trans_stores_holiday.copy()\n",
    "del train_oil_trans_stores_holiday, train_oil_trans_stores, train_oil_trans, train_oil, data_oil, df_train, transactions, cally\n",
    "data.sort_values(by=['store_nbr', 'family', 'date'], axis=0, inplace=True)\n",
    "# data.family.nunique()"
   ],
   "metadata": {
    "collapsed": false,
    "pycharm": {
     "name": "#%%\n"
    }
   }
  },
  {
   "cell_type": "code",
   "execution_count": 2,
   "outputs": [
    {
     "data": {
      "text/plain": "date            0\nstore_nbr       0\ntransactions    0\nfamily          0\nsales           0\nonpromotion     0\ndcoilwtico      1\nma_oil          9\ncity            0\nstate           0\ntype            0\ncluster         0\nnat_holiday     0\nreg_holiday     0\nloc_holiday     0\ndtype: int64"
     },
     "execution_count": 2,
     "metadata": {},
     "output_type": "execute_result"
    }
   ],
   "source": [
    "data.isnull().sum()"
   ],
   "metadata": {
    "collapsed": false,
    "pycharm": {
     "name": "#%%\n"
    }
   }
  },
  {
   "cell_type": "code",
   "execution_count": 28,
   "outputs": [],
   "source": [
    "df = data.copy()\n",
    "df['year'] = df.date.dt.year\n",
    "df['month'] = df.date.dt.month\n",
    "df['quarter_of_year'] = df.date.dt.quarter\n",
    "df['week_of_year'] = df.date.dt.isocalendar().week\n",
    "df['day_of_year'] = df.date.dt.dayofyear\n",
    "df['day_of_month'] = df.date.dt.day\n",
    "df['day_of_week'] = df.date.dt.dayofweek\n",
    "df[\"is_wknd\"] = df.date.dt.weekday // 4\n",
    "df['is_month_start'] = df.date.dt.is_month_start.astype(int)\n",
    "df['is_month_end'] = df.date.dt.is_month_end.astype(int)\n",
    " # pd.DataFrame({\"sales\": df[\"sales\"].values[0:10],\n",
    " #              \"lag1\": df[\"sales\"].shift(1).values[0:10],\n",
    " #              \"lag2\": df[\"sales\"].shift(2).values[0:10],\n",
    " #              \"lag3\": df[\"sales\"].shift(3).values[0:10],\n",
    " #              \"lag4\": df[\"sales\"].shift(4).values[0:10]})"
   ],
   "metadata": {
    "collapsed": false,
    "pycharm": {
     "name": "#%%\n"
    }
   }
  },
  {
   "cell_type": "code",
   "execution_count": 30,
   "outputs": [],
   "source": [
    "lags = [x for x in range(16, 121, 7)]\n",
    "alphas = [0.95, 0.9, 0.8, 0.7, 0.5]"
   ],
   "metadata": {
    "collapsed": false,
    "pycharm": {
     "name": "#%%\n"
    }
   }
  },
  {
   "cell_type": "code",
   "execution_count": 31,
   "outputs": [],
   "source": [
    "df = lag_features(df, lags)"
   ],
   "metadata": {
    "collapsed": false,
    "pycharm": {
     "name": "#%%\n"
    }
   }
  },
  {
   "cell_type": "code",
   "execution_count": 32,
   "outputs": [],
   "source": [
    "df = roll_mean_features(df, [128, 365, 546])"
   ],
   "metadata": {
    "collapsed": false,
    "pycharm": {
     "name": "#%%\n"
    }
   }
  },
  {
   "cell_type": "code",
   "execution_count": 33,
   "outputs": [],
   "source": [
    "df = ewm_features(df, alphas, lags)"
   ],
   "metadata": {
    "collapsed": false,
    "pycharm": {
     "name": "#%%\n"
    }
   }
  },
  {
   "cell_type": "code",
   "execution_count": 34,
   "outputs": [],
   "source": [
    "df = pd.get_dummies(df, columns=['store_nbr', 'family', 'day_of_week', 'month'])"
   ],
   "metadata": {
    "collapsed": false,
    "pycharm": {
     "name": "#%%\n"
    }
   }
  },
  {
   "cell_type": "code",
   "execution_count": 35,
   "outputs": [],
   "source": [
    "df = pd.get_dummies(df, columns=['city', 'state'])"
   ],
   "metadata": {
    "collapsed": false,
    "pycharm": {
     "name": "#%%\n"
    }
   }
  },
  {
   "cell_type": "code",
   "execution_count": 38,
   "outputs": [],
   "source": [
    "df.drop('week_of_year', axis=1, inplace=True)"
   ],
   "metadata": {
    "collapsed": false,
    "pycharm": {
     "name": "#%%\n"
    }
   }
  },
  {
   "cell_type": "code",
   "execution_count": 39,
   "outputs": [],
   "source": [
    "# import re\n",
    "# df = df.rename(columns = lambda x:re.sub('[^A-Za-z0-9_]+', '', x))"
   ],
   "metadata": {
    "collapsed": false,
    "pycharm": {
     "name": "#%%\n"
    }
   }
  },
  {
   "cell_type": "code",
   "execution_count": 64,
   "outputs": [
    {
     "data": {
      "text/plain": "((347490,), (347490, 252), (2624886,), (2624886, 252))"
     },
     "execution_count": 64,
     "metadata": {},
     "output_type": "execute_result"
    }
   ],
   "source": [
    "\n",
    "train = df.loc[(df.date < \"2013-07-15\"), :]\n",
    "val = df.loc[(df.date >= \"2013-07-15\" ) & (df.date < \"2017-07-31\")]\n",
    "\n",
    "cols = [col for col in train.columns if col not in ['date', 'sales', 'year']]\n",
    "\n",
    "Y_train = train['sales']\n",
    "X_train = train[cols]\n",
    "\n",
    "Y_val = val['sales']\n",
    "X_val = val[cols]\n",
    "\n",
    "Y_train.shape, X_train.shape, Y_val.shape, X_val.shape"
   ],
   "metadata": {
    "collapsed": false,
    "pycharm": {
     "name": "#%%\n"
    }
   }
  },
  {
   "cell_type": "code",
   "execution_count": 65,
   "outputs": [],
   "source": [
    "lgb_params = {'num_leaves': 10,\n",
    "              'learning_rate': 0.02,\n",
    "              'feature_fraction': 0.8,\n",
    "              'max_depth': 5,\n",
    "              'verbose': 0,\n",
    "              'num_boost_round': 10000,\n",
    "              'early_stopping_rounds': 200,\n",
    "              'nthread': -1}"
   ],
   "metadata": {
    "collapsed": false,
    "pycharm": {
     "name": "#%%\n"
    }
   }
  },
  {
   "cell_type": "code",
   "execution_count": 66,
   "outputs": [],
   "source": [
    "lgbtrain = lgb.Dataset(data=X_train, label=Y_train, feature_name=cols)\n",
    "\n",
    "lgbval = lgb.Dataset(data=X_val, label=Y_val, reference=lgbtrain, feature_name=cols)"
   ],
   "metadata": {
    "collapsed": false,
    "pycharm": {
     "name": "#%%\n"
    }
   }
  },
  {
   "cell_type": "markdown",
   "source": [
    "LightGBM -- Setup"
   ],
   "metadata": {
    "collapsed": false,
    "pycharm": {
     "name": "#%% md\n"
    }
   }
  },
  {
   "cell_type": "code",
   "execution_count": 69,
   "outputs": [
    {
     "name": "stdout",
     "output_type": "stream",
     "text": [
      "[LightGBM] [Warning] Auto-choosing col-wise multi-threading, the overhead of testing was 0.274150 seconds.\n",
      "You can set `force_col_wise=true` to remove the overhead.\n",
      "Training until validation scores don't improve for 200 rounds\n",
      "Training until validation scores don't improve for 200 rounds\n",
      "[100]\ttraining's l2: 46611\ttraining's SMAPE: 133.942\tvalid_1's l2: 242327\tvalid_1's SMAPE: 108.512\n",
      "[200]\ttraining's l2: 26183.4\ttraining's SMAPE: 125.159\tvalid_1's l2: 187269\tvalid_1's SMAPE: 91.4112\n",
      "[300]\ttraining's l2: 21236.7\ttraining's SMAPE: 123.122\tvalid_1's l2: 176823\tvalid_1's SMAPE: 108.53\n",
      "[400]\ttraining's l2: 19021.1\ttraining's SMAPE: 123.737\tvalid_1's l2: 172599\tvalid_1's SMAPE: 111.384\n",
      "Early stopping, best iteration is:\n",
      "[213]\ttraining's l2: 25284.5\ttraining's SMAPE: 124.352\tvalid_1's l2: 184904\tvalid_1's SMAPE: 89.7252\n"
     ]
    }
   ],
   "source": [
    "model = lgb.train(lgb_params, lgbtrain,\n",
    "                  valid_sets=[lgbtrain, lgbval],\n",
    "                  num_boost_round=lgb_params['num_boost_round'],\n",
    "                  callbacks=[lgb.early_stopping(stopping_rounds=200)],\n",
    "                  feval=lgbm_smape,\n",
    "                  verbose_eval=100)\n",
    "\n",
    "pickle.dump(model, open(\"models/smape_lgbm.dat\",'wb'))"
   ],
   "metadata": {
    "collapsed": false,
    "pycharm": {
     "name": "#%%\n"
    }
   }
  },
  {
   "cell_type": "code",
   "execution_count": 70,
   "outputs": [],
   "source": [
    "y_pred_val = model.predict(X_val, num_iteration=model.best_iteration)"
   ],
   "metadata": {
    "collapsed": false,
    "pycharm": {
     "name": "#%%\n"
    }
   }
  },
  {
   "cell_type": "code",
   "execution_count": 71,
   "outputs": [
    {
     "data": {
      "text/plain": "89.7252140841053"
     },
     "execution_count": 71,
     "metadata": {},
     "output_type": "execute_result"
    }
   ],
   "source": [
    "smape(y_pred_val, Y_val)"
   ],
   "metadata": {
    "collapsed": false,
    "pycharm": {
     "name": "#%%\n"
    }
   }
  },
  {
   "cell_type": "code",
   "execution_count": 73,
   "outputs": [
    {
     "data": {
      "text/plain": "<Figure size 1000x1000 with 1 Axes>",
      "image/png": "[encoded data removed]"
     },
     "metadata": {},
     "output_type": "display_data"
    },
    {
     "data": {
      "text/plain": "                 feature  split       gain\n30   sales_roll_mean_128    356  49.795051\n31   sales_roll_mean_365    123  20.054450\n32   sales_roll_mean_546    104  16.041131\n0           transactions    397   6.415981\n174      family_GROCERYI    126   3.002495\n..                   ...    ...        ...\n108          store_nbr_1      0   0.000000\n109         store_nbr_10      0   0.000000\n111         store_nbr_12      0   0.000000\n112         store_nbr_13      0   0.000000\n251     state_Tungurahua      0   0.000000\n\n[252 rows x 3 columns]",
      "text/html": "<div>\n<style scoped>\n    .dataframe tbody tr th:only-of-type {\n        vertical-align: middle;\n    }\n\n    .dataframe tbody tr th {\n        vertical-align: top;\n    }\n\n    .dataframe thead th {\n        text-align: right;\n    }\n</style>\n<table border=\"1\" class=\"dataframe\">\n  <thead>\n    <tr style=\"text-align: right;\">\n      <th></th>\n      <th>feature</th>\n      <th>split</th>\n      <th>gain</th>\n    </tr>\n  </thead>\n  <tbody>\n    <tr>\n      <th>30</th>\n      <td>sales_roll_mean_128</td>\n      <td>356</td>\n      <td>49.795051</td>\n    </tr>\n    <tr>\n      <th>31</th>\n      <td>sales_roll_mean_365</td>\n      <td>123</td>\n      <td>20.054450</td>\n    </tr>\n    <tr>\n      <th>32</th>\n      <td>sales_roll_mean_546</td>\n      <td>104</td>\n      <td>16.041131</td>\n    </tr>\n    <tr>\n      <th>0</th>\n      <td>transactions</td>\n      <td>397</td>\n      <td>6.415981</td>\n    </tr>\n    <tr>\n      <th>174</th>\n      <td>family_GROCERYI</td>\n      <td>126</td>\n      <td>3.002495</td>\n    </tr>\n    <tr>\n      <th>...</th>\n      <td>...</td>\n      <td>...</td>\n      <td>...</td>\n    </tr>\n    <tr>\n      <th>108</th>\n      <td>store_nbr_1</td>\n      <td>0</td>\n      <td>0.000000</td>\n    </tr>\n    <tr>\n      <th>109</th>\n      <td>store_nbr_10</td>\n      <td>0</td>\n      <td>0.000000</td>\n    </tr>\n    <tr>\n      <th>111</th>\n      <td>store_nbr_12</td>\n      <td>0</td>\n      <td>0.000000</td>\n    </tr>\n    <tr>\n      <th>112</th>\n      <td>store_nbr_13</td>\n      <td>0</td>\n      <td>0.000000</td>\n    </tr>\n    <tr>\n      <th>251</th>\n      <td>state_Tungurahua</td>\n      <td>0</td>\n      <td>0.000000</td>\n    </tr>\n  </tbody>\n</table>\n<p>252 rows × 3 columns</p>\n</div>"
     },
     "execution_count": 73,
     "metadata": {},
     "output_type": "execute_result"
    }
   ],
   "source": [
    "plot_lgb_importances(model, num=30, plot=True)"
   ],
   "metadata": {
    "collapsed": false,
    "pycharm": {
     "name": "#%%\n"
    }
   }
  },
  {
   "cell_type": "code",
   "execution_count": 74,
   "outputs": [
    {
     "name": "stdout",
     "output_type": "stream",
     "text": [
      "                         feature  split       gain\n",
      "30           sales_roll_mean_128    356  49.795051\n",
      "31           sales_roll_mean_365    123  20.054450\n",
      "32           sales_roll_mean_546    104  16.041131\n",
      "0                   transactions    397   6.415981\n",
      "174              family_GROCERYI    126   3.002495\n",
      "..                           ...    ...        ...\n",
      "44    sales_ewm_alpha_095_lag_93      0   0.000000\n",
      "45   sales_ewm_alpha_095_lag_100      0   0.000000\n",
      "46   sales_ewm_alpha_095_lag_107      0   0.000000\n",
      "78     sales_ewm_alpha_07_lag_16      0   0.000000\n",
      "79     sales_ewm_alpha_07_lag_23      0   0.000000\n",
      "\n",
      "[200 rows x 3 columns]\n"
     ]
    }
   ],
   "source": [
    "feat_imp = plot_lgb_importances(model, num=200)\n",
    "\n",
    "low_importance = feat_imp[feat_imp[\"gain\"] <= 0.005][\"feature\"].values\n",
    "\n",
    "dff = df.drop(low_importance, axis=1)\n",
    "\n",
    "cols_dff = [col for col in dff.columns if col not in ['date', \"sales\", \"year\"]]"
   ],
   "metadata": {
    "collapsed": false,
    "pycharm": {
     "name": "#%%\n"
    }
   }
  },
  {
   "cell_type": "code",
   "execution_count": 81,
   "outputs": [],
   "source": [
    "train = dff.loc[~df.sales.isna()]\n",
    "Y_train = train['sales']\n",
    "X_train = train[cols_dff]\n",
    "\n",
    "\n",
    "test = dff.loc[df.date >= \"2017-07-31\"]\n",
    "X_test = test[cols_dff]\n",
    "X_test.sales = np.nan"
   ],
   "metadata": {
    "collapsed": false,
    "pycharm": {
     "name": "#%%\n"
    }
   }
  },
  {
   "cell_type": "code",
   "execution_count": 83,
   "outputs": [],
   "source": [
    "lgb_params = {'num_leaves': 10,\n",
    "              'learning_rate': 0.02,\n",
    "              'feature_fraction': 0.8,\n",
    "              'max_depth': 5,\n",
    "              'verbose': 0,\n",
    "              'nthread': -1,\n",
    "              \"num_boost_round\": model.best_iteration}"
   ],
   "metadata": {
    "collapsed": false,
    "pycharm": {
     "name": "#%%\n"
    }
   }
  },
  {
   "cell_type": "code",
   "execution_count": 84,
   "outputs": [],
   "source": [
    "lgbtrain_all = lgb.Dataset(data=X_train, label=Y_train, feature_name=cols_dff)"
   ],
   "metadata": {
    "collapsed": false,
    "pycharm": {
     "name": "#%%\n"
    }
   }
  },
  {
   "cell_type": "code",
   "execution_count": 85,
   "outputs": [
    {
     "name": "stdout",
     "output_type": "stream",
     "text": [
      "[LightGBM] [Warning] Auto-choosing row-wise multi-threading, the overhead of testing was 0.067446 seconds.\n",
      "You can set `force_row_wise=true` to remove the overhead.\n",
      "And if memory is not enough, you can set `force_col_wise=true`.\n"
     ]
    }
   ],
   "source": [
    "final_model = lgb.train(lgb_params, lgbtrain_all, num_boost_round=model.best_iteration)"
   ],
   "metadata": {
    "collapsed": false,
    "pycharm": {
     "name": "#%%\n"
    }
   }
  },
  {
   "cell_type": "code",
   "execution_count": 86,
   "outputs": [],
   "source": [
    "test_preds = final_model.predict(X_test, num_iteration=model.best_iteration)"
   ],
   "metadata": {
    "collapsed": false,
    "pycharm": {
     "name": "#%%\n"
    }
   }
  },
  {
   "cell_type": "code",
   "execution_count": 87,
   "outputs": [
    {
     "data": {
      "text/plain": "array([20.143497  , 20.143497  , 20.143497  , ..., 23.64649987,\n       25.21396479, 21.61089169])"
     },
     "execution_count": 87,
     "metadata": {},
     "output_type": "execute_result"
    }
   ],
   "source": [
    "test_preds"
   ],
   "metadata": {
    "collapsed": false,
    "pycharm": {
     "name": "#%%\n"
    }
   }
  }
 ],
 "metadata": {
  "kernelspec": {
   "display_name": "cs567",
   "language": "python",
   "name": "python3"
  },
  "language_info": {
   "codemirror_mode": {
    "name": "ipython",
    "version": 3
   },
   "file_extension": ".py",
   "mimetype": "text/x-python",
   "name": "python",
   "nbconvert_exporter": "python",
   "pygments_lexer": "ipython3",
   "version": "3.9.13"
  },
  "vscode": {
   "interpreter": {
    "hash": "5c9a4f255cf9e2ad0bd567c9928466766a62645062bb2c38e3d7d5a79eff3a32"
   }
  }
 },
 "nbformat": 4,
 "nbformat_minor": 0
}