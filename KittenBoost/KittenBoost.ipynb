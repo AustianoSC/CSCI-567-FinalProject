{
 "cells": [
  {
   "cell_type": "code",
   "execution_count": 1,
   "metadata": {
    "collapsed": true
   },
   "outputs": [],
   "source": [
    "import pandas as pd\n",
    "import numpy as np\n",
    "import matplotlib.pyplot as plt\n",
    "import pickle\n",
    "from sklearn.base import BaseEstimator, RegressorMixin\n",
    "from sklearn.metrics import mean_squared_log_error\n",
    "from sklearn.ensemble import BaggingRegressor, ExtraTreesRegressor\n",
    "from sklearn.multioutput import MultiOutputRegressor\n",
    "from sklearn.linear_model import LinearRegression\n",
    "\n",
    "path = 'inputs/'"
   ]
  },
  {
   "cell_type": "code",
   "execution_count": 2,
   "outputs": [],
   "source": [
    "def lag_feature(df, feat, lags=[1], suf='_lag', drop=True):\n",
    "    for lag in lags:\n",
    "        df[f'{feat}{suf}{lag}'] = df[feat].shift(lag)\n",
    "    if drop:\n",
    "        df = df.drop(columns=[feat])\n",
    "    return df\n",
    "\n"
   ],
   "metadata": {
    "collapsed": false,
    "pycharm": {
     "name": "#%%\n"
    }
   }
  },
  {
   "cell_type": "code",
   "execution_count": 3,
   "outputs": [],
   "source": [
    "df_store = pd.read_csv(path + 'stores.csv',\n",
    "                         usecols=['store_nbr', 'city', 'state', 'type', 'cluster'],\n",
    "                         dtype={'store_nbr': 'category', 'city': 'category', 'state': 'category', 'cluster': 'category'})\n",
    "\n",
    "df_trans = pd.read_csv(path + 'transactions.csv',\n",
    "                       usecols=['store_nbr', 'date', 'transactions'],\n",
    "                       dtype={'store_nbr': 'category', 'transactions': 'float32'},\n",
    "                       parse_dates=['date'],\n",
    "                       date_parser=lambda x: pd.to_datetime(x, format='%Y-%m-%d').to_period('D'),\n",
    "                       infer_datetime_format=True)\n",
    "\n",
    "df_holiday = pd.read_csv(path + 'holidays_events.csv',\n",
    "                         index_col=['date'],\n",
    "                         usecols=['date', 'type', 'locale', 'locale_name', 'transferred'],\n",
    "                         dtype={'type' : 'str', 'locale_name': 'str', 'locale': 'str', 'transferred': 'boolean'},\n",
    "                         parse_dates=['date'],\n",
    "                         date_parser=lambda x: pd.to_datetime(x, format='%Y-%m-%d').to_period('D'),\n",
    "                         infer_datetime_format=True)\n",
    "\n",
    "df_oil = pd.read_csv(path + 'oil.csv',\n",
    "                     index_col=['date'],\n",
    "                     parse_dates=['date'],\n",
    "                     date_parser=lambda x: pd.to_datetime(x, format='%Y-%m-%d').to_period('D'),\n",
    "                     infer_datetime_format=True)\n",
    "\n",
    "df_train = pd.read_csv(path + 'train.csv',\n",
    "                       usecols=['store_nbr', 'family', 'date', 'sales', 'onpromotion'],\n",
    "                       index_col=['date', 'store_nbr', 'family'],\n",
    "                       dtype={'store_nbr': 'category', 'family': 'category', 'sales': 'float32', 'onpromotion': 'uint32'},\n",
    "                       parse_dates=['date'],\n",
    "                       date_parser=lambda x: pd.to_datetime(x, format='%Y-%m-%d').to_period('D'),\n",
    "                       infer_datetime_format=True)\n",
    "\n",
    "train_easy = pd.read_csv(path + 'train.csv',\n",
    "                       usecols=['store_nbr', 'family', 'date', 'sales', 'onpromotion'],\n",
    "                       dtype={'store_nbr': 'category', 'family': 'category', 'sales': 'float32', 'onpromotion': 'uint32'},\n",
    "                       parse_dates=['date'],\n",
    "                       date_parser=lambda x: pd.to_datetime(x, format='%Y-%m-%d').to_period('D'),\n",
    "                       infer_datetime_format=True)\n",
    "\n",
    "df_test = pd.read_csv(path + 'test.csv',\n",
    "                      usecols=['store_nbr', 'family', 'date', 'onpromotion'],\n",
    "                      index_col=['date', 'store_nbr', 'family'],\n",
    "                      dtype={'store_nbr': 'category', 'family': 'category', 'onpromotion': 'uint32'},\n",
    "                      parse_dates=['date'],\n",
    "                      date_parser=lambda x: pd.to_datetime(x, format='%Y-%m-%d').to_period('D'),\n",
    "                      infer_datetime_format=True)\n",
    "\n",
    "df_data = {\n",
    "    'trsimp': train_easy,\n",
    "    'holiday_load': df_holiday,\n",
    "    'oil_load': df_oil,\n",
    "    'train_load': df_train,\n",
    "    'test_load': df_test,\n",
    "    'store_load': df_store,\n",
    "    'trans_load': df_trans,\n",
    "}"
   ],
   "metadata": {
    "collapsed": false,
    "pycharm": {
     "name": "#%%\n"
    }
   }
  },
  {
   "cell_type": "code",
   "execution_count": 4,
   "outputs": [],
   "source": [
    "stores = df_data['store_load'].copy()\n",
    "uniq = stores.city.value_counts()[stores.city.value_counts() == 1].index.tolist()\n",
    "stores['uniq_store'] = stores.city.apply(lambda x: 1 if x in uniq else 0)\n",
    "###WHY\n",
    "new_stores = [19, 20, 21, 28, 35, 41, 51, 52]\n",
    "stores['new_store'] = stores['store_nbr'].apply(lambda x: 1 if x in new_stores else 0)\n",
    "stores = stores.rename(columns={'type': 'store'})\n",
    "stores = stores.set_index('store_nbr')\n",
    "df_data['str_mod'] = stores"
   ],
   "metadata": {
    "collapsed": false,
    "pycharm": {
     "name": "#%%\n"
    }
   }
  },
  {
   "cell_type": "code",
   "execution_count": 5,
   "outputs": [],
   "source": [
    "oil = df_data['oil_load'].copy()\n",
    "oil = oil.resample('D').mean().interpolate(limit_direction='backward').reset_index()\n",
    "oil = lag_feature(oil, 'dcoilwtico', [1, 2, 3, 4], drop=False)\n",
    "oil['wk_avg_oil'] = oil['dcoilwtico'].rolling(7).mean()\n",
    "oil['biwk_avg_oil'] = oil['dcoilwtico'].rolling(14).mean()\n",
    "oil['mnth_avg_oil'] = oil['dcoilwtico'].rolling(30).mean()\n",
    "oil['bimnth_avg_oil'] = oil['dcoilwtico'].rolling(60).mean()\n",
    "oil.dropna(inplace=True)\n",
    "oil = oil.set_index('date')\n",
    "df_data['oil_mod'] = oil"
   ],
   "metadata": {
    "collapsed": false,
    "pycharm": {
     "name": "#%%\n"
    }
   }
  },
  {
   "cell_type": "code",
   "execution_count": 6,
   "outputs": [],
   "source": [
    "date_range = pd.Series(pd.date_range('2013-01-01', '2017-08-31').to_period('D'), name='date')\n",
    "cal = pd.DataFrame(index=date_range)\n",
    "cal = cal.merge(df_data['holiday_load'], how='left', on=['date'])\n",
    "cal.loc[cal.isna().any(axis=1),\n",
    "           ['type', 'locale', 'locale_name', 'transferred']] = 'Work Day', 'National', 'Ecuador', False\n",
    "cal['wd'] = True\n",
    "cal.loc[(cal.type == 'Bridge') | (cal.type == 'Transfer'), 'wd'] = False\n",
    "\n",
    "cal.loc[(((cal.type == 'Additional')|(cal.type == 'Holiday')) & (cal.transferred == False)), 'wd'] = False\n",
    "easter = ['2017-04-16', '2016-03-27', '2015-04-05', '2014-04-20', '2013-03-31']\n",
    "easter = [pd.to_datetime(date, format='%Y-%m-%d').to_period('D') for date in easter]\n",
    "cal['isevnt'] = False\n",
    "cal.loc[cal.index.get_level_values('date').isin(easter), 'isevnt'] = True\n",
    "cal = pd.get_dummies(cal, columns=['type'])\n",
    "cal = pd.get_dummies(cal, columns=['locale'])\n",
    "cal.drop(columns=['locale_name', 'transferred'], inplace=True)\n",
    "agg=lambda x: np.bitwise_or.reduce(x.values)\n",
    "cal = cal.groupby('date').agg(agg)\n",
    "df_data['cal'] = cal"
   ],
   "metadata": {
    "collapsed": false,
    "pycharm": {
     "name": "#%%\n"
    }
   }
  },
  {
   "cell_type": "code",
   "execution_count": 7,
   "outputs": [
    {
     "data": {
      "text/plain": "dict_keys(['trsimp', 'holiday_load', 'oil_load', 'train_load', 'test_load', 'store_load', 'trans_load', 'str_mod', 'oil_mod', 'cal'])"
     },
     "execution_count": 7,
     "metadata": {},
     "output_type": "execute_result"
    }
   ],
   "source": [
    "df_data.keys()"
   ],
   "metadata": {
    "collapsed": false,
    "pycharm": {
     "name": "#%%\n"
    }
   }
  },
  {
   "cell_type": "code",
   "execution_count": 8,
   "outputs": [],
   "source": [
    "train_df = df_data['train_load'].copy()\n",
    "test_df = df_data['test_load'].copy()\n",
    "test_df.sales = np.nan\n",
    "\n",
    "df = pd.concat([train_df, test_df], axis=0)\n",
    "df = df.merge(df_data['str_mod'], how='left', left_index=True, right_index=True)\n",
    "df.drop(df.filter(regex='_y$').columns, axis=1, inplace=True)\n",
    "df['closed'] = df.groupby(by=['date', 'store_nbr'])['sales'].transform(lambda x:1 if x.sum() ==0 else 0)\n",
    "# stores in test set aren't close, just have 0 sales\n",
    "df.loc[\n",
    "    ((df.index.get_level_values('date').year==2017) &\n",
    "     (df.index.get_level_values('date').month==8) & (\n",
    "             df.index.get_level_values('date').day>=16)) , 'closed'] = df['closed'].apply(lambda x: 0)\n",
    "\n",
    "## Holidays\n",
    "df = df.merge(df_data['cal'], how='left', left_index=True, right_index=True, suffixes=('', '_y'))\n",
    "df.drop(df.filter(regex='_y$').columns, axis=1, inplace=True)"
   ],
   "metadata": {
    "collapsed": false,
    "pycharm": {
     "name": "#%%\n"
    }
   }
  },
  {
   "cell_type": "code",
   "execution_count": 9,
   "outputs": [],
   "source": [
    "## Oil\n",
    "df = df.merge(df_data['oil_mod'], how='left', left_index=True, right_index=True)"
   ],
   "metadata": {
    "collapsed": false,
    "pycharm": {
     "name": "#%%\n"
    }
   }
  },
  {
   "cell_type": "code",
   "execution_count": 10,
   "outputs": [],
   "source": [
    "df['year'] = df.index.get_level_values('date').year.astype('int')\n",
    "df['quarter'] = df.index.get_level_values('date').quarter.astype('int')\n",
    "df['day'] = df.index.get_level_values('date').day.astype('int')\n",
    "\n",
    "df['weekofyear'] = df.index.get_level_values('date').week.astype('int')\n",
    "df['dayofweek'] = df.index.get_level_values('date').day_of_week.astype('int')\n",
    "df['isweekend'] = df.dayofweek.apply(lambda x: 1 if x in (5,6) else 0)\n",
    "\n",
    "df['newyear'] = df.index.get_level_values('date').dayofyear == 1\n",
    "df['startschool'] = df.index.get_level_values('date').month.isin((4,5,8,9))\n",
    "df['weekend'] = df.index.get_level_values('date').dayofweek.isin((5,6))"
   ],
   "metadata": {
    "collapsed": false,
    "pycharm": {
     "name": "#%%\n"
    }
   }
  },
  {
   "cell_type": "code",
   "execution_count": 11,
   "outputs": [],
   "source": [
    "df['payday'] = ((df.index.get_level_values('date').to_timestamp().is_month_end) | (df.index.get_level_values('date').day == 15))\n",
    "\n",
    "quake_dates = [d.to_period('D') for d in pd.date_range('2016-04-16', periods=20, freq='D').tolist()]\n",
    "df['quake'] = df.index.get_level_values('date').isin(quake_dates)"
   ],
   "metadata": {
    "collapsed": false,
    "pycharm": {
     "name": "#%%\n"
    }
   }
  },
  {
   "cell_type": "code",
   "execution_count": 12,
   "outputs": [],
   "source": [
    "df = pd.get_dummies(df, columns=['year'], drop_first=True)\n",
    "df = pd.get_dummies(df, columns=['quarter'], drop_first=True)\n",
    "df = pd.get_dummies(df, columns=['dayofweek'], drop_first=True)\n",
    "\n",
    "df['wk_avg_promo'] = df['onpromotion'].rolling(7).mean()\n",
    "df['biwk_avh_promo'] = df['onpromotion'].rolling(14).mean()\n",
    "df['mnth_avg_promo'] = df['onpromotion'].rolling(30).mean()\n",
    "df['bimnth_avg_promo'] = df['onpromotion'].rolling(60).mean()\n",
    "\n",
    "df.drop(columns=['city', 'cluster', 'state', 'store'], inplace=True)"
   ],
   "metadata": {
    "collapsed": false,
    "pycharm": {
     "name": "#%%\n"
    }
   }
  },
  {
   "cell_type": "code",
   "execution_count": 13,
   "outputs": [],
   "source": [
    "from statsmodels.tsa.deterministic import DeterministicProcess\n",
    "from statsmodels.tsa.deterministic import CalendarFourier\n",
    "\n",
    "fourier_annual = CalendarFourier(freq='A', order=5)\n",
    "fourier_monthly = CalendarFourier(freq='M', order=2)\n",
    "fourier_weekly = CalendarFourier(freq='W', order=3)\n",
    "\n",
    "terms = [fourier_annual, fourier_monthly, fourier_weekly]\n",
    "\n",
    "dp = DeterministicProcess(index=df.index.get_level_values('date'),\n",
    "                          order=1,\n",
    "                          seasonal=True,\n",
    "                          constant=False,\n",
    "                          additional_terms=terms,\n",
    "                          drop=True)\n",
    "\n",
    "df_dp = dp.in_sample()\n",
    "df = pd.concat([df.reset_index(level=['store_nbr', 'family']), df_dp], axis=1)\n",
    "\n",
    "df = df.set_index(['store_nbr', 'family'], append=True)"
   ],
   "metadata": {
    "collapsed": false,
    "pycharm": {
     "name": "#%%\n"
    }
   }
  },
  {
   "cell_type": "code",
   "execution_count": 14,
   "outputs": [],
   "source": [
    "import time\n",
    "from datetime import datetime\n",
    "import matplotlib.pyplot as plt\n",
    "from tqdm.notebook import tqdm\n",
    "from sklearn.metrics import make_scorer\n",
    "from sklearn.metrics import mean_squared_log_error\n",
    "from IPython.core import display as ICD\n",
    "from upgini import FeaturesEnricher, SearchKey, ModelTaskType\n",
    "from upgini.metadata import CVType\n",
    "\n",
    "def _scorer(y_true, y_predicted):\n",
    "    y_true = np.exp(y_true)-1\n",
    "    y_predicted = np.exp(y_predicted)-1\n",
    "    return mean_squared_log_error(y_true, y_predicted, squared=False)\n",
    "\n",
    "scorer = make_scorer(_scorer, greater_is_better=False)\n",
    "\n",
    "def index_timeseries_train_test_split(df, date_index=False, date_format='%Y-%m-%d', earliest_train_date=None, split_date=None, last_test_date=None, verbose=True):\n",
    "    dates = df.index.get_level_values('date').to_timestamp()\n",
    "\n",
    "    if earliest_train_date:\n",
    "        earliest_train_datetime = datetime.strptime(earliest_train_date, date_format)\n",
    "        df = df.loc[[earliest_train_datetime<=date for date in dates]]\n",
    "        dates = df.index.get_level_values('date').to_timestamp()\n",
    "\n",
    "    if last_test_date:\n",
    "        last_test_datetime = datetime.strptime(last_test_date, date_format)\n",
    "        df = df.loc[[date<last_test_datetime for date in dates]]\n",
    "        dates = df.index.get_level_values('date').to_timestamp()\n",
    "\n",
    "    split_datetime = datetime.strptime(split_date, date_format)\n",
    "    train_dates = [date<split_datetime for date in dates]\n",
    "    test_dates = np.invert(train_dates)\n",
    "\n",
    "    train_df = df.loc[train_dates]\n",
    "    test_df =  df.loc[test_dates]\n",
    "\n",
    "    if verbose:\n",
    "        print('================================')\n",
    "        print('Training Dataset last rows')\n",
    "        ICD.display(train_df.tail(3))\n",
    "        print('================================')\n",
    "        print('Test Dataset first rows')\n",
    "        ICD.display(test_df.head(3))\n",
    "\n",
    "    return train_df, test_df\n",
    "\n",
    "\n",
    "def separate_X_and_y(df, target='sales'):\n",
    "    y = df[target].values\n",
    "    X = df.drop(columns=target)\n",
    "    return X, y\n",
    "\n",
    "\n",
    "def unstack_transformation(X, y, group_by='date', target='sales', levels=['store_nbr', 'family']):\n",
    "    df = X.copy()\n",
    "    df[target] = y\n",
    "    y = df.loc[:, target].unstack(levels)\n",
    "    X = df.drop(columns=[target]).groupby(by=group_by).first()\n",
    "    return X, y\n",
    "\n",
    "\n",
    "def create_sample_weights(X, target_date, weight=0.9):\n",
    "    extra_weight_days = X.index.get_level_values('date') > target_date\n",
    "    return np.array(list(map(lambda x: np.exp(-weight) if x == 0 else 1, extra_weight_days.astype('int'))))\n",
    "\n",
    "\n",
    "def get_closed_stores(df, last_days=15):\n",
    "    closed_stores_df = df.groupby(['family']).tail(last_days).groupby(['family'])['sales'].sum().reset_index()\n",
    "    closed_stores_df = closed_stores_df[closed_stores_df['sales'] == 0].drop('sales', axis = 1)\n",
    "    closed_stores_df = closed_stores_df[closed_stores_df['family'] != \"SCHOOL AND OFFICE SUPPLIES\"]\n",
    "    closed_stores_df = closed_stores_df.set_index(['family'])\n",
    "    closed_stores_df['closed'] = True\n",
    "    return closed_stores_df\n",
    "\n",
    "\n",
    "def apply_zero_forecasting(df, closed_stores_df):\n",
    "    df = df.merge(closed_stores_df, how='left',  left_index=True, right_index=True)\n",
    "    df.loc[df['closed']==True, 'sales']=0\n",
    "    df.drop(columns=['closed'], inplace=True)\n",
    "    return df\n",
    "\n",
    "\n",
    "def timeit(function):\n",
    "    def wrapper(*args, **kwargs):\n",
    "        ts = time.perf_counter()\n",
    "        func = function(*args, **kwargs)\n",
    "        te = time.perf_counter ()\n",
    "        run_time = time.perf_counter() - ts\n",
    "        print(f'Run Time: {run_time} secs')\n",
    "        return func\n",
    "    return wrapper\n",
    "\n",
    "\n",
    "def plot_feature_importance(feature_importances, feature_names):\n",
    "    feats = {} # a dict to hold feature_name: feature_importance\n",
    "    for feature, importance in zip(feature_names, feature_importances):\n",
    "        feats[feature] = importance #add the name/value pair\n",
    "\n",
    "    importances = pd.DataFrame.from_dict(feats, orient='index').rename(columns={0: 'Gini-importance'})\n",
    "    importances.sort_values(by='Gini-importance').plot(kind='bar').show()\n",
    "\n",
    "\n",
    "\n",
    "def plot_feature_elimination_score(min_features_to_select, grid_score):\n",
    "    plt.figure()\n",
    "    plt.xlabel('Number of features selected')\n",
    "    plt.ylabel('Cross validation score')\n",
    "    plt.plot(\n",
    "        range(min_features_to_select, len(grid_score) + min_features_to_select),\n",
    "        grid_score\n",
    "    )\n",
    "    plt.show()\n",
    "\n",
    "\n",
    "def plot_predition_timeseries(x, y_actual, y_pred):\n",
    "    df = pd.DataFrame()\n",
    "    df['date'], df['actual'], df['prediction'] = x, y_actual, y_pred\n",
    "    df = df.groupby(['date'], as_index=False).sum().reset_index()\n",
    "    df['date'] = df['date'].apply(lambda row: row.to_timestamp())\n",
    "    title = 'Actual vs Prediction'\n",
    "    df.plot.line(x='date', y=['actual', 'prediction'], title=title).show()\n",
    "\n",
    "\n",
    "def transform_prediction_to_df(X, y, prediction):\n",
    "    return pd.DataFrame(pd.DataFrame(prediction,\n",
    "                        index=X.index,\n",
    "                        columns=y.columns).stack(['store_nbr'])).rename(columns={0: 'sales'})\n",
    "\n",
    "\n",
    "def per_family_df_generator(train_df, test_df, verbose=False):\n",
    "    families = sorted(train_df.index.get_level_values('family').unique())\n",
    "    for _, family in zip(tqdm(range(len(families))), families):\n",
    "        if verbose:\n",
    "            print('='*40)\n",
    "            print(f'Family: {family}')\n",
    "        # Train DF\n",
    "        train_family_df = train_df[train_df.index.get_level_values('family')==family]\n",
    "        train_family_df.index = train_family_df.index.droplevel('family')\n",
    "        # Test DF\n",
    "        test_family_df = test_df[test_df.index.get_level_values('family')==family]\n",
    "        test_family_df.index = test_family_df.index.droplevel('family')\n",
    "        yield family, train_family_df, test_family_df"
   ],
   "metadata": {
    "collapsed": false,
    "pycharm": {
     "name": "#%%\n"
    }
   }
  },
  {
   "cell_type": "code",
   "execution_count": 15,
   "outputs": [],
   "source": [
    "class UpginiEnricher:\n",
    "    def __init__(self):\n",
    "        self.enricher = FeaturesEnricher(\n",
    "        search_keys={\n",
    "            \"date\": SearchKey.DATE\n",
    "        },\n",
    "        country_code = \"EC\",\n",
    "        model_task_type = ModelTaskType.REGRESSION,\n",
    "        cv = CVType.time_series,\n",
    "        )\n",
    "\n",
    "    def fit(self, df):\n",
    "        df = df.reset_index()[['date','sales']].groupby('date', as_index=False).mean()\n",
    "        y = df['sales'].values\n",
    "        X = df.drop(columns=['sales'])\n",
    "\n",
    "        self.enricher.fit(\n",
    "            X,\n",
    "            y,\n",
    "            calculate_metrics=True,\n",
    "            max_features=3)\n",
    "        return self\n",
    "\n",
    "    def transform(self, df):\n",
    "        return self.enricher.transform(df.copy().reset_index(),\n",
    "                                       keep_input=True,\n",
    "                                       max_features=4,\n",
    "                                    ).set_index(['date', 'store_nbr'])"
   ],
   "metadata": {
    "collapsed": false,
    "pycharm": {
     "name": "#%%\n"
    }
   }
  },
  {
   "cell_type": "code",
   "execution_count": 16,
   "outputs": [],
   "source": [
    "from sklearn.base import BaseEstimator, RegressorMixin\n",
    "from sklearn.metrics import mean_squared_log_error\n",
    "from sklearn.ensemble import BaggingRegressor, ExtraTreesRegressor\n",
    "from sklearn.multioutput import MultiOutputRegressor\n",
    "from sklearn.linear_model import LinearRegression\n",
    "\n",
    "\n",
    "class MultiOutBaggingExtraTreesRegressor(BaseEstimator, RegressorMixin):\n",
    "    def __init__(self,\n",
    "                extra_trees_n_estimators=200,\n",
    "                bagging_n_estimators=10,\n",
    "                log_target_transform=True,\n",
    "                multioutput=True,\n",
    "                n_jobs=-1,\n",
    "                random_state=42):\n",
    "        super().__init__()\n",
    "        _r1 = ExtraTreesRegressor(n_estimators=extra_trees_n_estimators,\n",
    "                                  n_jobs=n_jobs,\n",
    "                                  random_state=random_state)\n",
    "        _estimator = BaggingRegressor(base_estimator=_r1,\n",
    "                                      n_estimators=bagging_n_estimators,\n",
    "                                      bootstrap=True,\n",
    "                                      n_jobs=n_jobs,\n",
    "                                      random_state=random_state)\n",
    "        if multioutput:\n",
    "            _estimator = MultiOutputRegressor(_estimator)\n",
    "        self.estimator_ = _estimator\n",
    "        self.log_target_transform = log_target_transform\n",
    "        self.feature_importances_ = None\n",
    "        self.bagging_n_estimators = bagging_n_estimators\n",
    "        self.extra_trees_n_estimators = extra_trees_n_estimators\n",
    "        self.multioutput = multioutput\n",
    "        self.n_jobs = n_jobs\n",
    "        self.random_state = random_state\n",
    "\n",
    "    def fit(self, X, y, sample_weight=None):\n",
    "        if self.log_target_transform:\n",
    "            y = np.log1p(y)\n",
    "        self.estimator_.fit(X, y, sample_weight)\n",
    "\n",
    "        if self.multioutput:\n",
    "            feature_importances_ = []\n",
    "            for n_output_estimators in self.estimator_.estimators_:\n",
    "                feature_importances_.append(np.mean([\n",
    "                tree.feature_importances_ for tree in n_output_estimators.estimators_], axis=0))\n",
    "            self.feature_importances_ = np.mean(feature_importances_, axis=0)\n",
    "        else:\n",
    "            self.feature_importances_ = np.mean([\n",
    "                tree.feature_importances_ for tree in self.estimator_.estimators_], axis=0)\n",
    "\n",
    "        return self\n",
    "\n",
    "    def predict(self, X, y=None):\n",
    "        prediction = self.estimator_.predict(X)\n",
    "        if self.log_target_transform:\n",
    "            prediction = (np.exp(prediction)-1)\n",
    "        return prediction.clip(0)\n",
    "\n",
    "    def score(self, X, y):\n",
    "        prediction = self.predict(X, y)\n",
    "        return mean_squared_log_error(y, prediction, squared=False)"
   ],
   "metadata": {
    "collapsed": false,
    "pycharm": {
     "name": "#%%\n"
    }
   }
  },
  {
   "cell_type": "code",
   "execution_count": 17,
   "outputs": [],
   "source": [
    "from sklearn.metrics import mean_squared_log_error\n",
    "\n",
    "def family_prediction_generator(train_df, test_df, estimator_params={}, verbose=True):\n",
    "    for family, train_family_df, test_family_df in per_family_df_generator(train_df, test_df, verbose=verbose):\n",
    "\n",
    "        if family in ['LIQUOR,WINE,BEER', 'CLEANING']:\n",
    "            enricher = UpginiEnricher()\n",
    "            enricher.fit(train_family_df)\n",
    "            train_family_df = enricher.transform(train_family_df)\n",
    "            test_family_df = enricher.transform(test_family_df)\n",
    "\n",
    "        # =====================================\n",
    "        # Create multi-output (with unstack)\n",
    "        # =====================================\n",
    "        X_train, y_train = separate_X_and_y(train_family_df)\n",
    "        X_train, y_train = unstack_transformation(X_train, y_train, levels=['store_nbr'])\n",
    "        X_test, y_test = separate_X_and_y(test_family_df)\n",
    "        X_test, y_test = unstack_transformation(X_test, y_test, levels=['store_nbr'])\n",
    "\n",
    "        # =====================================\n",
    "        # Train\n",
    "        # =====================================\n",
    "        no_multiple_outputs = ['BABY CARE', 'GROCERY II','HOME AND KITCHEN I','HOME AND KITCHEN II', 'SCHOOL AND OFFICE SUPPLIES']\n",
    "        if family in no_multiple_outputs:\n",
    "            estimator = MultiOutBaggingExtraTreesRegressor(**estimator_params, multioutput=False)\n",
    "        else:\n",
    "            estimator = MultiOutBaggingExtraTreesRegressor(**estimator_params)\n",
    "\n",
    "        weights = create_sample_weights(X_train, '2017-07-01')\n",
    "        estimator.fit(X_train, y_train, sample_weight=weights)\n",
    "\n",
    "        feature_importances = estimator.feature_importances_\n",
    "        feature_names = X_train.columns\n",
    "        #plot_feature_importance(feature_importances, feature_names)\n",
    "\n",
    "        # =====================================\n",
    "        # Predictions (for Training & Test)\n",
    "        # =====================================\n",
    "        train_pred = estimator.predict(X_train)\n",
    "        train_pred_df = transform_prediction_to_df(X_train, y_train, train_pred)\n",
    "        train_pred_df['family'] = family\n",
    "        train_pred_df = train_pred_df.set_index('family', append=True)\n",
    "\n",
    "        test_pred = estimator.predict(X_test)\n",
    "        test_pred_df = transform_prediction_to_df(X_test, y_test, test_pred)\n",
    "        test_pred_df['family'] = family\n",
    "        test_pred_df = test_pred_df.set_index('family', append=True)\n",
    "\n",
    "        # =====================================\n",
    "        # Scoring\n",
    "        # =====================================\n",
    "        family_train_score = mean_squared_log_error(train_family_df['sales'].values,\n",
    "                                                    train_pred_df['sales'].values,\n",
    "                                                    squared=False)\n",
    "        if verbose:\n",
    "            print(f'RMSLE || TRAINING Score: {family_train_score}')\n",
    "\n",
    "        if not any(np.isnan(test_family_df['sales'].values)):\n",
    "            # Print score only in evaluation\n",
    "            family_test_score = mean_squared_log_error(test_family_df['sales'].values,\n",
    "                                                       test_pred_df['sales'].values,\n",
    "                                                       squared=False)\n",
    "            if verbose:\n",
    "                print(f'RMSLE || TEST Score: {family_test_score}')\n",
    "        yield train_pred_df, test_pred_df"
   ],
   "metadata": {
    "collapsed": false,
    "pycharm": {
     "name": "#%%\n"
    }
   }
  },
  {
   "cell_type": "code",
   "execution_count": 18,
   "outputs": [],
   "source": [
    "train_df, test_df = index_timeseries_train_test_split(df=df,\n",
    "                                                      date_index='date',\n",
    "                                                      date_format='%Y-%m-%d',\n",
    "                                                      earliest_train_date='2013-03-01',\n",
    "                                                      split_date='2017-07-15', # '2016-08-01',\n",
    "                                                      last_test_date='2017-08-01',  #'2016-09-15',\n",
    "                                                      verbose=False)"
   ],
   "metadata": {
    "collapsed": false,
    "pycharm": {
     "name": "#%%\n"
    }
   }
  },
  {
   "cell_type": "code",
   "execution_count": 20,
   "outputs": [
    {
     "data": {
      "text/plain": "  0%|          | 0/33 [00:00<?, ?it/s]",
      "application/vnd.jupyter.widget-view+json": {
       "version_major": 2,
       "version_minor": 0,
       "model_id": "55c334ef5d7c4f3ab5eb9653616d1dda"
      }
     },
     "metadata": {},
     "output_type": "display_data"
    },
    {
     "name": "stdout",
     "output_type": "stream",
     "text": [
      "========================================\n",
      "Family: AUTOMOTIVE\n",
      "RMSLE || TRAINING Score: 0.2402763045347676\n",
      "RMSLE || TEST Score: 0.5088356014593546\n",
      "========================================\n",
      "Family: BABY CARE\n",
      "RMSLE || TRAINING Score: 0.08458465450116415\n",
      "RMSLE || TEST Score: 0.2983051692571459\n",
      "========================================\n",
      "Family: BEAUTY\n",
      "RMSLE || TRAINING Score: 0.21387906404430582\n",
      "RMSLE || TEST Score: 0.5038332257124054\n",
      "========================================\n",
      "Family: BEVERAGES\n",
      "RMSLE || TRAINING Score: 0.1280445070103752\n",
      "RMSLE || TEST Score: 0.20474457696268664\n",
      "========================================\n",
      "Family: BOOKS\n",
      "RMSLE || TRAINING Score: 0.05765217833369131\n",
      "RMSLE || TEST Score: 0.14214367700742941\n",
      "========================================\n",
      "Family: BREAD/BAKERY\n",
      "RMSLE || TRAINING Score: 0.10542216411618979\n",
      "RMSLE || TEST Score: 0.1649985593328745\n",
      "========================================\n",
      "Family: CELEBRATION\n",
      "RMSLE || TRAINING Score: 0.19812098645683798\n",
      "RMSLE || TEST Score: 0.5749634288597429\n",
      "========================================\n",
      "Family: CLEANING\n"
     ]
    },
    {
     "data": {
      "text/plain": "<IPython.core.display.HTML object>",
      "text/html": "<table><tr><th style='font-weight:bold'>Column name</th><th style='font-weight:bold'>Status</th><th style='font-weight:bold'>Description</th></tr><tr><td>country_iso_code</td><td style='background-color:#DAF7A6;color:black'>All valid</td><td>All values in this column are good to go</td></tr><tr><td>date</td><td style='background-color:#DAF7A6;color:black'>All valid</td><td>All values in this column are good to go</td></tr><tr><td>target</td><td style='background-color:#DAF7A6;color:black'>All valid</td><td>All values in this column are good to go</td></tr></table>"
     },
     "metadata": {},
     "output_type": "display_data"
    },
    {
     "name": "stdout",
     "output_type": "stream",
     "text": [
      "WARNING: You use 1.1.55 version, but latest is 1.1.65.\n",
      "Running search request with search_id=085302cd-5ba1-431b-a8b7-6cd4445dd322\n",
      "We'll send email notification once it's completed, just use your personal api_key from profile.upgini.com\n",
      "Done\n",
      "\n",
      "\u001B[92m\u001B[1m\n",
      "8 relevant feature(s) found with the search keys: ['date', 'country_iso_code']\u001B[0m\n"
     ]
    },
    {
     "name": "stderr",
     "output_type": "stream",
     "text": [
      "/Users/jarret/opt/anaconda3/envs/CSCI-567-FinalProject/lib/python3.10/site-packages/upgini/features_enricher.py:1476: FutureWarning: this method is deprecated in favour of `Styler.hide(axis=\"index\")`\n",
      "  display(self.features_info.head(60).style.hide_index())\n"
     ]
    },
    {
     "data": {
      "text/plain": "<pandas.io.formats.style.Styler at 0x2b36264a0>",
      "text/html": "<style type=\"text/css\">\n</style>\n<table id=\"T_02efb\">\n  <thead>\n    <tr>\n      <th id=\"T_02efb_level0_col0\" class=\"col_heading level0 col0\" >provider</th>\n      <th id=\"T_02efb_level0_col1\" class=\"col_heading level0 col1\" >source</th>\n      <th id=\"T_02efb_level0_col2\" class=\"col_heading level0 col2\" >feature name</th>\n      <th id=\"T_02efb_level0_col3\" class=\"col_heading level0 col3\" >shap value</th>\n      <th id=\"T_02efb_level0_col4\" class=\"col_heading level0 col4\" >coverage %</th>\n      <th id=\"T_02efb_level0_col5\" class=\"col_heading level0 col5\" >type</th>\n      <th id=\"T_02efb_level0_col6\" class=\"col_heading level0 col6\" >feature type</th>\n    </tr>\n  </thead>\n  <tbody>\n    <tr>\n      <td id=\"T_02efb_row0_col0\" class=\"data row0 col0\" ><a href='https://upgini.com/#data_sources' target='_blank' rel='noopener noreferrer'>Upgini</a></td>\n      <td id=\"T_02efb_row0_col1\" class=\"data row0 col1\" ><a href='https://upgini.com/#data_sources' target='_blank' rel='noopener noreferrer'>Public/Comm. shared</a></td>\n      <td id=\"T_02efb_row0_col2\" class=\"data row0 col2\" >f_events_date_week_sin1_847b5db1</td>\n      <td id=\"T_02efb_row0_col3\" class=\"data row0 col3\" >0.433022</td>\n      <td id=\"T_02efb_row0_col4\" class=\"data row0 col4\" >100.000000</td>\n      <td id=\"T_02efb_row0_col5\" class=\"data row0 col5\" >numerical</td>\n      <td id=\"T_02efb_row0_col6\" class=\"data row0 col6\" >Free</td>\n    </tr>\n    <tr>\n      <td id=\"T_02efb_row1_col0\" class=\"data row1 col0\" ><a href='https://upgini.com/#data_sources' target='_blank' rel='noopener noreferrer'>Upgini</a></td>\n      <td id=\"T_02efb_row1_col1\" class=\"data row1 col1\" ><a href='https://upgini.com/#data_sources' target='_blank' rel='noopener noreferrer'>Public/Comm. shared</a></td>\n      <td id=\"T_02efb_row1_col2\" class=\"data row1 col2\" >f_events_date_month_cos1_175991a9</td>\n      <td id=\"T_02efb_row1_col3\" class=\"data row1 col3\" >0.124421</td>\n      <td id=\"T_02efb_row1_col4\" class=\"data row1 col4\" >100.000000</td>\n      <td id=\"T_02efb_row1_col5\" class=\"data row1 col5\" >numerical</td>\n      <td id=\"T_02efb_row1_col6\" class=\"data row1 col6\" >Free</td>\n    </tr>\n    <tr>\n      <td id=\"T_02efb_row2_col0\" class=\"data row2 col0\" ><a href='https://upgini.com/#data_sources' target='_blank' rel='noopener noreferrer'>Upgini</a></td>\n      <td id=\"T_02efb_row2_col1\" class=\"data row2 col1\" ><a href='https://upgini.com/#data_sources' target='_blank' rel='noopener noreferrer'>Public/Comm. shared</a></td>\n      <td id=\"T_02efb_row2_col2\" class=\"data row2 col2\" >f_events_country_date_holiday_code_9a141884</td>\n      <td id=\"T_02efb_row2_col3\" class=\"data row2 col3\" >0.058508</td>\n      <td id=\"T_02efb_row2_col4\" class=\"data row2 col4\" >100.000000</td>\n      <td id=\"T_02efb_row2_col5\" class=\"data row2 col5\" >numerical</td>\n      <td id=\"T_02efb_row2_col6\" class=\"data row2 col6\" >Free</td>\n    </tr>\n    <tr>\n      <td id=\"T_02efb_row3_col0\" class=\"data row3 col0\" ><a href='https://upgini.com/#data_sources' target='_blank' rel='noopener noreferrer'>Upgini</a></td>\n      <td id=\"T_02efb_row3_col1\" class=\"data row3 col1\" ><a href='https://upgini.com/#data_sources' target='_blank' rel='noopener noreferrer'>Public/Comm. shared</a></td>\n      <td id=\"T_02efb_row3_col2\" class=\"data row3 col2\" >f_financial_date_gold_3295eb6b</td>\n      <td id=\"T_02efb_row3_col3\" class=\"data row3 col3\" >0.039789</td>\n      <td id=\"T_02efb_row3_col4\" class=\"data row3 col4\" >100.000000</td>\n      <td id=\"T_02efb_row3_col5\" class=\"data row3 col5\" >numerical</td>\n      <td id=\"T_02efb_row3_col6\" class=\"data row3 col6\" >Free</td>\n    </tr>\n    <tr>\n      <td id=\"T_02efb_row4_col0\" class=\"data row4 col0\" ><a href='https://upgini.com/#data_sources' target='_blank' rel='noopener noreferrer'>Upgini</a></td>\n      <td id=\"T_02efb_row4_col1\" class=\"data row4 col1\" ><a href='https://upgini.com/#data_sources' target='_blank' rel='noopener noreferrer'>Public/Comm. shared</a></td>\n      <td id=\"T_02efb_row4_col2\" class=\"data row4 col2\" >f_events_country_date_days_from_holiday_93c12a82</td>\n      <td id=\"T_02efb_row4_col3\" class=\"data row4 col3\" >0.034954</td>\n      <td id=\"T_02efb_row4_col4\" class=\"data row4 col4\" >100.000000</td>\n      <td id=\"T_02efb_row4_col5\" class=\"data row4 col5\" >numerical</td>\n      <td id=\"T_02efb_row4_col6\" class=\"data row4 col6\" >Free</td>\n    </tr>\n    <tr>\n      <td id=\"T_02efb_row5_col0\" class=\"data row5 col0\" ><a href='https://upgini.com/#data_sources' target='_blank' rel='noopener noreferrer'>Upgini</a></td>\n      <td id=\"T_02efb_row5_col1\" class=\"data row5 col1\" ><a href='https://upgini.com/#data_sources' target='_blank' rel='noopener noreferrer'>Public/Comm. shared</a></td>\n      <td id=\"T_02efb_row5_col2\" class=\"data row5 col2\" >f_events_date_month_sin1_51d9011f</td>\n      <td id=\"T_02efb_row5_col3\" class=\"data row5 col3\" >0.029425</td>\n      <td id=\"T_02efb_row5_col4\" class=\"data row5 col4\" >100.000000</td>\n      <td id=\"T_02efb_row5_col5\" class=\"data row5 col5\" >numerical</td>\n      <td id=\"T_02efb_row5_col6\" class=\"data row5 col6\" >Free</td>\n    </tr>\n    <tr>\n      <td id=\"T_02efb_row6_col0\" class=\"data row6 col0\" ><a href='https://upgini.com/#data_sources' target='_blank' rel='noopener noreferrer'>Upgini</a></td>\n      <td id=\"T_02efb_row6_col1\" class=\"data row6 col1\" ><a href='https://upgini.com/#data_sources' target='_blank' rel='noopener noreferrer'>Public/Comm. shared</a></td>\n      <td id=\"T_02efb_row6_col2\" class=\"data row6 col2\" >f_events_date_month_sin2_75888cbd</td>\n      <td id=\"T_02efb_row6_col3\" class=\"data row6 col3\" >0.027525</td>\n      <td id=\"T_02efb_row6_col4\" class=\"data row6 col4\" >100.000000</td>\n      <td id=\"T_02efb_row6_col5\" class=\"data row6 col5\" >numerical</td>\n      <td id=\"T_02efb_row6_col6\" class=\"data row6 col6\" >Free</td>\n    </tr>\n    <tr>\n      <td id=\"T_02efb_row7_col0\" class=\"data row7 col0\" ><a href='https://upgini.com/#data_sources' target='_blank' rel='noopener noreferrer'>Upgini</a></td>\n      <td id=\"T_02efb_row7_col1\" class=\"data row7 col1\" ><a href='https://upgini.com/#data_sources' target='_blank' rel='noopener noreferrer'>Public/Comm. shared</a></td>\n      <td id=\"T_02efb_row7_col2\" class=\"data row7 col2\" >f_financial_date_crude_oil_a27b1766</td>\n      <td id=\"T_02efb_row7_col3\" class=\"data row7 col3\" >0.025713</td>\n      <td id=\"T_02efb_row7_col4\" class=\"data row7 col4\" >100.000000</td>\n      <td id=\"T_02efb_row7_col5\" class=\"data row7 col5\" >numerical</td>\n      <td id=\"T_02efb_row7_col6\" class=\"data row7 col6\" >Free</td>\n    </tr>\n  </tbody>\n</table>\n"
     },
     "metadata": {},
     "output_type": "display_data"
    },
    {
     "name": "stdout",
     "output_type": "stream",
     "text": [
      "Calculating metrics...\n",
      "Done\n",
      "\u001B[92m\u001B[1m\n",
      "Quality metrics\u001B[0m\n"
     ]
    },
    {
     "data": {
      "text/plain": "       match_rate  enriched mean_squared_error\n                                              \ntrain       100.0                 53258.063374",
      "text/html": "<div>\n<style scoped>\n    .dataframe tbody tr th:only-of-type {\n        vertical-align: middle;\n    }\n\n    .dataframe tbody tr th {\n        vertical-align: top;\n    }\n\n    .dataframe thead th {\n        text-align: right;\n    }\n</style>\n<table border=\"1\" class=\"dataframe\">\n  <thead>\n    <tr style=\"text-align: right;\">\n      <th></th>\n      <th>match_rate</th>\n      <th>enriched mean_squared_error</th>\n    </tr>\n    <tr>\n      <th></th>\n      <th></th>\n      <th></th>\n    </tr>\n  </thead>\n  <tbody>\n    <tr>\n      <th>train</th>\n      <td>100.0</td>\n      <td>53258.063374</td>\n    </tr>\n  </tbody>\n</table>\n</div>"
     },
     "metadata": {},
     "output_type": "display_data"
    },
    {
     "name": "stdout",
     "output_type": "stream",
     "text": [
      "WARNING: 98.14815% of the rows are fully duplicated.\n"
     ]
    },
    {
     "data": {
      "text/plain": "<IPython.core.display.HTML object>",
      "text/html": "<table><tr><th style='font-weight:bold'>Column name</th><th style='font-weight:bold'>Status</th><th style='font-weight:bold'>Description</th></tr><tr><td>country_iso_code</td><td style='background-color:#DAF7A6;color:black'>All valid</td><td>All values in this column are good to go</td></tr><tr><td>date</td><td style='background-color:#DAF7A6;color:black'>All valid</td><td>All values in this column are good to go</td></tr></table>"
     },
     "metadata": {},
     "output_type": "display_data"
    },
    {
     "name": "stdout",
     "output_type": "stream",
     "text": [
      "Running search request with search_id=61d10911-2552-4e30-997b-d1dc5dac6e02\n",
      "We'll send email notification once it's completed, just use your personal api_key from profile.upgini.com\n",
      "Done\n",
      "\n",
      "Collecting selected features...\n",
      "Done\n",
      "WARNING: 98.14815% of the rows are fully duplicated.\n"
     ]
    },
    {
     "data": {
      "text/plain": "<IPython.core.display.HTML object>",
      "text/html": "<table><tr><th style='font-weight:bold'>Column name</th><th style='font-weight:bold'>Status</th><th style='font-weight:bold'>Description</th></tr><tr><td>country_iso_code</td><td style='background-color:#DAF7A6;color:black'>All valid</td><td>All values in this column are good to go</td></tr><tr><td>date</td><td style='background-color:#DAF7A6;color:black'>All valid</td><td>All values in this column are good to go</td></tr></table>"
     },
     "metadata": {},
     "output_type": "display_data"
    },
    {
     "name": "stdout",
     "output_type": "stream",
     "text": [
      "Running search request with search_id=a6ddd4c5-cfa5-471c-8c36-1031e73dba64\n",
      "We'll send email notification once it's completed, just use your personal api_key from profile.upgini.com\n",
      "Done\n",
      "\n",
      "Collecting selected features...\n",
      "Done\n",
      "RMSLE || TRAINING Score: 0.11571416143040131\n",
      "RMSLE || TEST Score: 0.3380585992582594\n",
      "========================================\n",
      "Family: DAIRY\n",
      "RMSLE || TRAINING Score: 0.10942675451479848\n",
      "RMSLE || TEST Score: 0.14942189565322586\n",
      "========================================\n",
      "Family: DELI\n",
      "RMSLE || TRAINING Score: 0.10352123980632115\n",
      "RMSLE || TEST Score: 0.17351379833074862\n",
      "========================================\n",
      "Family: EGGS\n",
      "RMSLE || TRAINING Score: 0.14217365944199387\n",
      "RMSLE || TEST Score: 0.3053013003708594\n",
      "========================================\n",
      "Family: FROZEN FOODS\n",
      "RMSLE || TRAINING Score: 0.16091781204818706\n",
      "RMSLE || TEST Score: 0.4058628096593372\n",
      "========================================\n",
      "Family: GROCERY I\n",
      "RMSLE || TRAINING Score: 0.13100930030287838\n",
      "RMSLE || TEST Score: 0.16094903530214807\n",
      "========================================\n",
      "Family: GROCERY II\n",
      "RMSLE || TRAINING Score: 0.24437476997035515\n",
      "RMSLE || TEST Score: 0.6577124775192458\n",
      "========================================\n",
      "Family: HARDWARE\n",
      "RMSLE || TRAINING Score: 0.2294520999005471\n",
      "RMSLE || TEST Score: 0.5719941351171565\n",
      "========================================\n",
      "Family: HOME AND KITCHEN I\n",
      "RMSLE || TRAINING Score: 0.23552303185220447\n",
      "RMSLE || TEST Score: 0.45858744811236146\n",
      "========================================\n",
      "Family: HOME AND KITCHEN II\n",
      "RMSLE || TRAINING Score: 0.18732617501105084\n",
      "RMSLE || TEST Score: 0.46425450944937713\n",
      "========================================\n",
      "Family: HOME APPLIANCES\n",
      "RMSLE || TRAINING Score: 0.16251120516737774\n",
      "RMSLE || TEST Score: 0.42044738897417544\n",
      "========================================\n",
      "Family: HOME CARE\n",
      "RMSLE || TRAINING Score: 0.1409845234856763\n",
      "RMSLE || TEST Score: 0.21750993433430843\n",
      "========================================\n",
      "Family: LADIESWEAR\n",
      "RMSLE || TRAINING Score: 0.16444738856853988\n",
      "RMSLE || TEST Score: 0.48760417641165466\n",
      "========================================\n",
      "Family: LAWN AND GARDEN\n",
      "RMSLE || TRAINING Score: 0.221973769084161\n",
      "RMSLE || TEST Score: 0.49605433342686006\n",
      "========================================\n",
      "Family: LINGERIE\n",
      "RMSLE || TRAINING Score: 0.26973089642139225\n",
      "RMSLE || TEST Score: 0.659708302910503\n",
      "========================================\n",
      "Family: LIQUOR,WINE,BEER\n"
     ]
    },
    {
     "data": {
      "text/plain": "<IPython.core.display.HTML object>",
      "text/html": "<table><tr><th style='font-weight:bold'>Column name</th><th style='font-weight:bold'>Status</th><th style='font-weight:bold'>Description</th></tr><tr><td>country_iso_code</td><td style='background-color:#DAF7A6;color:black'>All valid</td><td>All values in this column are good to go</td></tr><tr><td>date</td><td style='background-color:#DAF7A6;color:black'>All valid</td><td>All values in this column are good to go</td></tr><tr><td>target</td><td style='background-color:#DAF7A6;color:black'>All valid</td><td>All values in this column are good to go</td></tr></table>"
     },
     "metadata": {},
     "output_type": "display_data"
    },
    {
     "name": "stdout",
     "output_type": "stream",
     "text": [
      "WARNING: You use 1.1.55 version, but latest is 1.1.65.\n",
      "Running search request with search_id=2bc8cc68-e7bc-477e-9eef-4fe5dd4dfc67\n",
      "We'll send email notification once it's completed, just use your personal api_key from profile.upgini.com\n",
      "Done\n",
      "\n",
      "\u001B[92m\u001B[1m\n",
      "5 relevant feature(s) found with the search keys: ['date', 'country_iso_code']\u001B[0m\n"
     ]
    },
    {
     "name": "stderr",
     "output_type": "stream",
     "text": [
      "/Users/jarret/opt/anaconda3/envs/CSCI-567-FinalProject/lib/python3.10/site-packages/upgini/features_enricher.py:1476: FutureWarning: this method is deprecated in favour of `Styler.hide(axis=\"index\")`\n",
      "  display(self.features_info.head(60).style.hide_index())\n"
     ]
    },
    {
     "data": {
      "text/plain": "<pandas.io.formats.style.Styler at 0x2b364bdf0>",
      "text/html": "<style type=\"text/css\">\n</style>\n<table id=\"T_30152\">\n  <thead>\n    <tr>\n      <th id=\"T_30152_level0_col0\" class=\"col_heading level0 col0\" >provider</th>\n      <th id=\"T_30152_level0_col1\" class=\"col_heading level0 col1\" >source</th>\n      <th id=\"T_30152_level0_col2\" class=\"col_heading level0 col2\" >feature name</th>\n      <th id=\"T_30152_level0_col3\" class=\"col_heading level0 col3\" >shap value</th>\n      <th id=\"T_30152_level0_col4\" class=\"col_heading level0 col4\" >coverage %</th>\n      <th id=\"T_30152_level0_col5\" class=\"col_heading level0 col5\" >type</th>\n      <th id=\"T_30152_level0_col6\" class=\"col_heading level0 col6\" >feature type</th>\n    </tr>\n  </thead>\n  <tbody>\n    <tr>\n      <td id=\"T_30152_row0_col0\" class=\"data row0 col0\" ><a href='https://upgini.com/#data_sources' target='_blank' rel='noopener noreferrer'>Upgini</a></td>\n      <td id=\"T_30152_row0_col1\" class=\"data row0 col1\" ><a href='https://upgini.com/#data_sources' target='_blank' rel='noopener noreferrer'>Public/Comm. shared</a></td>\n      <td id=\"T_30152_row0_col2\" class=\"data row0 col2\" >f_events_country_date_holiday_code_3d_ahead_2015c9e5</td>\n      <td id=\"T_30152_row0_col3\" class=\"data row0 col3\" >0.732936</td>\n      <td id=\"T_30152_row0_col4\" class=\"data row0 col4\" >100.000000</td>\n      <td id=\"T_30152_row0_col5\" class=\"data row0 col5\" >numerical</td>\n      <td id=\"T_30152_row0_col6\" class=\"data row0 col6\" >Free</td>\n    </tr>\n    <tr>\n      <td id=\"T_30152_row1_col0\" class=\"data row1 col0\" ><a href='https://upgini.com/#data_sources' target='_blank' rel='noopener noreferrer'>Upgini</a></td>\n      <td id=\"T_30152_row1_col1\" class=\"data row1 col1\" ><a href='https://upgini.com/#data_sources' target='_blank' rel='noopener noreferrer'>Public/Comm. shared</a></td>\n      <td id=\"T_30152_row1_col2\" class=\"data row1 col2\" >f_events_country_date_month_86063673</td>\n      <td id=\"T_30152_row1_col3\" class=\"data row1 col3\" >0.026309</td>\n      <td id=\"T_30152_row1_col4\" class=\"data row1 col4\" >100.000000</td>\n      <td id=\"T_30152_row1_col5\" class=\"data row1 col5\" >numerical</td>\n      <td id=\"T_30152_row1_col6\" class=\"data row1 col6\" >Free</td>\n    </tr>\n    <tr>\n      <td id=\"T_30152_row2_col0\" class=\"data row2 col0\" ><a href='https://upgini.com/#data_sources' target='_blank' rel='noopener noreferrer'>Upgini</a></td>\n      <td id=\"T_30152_row2_col1\" class=\"data row2 col1\" ><a href='https://upgini.com/#data_sources' target='_blank' rel='noopener noreferrer'>Public/Comm. shared</a></td>\n      <td id=\"T_30152_row2_col2\" class=\"data row2 col2\" >f_events_date_week_sin2_e28440a5</td>\n      <td id=\"T_30152_row2_col3\" class=\"data row2 col3\" >0.023122</td>\n      <td id=\"T_30152_row2_col4\" class=\"data row2 col4\" >100.000000</td>\n      <td id=\"T_30152_row2_col5\" class=\"data row2 col5\" >numerical</td>\n      <td id=\"T_30152_row2_col6\" class=\"data row2 col6\" >Free</td>\n    </tr>\n    <tr>\n      <td id=\"T_30152_row3_col0\" class=\"data row3 col0\" ><a href='https://upgini.com/#data_sources' target='_blank' rel='noopener noreferrer'>Upgini</a></td>\n      <td id=\"T_30152_row3_col1\" class=\"data row3 col1\" ><a href='https://upgini.com/#data_sources' target='_blank' rel='noopener noreferrer'>Public/Comm. shared</a></td>\n      <td id=\"T_30152_row3_col2\" class=\"data row3 col2\" >f_events_date_year_cos1_9014a856</td>\n      <td id=\"T_30152_row3_col3\" class=\"data row3 col3\" >0.023064</td>\n      <td id=\"T_30152_row3_col4\" class=\"data row3 col4\" >100.000000</td>\n      <td id=\"T_30152_row3_col5\" class=\"data row3 col5\" >numerical</td>\n      <td id=\"T_30152_row3_col6\" class=\"data row3 col6\" >Free</td>\n    </tr>\n    <tr>\n      <td id=\"T_30152_row4_col0\" class=\"data row4 col0\" ><a href='https://upgini.com/#data_sources' target='_blank' rel='noopener noreferrer'>Upgini</a></td>\n      <td id=\"T_30152_row4_col1\" class=\"data row4 col1\" ><a href='https://upgini.com/#data_sources' target='_blank' rel='noopener noreferrer'>Public/Comm. shared</a></td>\n      <td id=\"T_30152_row4_col2\" class=\"data row4 col2\" >f_economic_country_date_capital_goods_industrial_f4bb6132</td>\n      <td id=\"T_30152_row4_col3\" class=\"data row4 col3\" >0.018155</td>\n      <td id=\"T_30152_row4_col4\" class=\"data row4 col4\" >100.000000</td>\n      <td id=\"T_30152_row4_col5\" class=\"data row4 col5\" >numerical</td>\n      <td id=\"T_30152_row4_col6\" class=\"data row4 col6\" >Free</td>\n    </tr>\n  </tbody>\n</table>\n"
     },
     "metadata": {},
     "output_type": "display_data"
    },
    {
     "name": "stdout",
     "output_type": "stream",
     "text": [
      "Calculating metrics...\n",
      "Done\n",
      "\u001B[92m\u001B[1m\n",
      "Quality metrics\u001B[0m\n"
     ]
    },
    {
     "data": {
      "text/plain": "       match_rate  enriched mean_squared_error\n                                              \ntrain       100.0                  1811.071926",
      "text/html": "<div>\n<style scoped>\n    .dataframe tbody tr th:only-of-type {\n        vertical-align: middle;\n    }\n\n    .dataframe tbody tr th {\n        vertical-align: top;\n    }\n\n    .dataframe thead th {\n        text-align: right;\n    }\n</style>\n<table border=\"1\" class=\"dataframe\">\n  <thead>\n    <tr style=\"text-align: right;\">\n      <th></th>\n      <th>match_rate</th>\n      <th>enriched mean_squared_error</th>\n    </tr>\n    <tr>\n      <th></th>\n      <th></th>\n      <th></th>\n    </tr>\n  </thead>\n  <tbody>\n    <tr>\n      <th>train</th>\n      <td>100.0</td>\n      <td>1811.071926</td>\n    </tr>\n  </tbody>\n</table>\n</div>"
     },
     "metadata": {},
     "output_type": "display_data"
    },
    {
     "name": "stdout",
     "output_type": "stream",
     "text": [
      "WARNING: 98.14815% of the rows are fully duplicated.\n"
     ]
    },
    {
     "data": {
      "text/plain": "<IPython.core.display.HTML object>",
      "text/html": "<table><tr><th style='font-weight:bold'>Column name</th><th style='font-weight:bold'>Status</th><th style='font-weight:bold'>Description</th></tr><tr><td>country_iso_code</td><td style='background-color:#DAF7A6;color:black'>All valid</td><td>All values in this column are good to go</td></tr><tr><td>date</td><td style='background-color:#DAF7A6;color:black'>All valid</td><td>All values in this column are good to go</td></tr></table>"
     },
     "metadata": {},
     "output_type": "display_data"
    },
    {
     "name": "stdout",
     "output_type": "stream",
     "text": [
      "Running search request with search_id=3b6d58e3-1cf7-4206-8431-e31be20ece58\n",
      "We'll send email notification once it's completed, just use your personal api_key from profile.upgini.com\n",
      "Done\n",
      "\n",
      "Collecting selected features...\n",
      "Done\n",
      "WARNING: 98.14815% of the rows are fully duplicated.\n"
     ]
    },
    {
     "data": {
      "text/plain": "<IPython.core.display.HTML object>",
      "text/html": "<table><tr><th style='font-weight:bold'>Column name</th><th style='font-weight:bold'>Status</th><th style='font-weight:bold'>Description</th></tr><tr><td>country_iso_code</td><td style='background-color:#DAF7A6;color:black'>All valid</td><td>All values in this column are good to go</td></tr><tr><td>date</td><td style='background-color:#DAF7A6;color:black'>All valid</td><td>All values in this column are good to go</td></tr></table>"
     },
     "metadata": {},
     "output_type": "display_data"
    },
    {
     "name": "stdout",
     "output_type": "stream",
     "text": [
      "Running search request with search_id=636e2a46-3a32-4651-94de-6bef0250be6e\n",
      "We'll send email notification once it's completed, just use your personal api_key from profile.upgini.com\n",
      "Done\n",
      "\n",
      "Collecting selected features...\n",
      "Done\n",
      "RMSLE || TRAINING Score: 0.3240668325798615\n",
      "RMSLE || TEST Score: 0.5332175286732441\n",
      "========================================\n",
      "Family: MAGAZINES\n",
      "RMSLE || TRAINING Score: 0.17572440740535689\n",
      "RMSLE || TEST Score: 0.5103513187971324\n",
      "========================================\n",
      "Family: MEATS\n",
      "RMSLE || TRAINING Score: 0.11748987983201718\n",
      "RMSLE || TEST Score: 0.18650998648101225\n",
      "========================================\n",
      "Family: PERSONAL CARE\n",
      "RMSLE || TRAINING Score: 0.12077687078948304\n",
      "RMSLE || TEST Score: 0.22819562637992907\n",
      "========================================\n",
      "Family: PET SUPPLIES\n",
      "RMSLE || TRAINING Score: 0.16640449730093948\n",
      "RMSLE || TEST Score: 0.5000028967039544\n",
      "========================================\n",
      "Family: PLAYERS AND ELECTRONICS\n",
      "RMSLE || TRAINING Score: 0.1789956993370156\n",
      "RMSLE || TEST Score: 0.49256560865285104\n",
      "========================================\n",
      "Family: POULTRY\n",
      "RMSLE || TRAINING Score: 0.12630387033787846\n",
      "RMSLE || TEST Score: 0.20846334372663525\n",
      "========================================\n",
      "Family: PREPARED FOODS\n",
      "RMSLE || TRAINING Score: 0.13572571124494462\n",
      "RMSLE || TEST Score: 0.2808065697948657\n",
      "========================================\n",
      "Family: PRODUCE\n",
      "RMSLE || TRAINING Score: 0.19638685746645784\n",
      "RMSLE || TEST Score: 0.148498053655869\n",
      "========================================\n",
      "Family: SCHOOL AND OFFICE SUPPLIES\n",
      "RMSLE || TRAINING Score: 0.1584160661630399\n",
      "RMSLE || TEST Score: 0.8744257853133154\n",
      "========================================\n",
      "Family: SEAFOOD\n",
      "RMSLE || TRAINING Score: 0.209486610860142\n",
      "RMSLE || TEST Score: 0.5216002570649078\n",
      "CPU times: user 37.1 s, sys: 17.3 s, total: 54.3 s\n",
      "Wall time: 9min 48s\n"
     ]
    }
   ],
   "source": [
    "%%time\n",
    "# NOTE: Only for notebook run in Kaggle I decreased the numbers in model in order\n",
    "# to have a quicker run.\n",
    "estimator_params = {\n",
    "                    'extra_trees_n_estimators': 15,\n",
    "                    'bagging_n_estimators': 15,\n",
    "    }\n",
    "\n",
    "training_total_pred_df = pd.DataFrame()\n",
    "test_total_pred_df = pd.DataFrame()\n",
    "for train_pred_df, test_pred_df in family_prediction_generator(train_df, test_df, estimator_params):\n",
    "    # Keep prediction for later plotting\n",
    "    training_total_pred_df = pd.concat([training_total_pred_df, train_pred_df])\n",
    "    test_total_pred_df = pd.concat([test_total_pred_df, test_pred_df])"
   ],
   "metadata": {
    "collapsed": false,
    "pycharm": {
     "name": "#%%\n"
    }
   }
  },
  {
   "cell_type": "code",
   "execution_count": 22,
   "outputs": [
    {
     "name": "stdout",
     "output_type": "stream",
     "text": [
      "===> Print All stores Training Prediction\n",
      "===> Print All stores Test Prediction\n",
      "RMSLE || TRAINING Score: 0.1778913458624602 | TEST Score: 0.43016112367140596\n"
     ]
    }
   ],
   "source": [
    "print('===> Print All stores Training Prediction')\n",
    "training_total_pred_df = training_total_pred_df.sort_values(['date', 'store_nbr', 'family'])\n",
    "training_score = mean_squared_log_error(train_df['sales'].values, training_total_pred_df['sales'].values, squared=False)\n",
    "# plot_predition_timeseries(x=training_total_pred_df.index.get_level_values('date'),\n",
    "#                             y_actual=train_df['sales'].values,\n",
    "#                             y_pred=training_total_pred_df['sales'].values)\n",
    "\n",
    "print('===> Print All stores Test Prediction')\n",
    "test_total_pred_df = test_total_pred_df.sort_values(['date', 'store_nbr', 'family'])\n",
    "test_score = mean_squared_log_error(test_df['sales'].values, test_total_pred_df['sales'].values, squared=False)\n",
    "# plot_predition_timeseries(x=test_total_pred_df.index.get_level_values('date'),\n",
    "#                             y_actual=test_df['sales'].values,\n",
    "#                             y_pred=test_total_pred_df['sales'].values)\n",
    "\n",
    "print(f'RMSLE || TRAINING Score: {training_score} | TEST Score: {test_score}')"
   ],
   "metadata": {
    "collapsed": false,
    "pycharm": {
     "name": "#%%\n"
    }
   }
  },
  {
   "cell_type": "code",
   "execution_count": null,
   "outputs": [
    {
     "name": "stdout",
     "output_type": "stream",
     "text": [
      "================================\n",
      "Training Dataset last rows\n"
     ]
    },
    {
     "name": "stderr",
     "output_type": "stream",
     "text": [
      "/var/folders/qs/7tn9p_8910q1ksx2jdch1wmr0000gn/T/ipykernel_88384/351393295.py:41: DeprecationWarning: Importing display from IPython.core.display is deprecated since IPython 7.14, please import from IPython display\n",
      "  ICD.display(train_df.tail(3))\n"
     ]
    },
    {
     "data": {
      "text/plain": "                                                       sales  onpromotion  \\\ndate       store_nbr family                                                 \n2017-08-15 9         PRODUCE                     2419.729004          148   \n                     SCHOOL AND OFFICE SUPPLIES   121.000000            8   \n                     SEAFOOD                       16.000000            0   \n\n                                                 uniq_store  new_store  \\\ndate       store_nbr family                                              \n2017-08-15 9         PRODUCE                              0          0   \n                     SCHOOL AND OFFICE SUPPLIES           0          0   \n                     SEAFOOD                              0          0   \n\n                                                 closed     wd  isevnt  \\\ndate       store_nbr family                                              \n2017-08-15 9         PRODUCE                          0  False   False   \n                     SCHOOL AND OFFICE SUPPLIES       0  False   False   \n                     SEAFOOD                          0  False   False   \n\n                                                 type_Additional  type_Bridge  \\\ndate       store_nbr family                                                     \n2017-08-15 9         PRODUCE                                   0            0   \n                     SCHOOL AND OFFICE SUPPLIES                0            0   \n                     SEAFOOD                                   0            0   \n\n                                                 type_Event  ...  \\\ndate       store_nbr family                                  ...   \n2017-08-15 9         PRODUCE                              0  ...   \n                     SCHOOL AND OFFICE SUPPLIES           0  ...   \n                     SEAFOOD                              0  ...   \n\n                                                 sin(1,freq=M)  cos(1,freq=M)  \\\ndate       store_nbr family                                                     \n2017-08-15 9         PRODUCE                          0.299363      -0.954139   \n                     SCHOOL AND OFFICE SUPPLIES       0.299363      -0.954139   \n                     SEAFOOD                          0.299363      -0.954139   \n\n                                                 sin(2,freq=M)  cos(2,freq=M)  \\\ndate       store_nbr family                                                     \n2017-08-15 9         PRODUCE                         -0.571268       0.820763   \n                     SCHOOL AND OFFICE SUPPLIES      -0.571268       0.820763   \n                     SEAFOOD                         -0.571268       0.820763   \n\n                                                 sin(1,freq=W-SUN)  \\\ndate       store_nbr family                                          \n2017-08-15 9         PRODUCE                              0.781831   \n                     SCHOOL AND OFFICE SUPPLIES           0.781831   \n                     SEAFOOD                              0.781831   \n\n                                                 cos(1,freq=W-SUN)  \\\ndate       store_nbr family                                          \n2017-08-15 9         PRODUCE                               0.62349   \n                     SCHOOL AND OFFICE SUPPLIES            0.62349   \n                     SEAFOOD                               0.62349   \n\n                                                 sin(2,freq=W-SUN)  \\\ndate       store_nbr family                                          \n2017-08-15 9         PRODUCE                              0.974928   \n                     SCHOOL AND OFFICE SUPPLIES           0.974928   \n                     SEAFOOD                              0.974928   \n\n                                                 cos(2,freq=W-SUN)  \\\ndate       store_nbr family                                          \n2017-08-15 9         PRODUCE                             -0.222521   \n                     SCHOOL AND OFFICE SUPPLIES          -0.222521   \n                     SEAFOOD                             -0.222521   \n\n                                                 sin(3,freq=W-SUN)  \\\ndate       store_nbr family                                          \n2017-08-15 9         PRODUCE                              0.433884   \n                     SCHOOL AND OFFICE SUPPLIES           0.433884   \n                     SEAFOOD                              0.433884   \n\n                                                 cos(3,freq=W-SUN)  \ndate       store_nbr family                                         \n2017-08-15 9         PRODUCE                             -0.900969  \n                     SCHOOL AND OFFICE SUPPLIES          -0.900969  \n                     SEAFOOD                             -0.900969  \n\n[3 rows x 78 columns]",
      "text/html": "<div>\n<style scoped>\n    .dataframe tbody tr th:only-of-type {\n        vertical-align: middle;\n    }\n\n    .dataframe tbody tr th {\n        vertical-align: top;\n    }\n\n    .dataframe thead th {\n        text-align: right;\n    }\n</style>\n<table border=\"1\" class=\"dataframe\">\n  <thead>\n    <tr style=\"text-align: right;\">\n      <th></th>\n      <th></th>\n      <th></th>\n      <th>sales</th>\n      <th>onpromotion</th>\n      <th>uniq_store</th>\n      <th>new_store</th>\n      <th>closed</th>\n      <th>wd</th>\n      <th>isevnt</th>\n      <th>type_Additional</th>\n      <th>type_Bridge</th>\n      <th>type_Event</th>\n      <th>...</th>\n      <th>sin(1,freq=M)</th>\n      <th>cos(1,freq=M)</th>\n      <th>sin(2,freq=M)</th>\n      <th>cos(2,freq=M)</th>\n      <th>sin(1,freq=W-SUN)</th>\n      <th>cos(1,freq=W-SUN)</th>\n      <th>sin(2,freq=W-SUN)</th>\n      <th>cos(2,freq=W-SUN)</th>\n      <th>sin(3,freq=W-SUN)</th>\n      <th>cos(3,freq=W-SUN)</th>\n    </tr>\n    <tr>\n      <th>date</th>\n      <th>store_nbr</th>\n      <th>family</th>\n      <th></th>\n      <th></th>\n      <th></th>\n      <th></th>\n      <th></th>\n      <th></th>\n      <th></th>\n      <th></th>\n      <th></th>\n      <th></th>\n      <th></th>\n      <th></th>\n      <th></th>\n      <th></th>\n      <th></th>\n      <th></th>\n      <th></th>\n      <th></th>\n      <th></th>\n      <th></th>\n      <th></th>\n    </tr>\n  </thead>\n  <tbody>\n    <tr>\n      <th rowspan=\"3\" valign=\"top\">2017-08-15</th>\n      <th rowspan=\"3\" valign=\"top\">9</th>\n      <th>PRODUCE</th>\n      <td>2419.729004</td>\n      <td>148</td>\n      <td>0</td>\n      <td>0</td>\n      <td>0</td>\n      <td>False</td>\n      <td>False</td>\n      <td>0</td>\n      <td>0</td>\n      <td>0</td>\n      <td>...</td>\n      <td>0.299363</td>\n      <td>-0.954139</td>\n      <td>-0.571268</td>\n      <td>0.820763</td>\n      <td>0.781831</td>\n      <td>0.62349</td>\n      <td>0.974928</td>\n      <td>-0.222521</td>\n      <td>0.433884</td>\n      <td>-0.900969</td>\n    </tr>\n    <tr>\n      <th>SCHOOL AND OFFICE SUPPLIES</th>\n      <td>121.000000</td>\n      <td>8</td>\n      <td>0</td>\n      <td>0</td>\n      <td>0</td>\n      <td>False</td>\n      <td>False</td>\n      <td>0</td>\n      <td>0</td>\n      <td>0</td>\n      <td>...</td>\n      <td>0.299363</td>\n      <td>-0.954139</td>\n      <td>-0.571268</td>\n      <td>0.820763</td>\n      <td>0.781831</td>\n      <td>0.62349</td>\n      <td>0.974928</td>\n      <td>-0.222521</td>\n      <td>0.433884</td>\n      <td>-0.900969</td>\n    </tr>\n    <tr>\n      <th>SEAFOOD</th>\n      <td>16.000000</td>\n      <td>0</td>\n      <td>0</td>\n      <td>0</td>\n      <td>0</td>\n      <td>False</td>\n      <td>False</td>\n      <td>0</td>\n      <td>0</td>\n      <td>0</td>\n      <td>...</td>\n      <td>0.299363</td>\n      <td>-0.954139</td>\n      <td>-0.571268</td>\n      <td>0.820763</td>\n      <td>0.781831</td>\n      <td>0.62349</td>\n      <td>0.974928</td>\n      <td>-0.222521</td>\n      <td>0.433884</td>\n      <td>-0.900969</td>\n    </tr>\n  </tbody>\n</table>\n<p>3 rows × 78 columns</p>\n</div>"
     },
     "metadata": {},
     "output_type": "display_data"
    },
    {
     "name": "stdout",
     "output_type": "stream",
     "text": [
      "================================\n",
      "Test Dataset first rows\n"
     ]
    },
    {
     "name": "stderr",
     "output_type": "stream",
     "text": [
      "/var/folders/qs/7tn9p_8910q1ksx2jdch1wmr0000gn/T/ipykernel_88384/351393295.py:44: DeprecationWarning: Importing display from IPython.core.display is deprecated since IPython 7.14, please import from IPython display\n",
      "  ICD.display(test_df.head(3))\n"
     ]
    },
    {
     "data": {
      "text/plain": "                                 sales  onpromotion  uniq_store  new_store  \\\ndate       store_nbr family                                                  \n2017-08-16 1         AUTOMOTIVE    NaN            0           0          0   \n                     BABY CARE     NaN            0           0          0   \n                     BEAUTY        NaN            2           0          0   \n\n                                 closed    wd  isevnt  type_Additional  \\\ndate       store_nbr family                                              \n2017-08-16 1         AUTOMOTIVE       0  True   False                0   \n                     BABY CARE        0  True   False                0   \n                     BEAUTY           0  True   False                0   \n\n                                 type_Bridge  type_Event  ...  sin(1,freq=M)  \\\ndate       store_nbr family                               ...                  \n2017-08-16 1         AUTOMOTIVE            0           0  ...       0.101168   \n                     BABY CARE             0           0  ...       0.101168   \n                     BEAUTY                0           0  ...       0.101168   \n\n                                 cos(1,freq=M)  sin(2,freq=M)  cos(2,freq=M)  \\\ndate       store_nbr family                                                    \n2017-08-16 1         AUTOMOTIVE      -0.994869      -0.201299        0.97953   \n                     BABY CARE       -0.994869      -0.201299        0.97953   \n                     BEAUTY          -0.994869      -0.201299        0.97953   \n\n                                 sin(1,freq=W-SUN)  cos(1,freq=W-SUN)  \\\ndate       store_nbr family                                             \n2017-08-16 1         AUTOMOTIVE           0.974928          -0.222521   \n                     BABY CARE            0.974928          -0.222521   \n                     BEAUTY               0.974928          -0.222521   \n\n                                 sin(2,freq=W-SUN)  cos(2,freq=W-SUN)  \\\ndate       store_nbr family                                             \n2017-08-16 1         AUTOMOTIVE          -0.433884          -0.900969   \n                     BABY CARE           -0.433884          -0.900969   \n                     BEAUTY              -0.433884          -0.900969   \n\n                                 sin(3,freq=W-SUN)  cos(3,freq=W-SUN)  \ndate       store_nbr family                                            \n2017-08-16 1         AUTOMOTIVE          -0.781831            0.62349  \n                     BABY CARE           -0.781831            0.62349  \n                     BEAUTY              -0.781831            0.62349  \n\n[3 rows x 78 columns]",
      "text/html": "<div>\n<style scoped>\n    .dataframe tbody tr th:only-of-type {\n        vertical-align: middle;\n    }\n\n    .dataframe tbody tr th {\n        vertical-align: top;\n    }\n\n    .dataframe thead th {\n        text-align: right;\n    }\n</style>\n<table border=\"1\" class=\"dataframe\">\n  <thead>\n    <tr style=\"text-align: right;\">\n      <th></th>\n      <th></th>\n      <th></th>\n      <th>sales</th>\n      <th>onpromotion</th>\n      <th>uniq_store</th>\n      <th>new_store</th>\n      <th>closed</th>\n      <th>wd</th>\n      <th>isevnt</th>\n      <th>type_Additional</th>\n      <th>type_Bridge</th>\n      <th>type_Event</th>\n      <th>...</th>\n      <th>sin(1,freq=M)</th>\n      <th>cos(1,freq=M)</th>\n      <th>sin(2,freq=M)</th>\n      <th>cos(2,freq=M)</th>\n      <th>sin(1,freq=W-SUN)</th>\n      <th>cos(1,freq=W-SUN)</th>\n      <th>sin(2,freq=W-SUN)</th>\n      <th>cos(2,freq=W-SUN)</th>\n      <th>sin(3,freq=W-SUN)</th>\n      <th>cos(3,freq=W-SUN)</th>\n    </tr>\n    <tr>\n      <th>date</th>\n      <th>store_nbr</th>\n      <th>family</th>\n      <th></th>\n      <th></th>\n      <th></th>\n      <th></th>\n      <th></th>\n      <th></th>\n      <th></th>\n      <th></th>\n      <th></th>\n      <th></th>\n      <th></th>\n      <th></th>\n      <th></th>\n      <th></th>\n      <th></th>\n      <th></th>\n      <th></th>\n      <th></th>\n      <th></th>\n      <th></th>\n      <th></th>\n    </tr>\n  </thead>\n  <tbody>\n    <tr>\n      <th rowspan=\"3\" valign=\"top\">2017-08-16</th>\n      <th rowspan=\"3\" valign=\"top\">1</th>\n      <th>AUTOMOTIVE</th>\n      <td>NaN</td>\n      <td>0</td>\n      <td>0</td>\n      <td>0</td>\n      <td>0</td>\n      <td>True</td>\n      <td>False</td>\n      <td>0</td>\n      <td>0</td>\n      <td>0</td>\n      <td>...</td>\n      <td>0.101168</td>\n      <td>-0.994869</td>\n      <td>-0.201299</td>\n      <td>0.97953</td>\n      <td>0.974928</td>\n      <td>-0.222521</td>\n      <td>-0.433884</td>\n      <td>-0.900969</td>\n      <td>-0.781831</td>\n      <td>0.62349</td>\n    </tr>\n    <tr>\n      <th>BABY CARE</th>\n      <td>NaN</td>\n      <td>0</td>\n      <td>0</td>\n      <td>0</td>\n      <td>0</td>\n      <td>True</td>\n      <td>False</td>\n      <td>0</td>\n      <td>0</td>\n      <td>0</td>\n      <td>...</td>\n      <td>0.101168</td>\n      <td>-0.994869</td>\n      <td>-0.201299</td>\n      <td>0.97953</td>\n      <td>0.974928</td>\n      <td>-0.222521</td>\n      <td>-0.433884</td>\n      <td>-0.900969</td>\n      <td>-0.781831</td>\n      <td>0.62349</td>\n    </tr>\n    <tr>\n      <th>BEAUTY</th>\n      <td>NaN</td>\n      <td>2</td>\n      <td>0</td>\n      <td>0</td>\n      <td>0</td>\n      <td>True</td>\n      <td>False</td>\n      <td>0</td>\n      <td>0</td>\n      <td>0</td>\n      <td>...</td>\n      <td>0.101168</td>\n      <td>-0.994869</td>\n      <td>-0.201299</td>\n      <td>0.97953</td>\n      <td>0.974928</td>\n      <td>-0.222521</td>\n      <td>-0.433884</td>\n      <td>-0.900969</td>\n      <td>-0.781831</td>\n      <td>0.62349</td>\n    </tr>\n  </tbody>\n</table>\n<p>3 rows × 78 columns</p>\n</div>"
     },
     "metadata": {},
     "output_type": "display_data"
    },
    {
     "data": {
      "text/plain": "  0%|          | 0/33 [00:00<?, ?it/s]",
      "application/vnd.jupyter.widget-view+json": {
       "version_major": 2,
       "version_minor": 0,
       "model_id": "028bd881a0d9413c80c681b466e980fe"
      }
     },
     "metadata": {},
     "output_type": "display_data"
    },
    {
     "name": "stdout",
     "output_type": "stream",
     "text": [
      "========================================\n",
      "Family: AUTOMOTIVE\n"
     ]
    },
    {
     "name": "stderr",
     "output_type": "stream",
     "text": [
      "/Users/jarret/opt/anaconda3/envs/CSCI-567-FinalProject/lib/python3.10/site-packages/joblib/externals/loky/process_executor.py:702: UserWarning: A worker stopped while some jobs were given to the executor. This can be caused by a too short worker timeout or by a memory leak.\n",
      "  warnings.warn(\n",
      "/Users/jarret/opt/anaconda3/envs/CSCI-567-FinalProject/lib/python3.10/site-packages/joblib/externals/loky/process_executor.py:702: UserWarning: A worker stopped while some jobs were given to the executor. This can be caused by a too short worker timeout or by a memory leak.\n",
      "  warnings.warn(\n",
      "/Users/jarret/opt/anaconda3/envs/CSCI-567-FinalProject/lib/python3.10/site-packages/joblib/externals/loky/process_executor.py:702: UserWarning: A worker stopped while some jobs were given to the executor. This can be caused by a too short worker timeout or by a memory leak.\n",
      "  warnings.warn(\n",
      "/Users/jarret/opt/anaconda3/envs/CSCI-567-FinalProject/lib/python3.10/site-packages/joblib/externals/loky/process_executor.py:702: UserWarning: A worker stopped while some jobs were given to the executor. This can be caused by a too short worker timeout or by a memory leak.\n",
      "  warnings.warn(\n"
     ]
    },
    {
     "name": "stdout",
     "output_type": "stream",
     "text": [
      "RMSLE || TRAINING Score: 0.21206598508287974\n",
      "========================================\n",
      "Family: BABY CARE\n"
     ]
    },
    {
     "name": "stderr",
     "output_type": "stream",
     "text": [
      "/Users/jarret/opt/anaconda3/envs/CSCI-567-FinalProject/lib/python3.10/site-packages/joblib/externals/loky/process_executor.py:702: UserWarning: A worker stopped while some jobs were given to the executor. This can be caused by a too short worker timeout or by a memory leak.\n",
      "  warnings.warn(\n"
     ]
    },
    {
     "name": "stdout",
     "output_type": "stream",
     "text": [
      "RMSLE || TRAINING Score: 0.07747682287931555\n",
      "========================================\n",
      "Family: BEAUTY\n"
     ]
    },
    {
     "name": "stderr",
     "output_type": "stream",
     "text": [
      "/Users/jarret/opt/anaconda3/envs/CSCI-567-FinalProject/lib/python3.10/site-packages/joblib/externals/loky/process_executor.py:702: UserWarning: A worker stopped while some jobs were given to the executor. This can be caused by a too short worker timeout or by a memory leak.\n",
      "  warnings.warn(\n",
      "/Users/jarret/opt/anaconda3/envs/CSCI-567-FinalProject/lib/python3.10/site-packages/joblib/externals/loky/process_executor.py:702: UserWarning: A worker stopped while some jobs were given to the executor. This can be caused by a too short worker timeout or by a memory leak.\n",
      "  warnings.warn(\n"
     ]
    },
    {
     "name": "stdout",
     "output_type": "stream",
     "text": [
      "RMSLE || TRAINING Score: 0.18933158160495542\n",
      "========================================\n",
      "Family: BEVERAGES\n"
     ]
    },
    {
     "name": "stderr",
     "output_type": "stream",
     "text": [
      "/Users/jarret/opt/anaconda3/envs/CSCI-567-FinalProject/lib/python3.10/site-packages/joblib/externals/loky/process_executor.py:702: UserWarning: A worker stopped while some jobs were given to the executor. This can be caused by a too short worker timeout or by a memory leak.\n",
      "  warnings.warn(\n",
      "/Users/jarret/opt/anaconda3/envs/CSCI-567-FinalProject/lib/python3.10/site-packages/joblib/externals/loky/process_executor.py:702: UserWarning: A worker stopped while some jobs were given to the executor. This can be caused by a too short worker timeout or by a memory leak.\n",
      "  warnings.warn(\n",
      "/Users/jarret/opt/anaconda3/envs/CSCI-567-FinalProject/lib/python3.10/site-packages/joblib/externals/loky/process_executor.py:702: UserWarning: A worker stopped while some jobs were given to the executor. This can be caused by a too short worker timeout or by a memory leak.\n",
      "  warnings.warn(\n",
      "/Users/jarret/opt/anaconda3/envs/CSCI-567-FinalProject/lib/python3.10/site-packages/joblib/externals/loky/process_executor.py:702: UserWarning: A worker stopped while some jobs were given to the executor. This can be caused by a too short worker timeout or by a memory leak.\n",
      "  warnings.warn(\n",
      "/Users/jarret/opt/anaconda3/envs/CSCI-567-FinalProject/lib/python3.10/site-packages/joblib/externals/loky/process_executor.py:702: UserWarning: A worker stopped while some jobs were given to the executor. This can be caused by a too short worker timeout or by a memory leak.\n",
      "  warnings.warn(\n",
      "/Users/jarret/opt/anaconda3/envs/CSCI-567-FinalProject/lib/python3.10/site-packages/joblib/externals/loky/process_executor.py:702: UserWarning: A worker stopped while some jobs were given to the executor. This can be caused by a too short worker timeout or by a memory leak.\n",
      "  warnings.warn(\n",
      "/Users/jarret/opt/anaconda3/envs/CSCI-567-FinalProject/lib/python3.10/site-packages/joblib/externals/loky/process_executor.py:702: UserWarning: A worker stopped while some jobs were given to the executor. This can be caused by a too short worker timeout or by a memory leak.\n",
      "  warnings.warn(\n"
     ]
    },
    {
     "name": "stdout",
     "output_type": "stream",
     "text": [
      "RMSLE || TRAINING Score: 0.10178376293582651\n",
      "========================================\n",
      "Family: BOOKS\n",
      "RMSLE || TRAINING Score: 0.05071844796212436\n",
      "========================================\n",
      "Family: BREAD/BAKERY\n"
     ]
    },
    {
     "name": "stderr",
     "output_type": "stream",
     "text": [
      "/Users/jarret/opt/anaconda3/envs/CSCI-567-FinalProject/lib/python3.10/site-packages/joblib/externals/loky/process_executor.py:702: UserWarning: A worker stopped while some jobs were given to the executor. This can be caused by a too short worker timeout or by a memory leak.\n",
      "  warnings.warn(\n",
      "/Users/jarret/opt/anaconda3/envs/CSCI-567-FinalProject/lib/python3.10/site-packages/joblib/externals/loky/process_executor.py:702: UserWarning: A worker stopped while some jobs were given to the executor. This can be caused by a too short worker timeout or by a memory leak.\n",
      "  warnings.warn(\n",
      "/Users/jarret/opt/anaconda3/envs/CSCI-567-FinalProject/lib/python3.10/site-packages/joblib/externals/loky/process_executor.py:702: UserWarning: A worker stopped while some jobs were given to the executor. This can be caused by a too short worker timeout or by a memory leak.\n",
      "  warnings.warn(\n",
      "/Users/jarret/opt/anaconda3/envs/CSCI-567-FinalProject/lib/python3.10/site-packages/joblib/externals/loky/process_executor.py:702: UserWarning: A worker stopped while some jobs were given to the executor. This can be caused by a too short worker timeout or by a memory leak.\n",
      "  warnings.warn(\n",
      "/Users/jarret/opt/anaconda3/envs/CSCI-567-FinalProject/lib/python3.10/site-packages/joblib/externals/loky/process_executor.py:702: UserWarning: A worker stopped while some jobs were given to the executor. This can be caused by a too short worker timeout or by a memory leak.\n",
      "  warnings.warn(\n"
     ]
    },
    {
     "name": "stdout",
     "output_type": "stream",
     "text": [
      "RMSLE || TRAINING Score: 0.08291081073764003\n",
      "========================================\n",
      "Family: CELEBRATION\n"
     ]
    },
    {
     "name": "stderr",
     "output_type": "stream",
     "text": [
      "/Users/jarret/opt/anaconda3/envs/CSCI-567-FinalProject/lib/python3.10/site-packages/joblib/externals/loky/process_executor.py:702: UserWarning: A worker stopped while some jobs were given to the executor. This can be caused by a too short worker timeout or by a memory leak.\n",
      "  warnings.warn(\n",
      "/Users/jarret/opt/anaconda3/envs/CSCI-567-FinalProject/lib/python3.10/site-packages/joblib/externals/loky/process_executor.py:702: UserWarning: A worker stopped while some jobs were given to the executor. This can be caused by a too short worker timeout or by a memory leak.\n",
      "  warnings.warn(\n",
      "/Users/jarret/opt/anaconda3/envs/CSCI-567-FinalProject/lib/python3.10/site-packages/joblib/externals/loky/process_executor.py:702: UserWarning: A worker stopped while some jobs were given to the executor. This can be caused by a too short worker timeout or by a memory leak.\n",
      "  warnings.warn(\n"
     ]
    },
    {
     "name": "stdout",
     "output_type": "stream",
     "text": [
      "RMSLE || TRAINING Score: 0.1771381635950946\n",
      "========================================\n",
      "Family: CLEANING\n"
     ]
    },
    {
     "data": {
      "text/plain": "<IPython.core.display.HTML object>",
      "text/html": "<table><tr><th style='font-weight:bold'>Column name</th><th style='font-weight:bold'>Status</th><th style='font-weight:bold'>Description</th></tr><tr><td>country_iso_code</td><td style='background-color:#DAF7A6;color:black'>All valid</td><td>All values in this column are good to go</td></tr><tr><td>date</td><td style='background-color:#DAF7A6;color:black'>All valid</td><td>All values in this column are good to go</td></tr><tr><td>target</td><td style='background-color:#DAF7A6;color:black'>All valid</td><td>All values in this column are good to go</td></tr></table>"
     },
     "metadata": {},
     "output_type": "display_data"
    },
    {
     "name": "stdout",
     "output_type": "stream",
     "text": [
      "WARNING: You use 1.1.55 version, but latest is 1.1.65.\n",
      "Running search request with search_id=18d797aa-fa1b-470c-abee-5179b2b7b395\n",
      "We'll send email notification once it's completed, just use your personal api_key from profile.upgini.com\n",
      "Done\n",
      "\n",
      "\u001B[92m\u001B[1m\n",
      "8 relevant feature(s) found with the search keys: ['date', 'country_iso_code']\u001B[0m\n"
     ]
    },
    {
     "name": "stderr",
     "output_type": "stream",
     "text": [
      "/Users/jarret/opt/anaconda3/envs/CSCI-567-FinalProject/lib/python3.10/site-packages/upgini/features_enricher.py:1476: FutureWarning: this method is deprecated in favour of `Styler.hide(axis=\"index\")`\n",
      "  display(self.features_info.head(60).style.hide_index())\n"
     ]
    },
    {
     "data": {
      "text/plain": "<pandas.io.formats.style.Styler at 0x2a316e350>",
      "text/html": "<style type=\"text/css\">\n</style>\n<table id=\"T_3cfba\">\n  <thead>\n    <tr>\n      <th id=\"T_3cfba_level0_col0\" class=\"col_heading level0 col0\" >provider</th>\n      <th id=\"T_3cfba_level0_col1\" class=\"col_heading level0 col1\" >source</th>\n      <th id=\"T_3cfba_level0_col2\" class=\"col_heading level0 col2\" >feature name</th>\n      <th id=\"T_3cfba_level0_col3\" class=\"col_heading level0 col3\" >shap value</th>\n      <th id=\"T_3cfba_level0_col4\" class=\"col_heading level0 col4\" >coverage %</th>\n      <th id=\"T_3cfba_level0_col5\" class=\"col_heading level0 col5\" >type</th>\n      <th id=\"T_3cfba_level0_col6\" class=\"col_heading level0 col6\" >feature type</th>\n    </tr>\n  </thead>\n  <tbody>\n    <tr>\n      <td id=\"T_3cfba_row0_col0\" class=\"data row0 col0\" ><a href='https://upgini.com/#data_sources' target='_blank' rel='noopener noreferrer'>Upgini</a></td>\n      <td id=\"T_3cfba_row0_col1\" class=\"data row0 col1\" ><a href='https://upgini.com/#data_sources' target='_blank' rel='noopener noreferrer'>Public/Comm. shared</a></td>\n      <td id=\"T_3cfba_row0_col2\" class=\"data row0 col2\" >f_events_date_week_sin1_847b5db1</td>\n      <td id=\"T_3cfba_row0_col3\" class=\"data row0 col3\" >0.355322</td>\n      <td id=\"T_3cfba_row0_col4\" class=\"data row0 col4\" >100.000000</td>\n      <td id=\"T_3cfba_row0_col5\" class=\"data row0 col5\" >numerical</td>\n      <td id=\"T_3cfba_row0_col6\" class=\"data row0 col6\" >Free</td>\n    </tr>\n    <tr>\n      <td id=\"T_3cfba_row1_col0\" class=\"data row1 col0\" ><a href='https://upgini.com/#data_sources' target='_blank' rel='noopener noreferrer'>Upgini</a></td>\n      <td id=\"T_3cfba_row1_col1\" class=\"data row1 col1\" ><a href='https://upgini.com/#data_sources' target='_blank' rel='noopener noreferrer'>Public/Comm. shared</a></td>\n      <td id=\"T_3cfba_row1_col2\" class=\"data row1 col2\" >f_events_date_month_cos1_175991a9</td>\n      <td id=\"T_3cfba_row1_col3\" class=\"data row1 col3\" >0.128888</td>\n      <td id=\"T_3cfba_row1_col4\" class=\"data row1 col4\" >100.000000</td>\n      <td id=\"T_3cfba_row1_col5\" class=\"data row1 col5\" >numerical</td>\n      <td id=\"T_3cfba_row1_col6\" class=\"data row1 col6\" >Free</td>\n    </tr>\n    <tr>\n      <td id=\"T_3cfba_row2_col0\" class=\"data row2 col0\" ><a href='https://upgini.com/#data_sources' target='_blank' rel='noopener noreferrer'>Upgini</a></td>\n      <td id=\"T_3cfba_row2_col1\" class=\"data row2 col1\" ><a href='https://upgini.com/#data_sources' target='_blank' rel='noopener noreferrer'>Public/Comm. shared</a></td>\n      <td id=\"T_3cfba_row2_col2\" class=\"data row2 col2\" >f_events_country_date_holiday_code_9a141884</td>\n      <td id=\"T_3cfba_row2_col3\" class=\"data row2 col3\" >0.127730</td>\n      <td id=\"T_3cfba_row2_col4\" class=\"data row2 col4\" >100.000000</td>\n      <td id=\"T_3cfba_row2_col5\" class=\"data row2 col5\" >numerical</td>\n      <td id=\"T_3cfba_row2_col6\" class=\"data row2 col6\" >Free</td>\n    </tr>\n    <tr>\n      <td id=\"T_3cfba_row3_col0\" class=\"data row3 col0\" ><a href='https://upgini.com/#data_sources' target='_blank' rel='noopener noreferrer'>Upgini</a></td>\n      <td id=\"T_3cfba_row3_col1\" class=\"data row3 col1\" ><a href='https://upgini.com/#data_sources' target='_blank' rel='noopener noreferrer'>Public/Comm. shared</a></td>\n      <td id=\"T_3cfba_row3_col2\" class=\"data row3 col2\" >f_financial_date_gold_3295eb6b</td>\n      <td id=\"T_3cfba_row3_col3\" class=\"data row3 col3\" >0.035604</td>\n      <td id=\"T_3cfba_row3_col4\" class=\"data row3 col4\" >100.000000</td>\n      <td id=\"T_3cfba_row3_col5\" class=\"data row3 col5\" >numerical</td>\n      <td id=\"T_3cfba_row3_col6\" class=\"data row3 col6\" >Free</td>\n    </tr>\n    <tr>\n      <td id=\"T_3cfba_row4_col0\" class=\"data row4 col0\" ><a href='https://upgini.com/#data_sources' target='_blank' rel='noopener noreferrer'>Upgini</a></td>\n      <td id=\"T_3cfba_row4_col1\" class=\"data row4 col1\" ><a href='https://upgini.com/#data_sources' target='_blank' rel='noopener noreferrer'>Public/Comm. shared</a></td>\n      <td id=\"T_3cfba_row4_col2\" class=\"data row4 col2\" >f_events_country_date_days_from_holiday_93c12a82</td>\n      <td id=\"T_3cfba_row4_col3\" class=\"data row4 col3\" >0.031605</td>\n      <td id=\"T_3cfba_row4_col4\" class=\"data row4 col4\" >100.000000</td>\n      <td id=\"T_3cfba_row4_col5\" class=\"data row4 col5\" >numerical</td>\n      <td id=\"T_3cfba_row4_col6\" class=\"data row4 col6\" >Free</td>\n    </tr>\n    <tr>\n      <td id=\"T_3cfba_row5_col0\" class=\"data row5 col0\" ><a href='https://upgini.com/#data_sources' target='_blank' rel='noopener noreferrer'>Upgini</a></td>\n      <td id=\"T_3cfba_row5_col1\" class=\"data row5 col1\" ><a href='https://upgini.com/#data_sources' target='_blank' rel='noopener noreferrer'>Public/Comm. shared</a></td>\n      <td id=\"T_3cfba_row5_col2\" class=\"data row5 col2\" >f_events_date_month_sin2_75888cbd</td>\n      <td id=\"T_3cfba_row5_col3\" class=\"data row5 col3\" >0.030011</td>\n      <td id=\"T_3cfba_row5_col4\" class=\"data row5 col4\" >100.000000</td>\n      <td id=\"T_3cfba_row5_col5\" class=\"data row5 col5\" >numerical</td>\n      <td id=\"T_3cfba_row5_col6\" class=\"data row5 col6\" >Free</td>\n    </tr>\n    <tr>\n      <td id=\"T_3cfba_row6_col0\" class=\"data row6 col0\" ><a href='https://upgini.com/#data_sources' target='_blank' rel='noopener noreferrer'>Upgini</a></td>\n      <td id=\"T_3cfba_row6_col1\" class=\"data row6 col1\" ><a href='https://upgini.com/#data_sources' target='_blank' rel='noopener noreferrer'>Public/Comm. shared</a></td>\n      <td id=\"T_3cfba_row6_col2\" class=\"data row6 col2\" >f_events_date_month_sin1_51d9011f</td>\n      <td id=\"T_3cfba_row6_col3\" class=\"data row6 col3\" >0.025885</td>\n      <td id=\"T_3cfba_row6_col4\" class=\"data row6 col4\" >100.000000</td>\n      <td id=\"T_3cfba_row6_col5\" class=\"data row6 col5\" >numerical</td>\n      <td id=\"T_3cfba_row6_col6\" class=\"data row6 col6\" >Free</td>\n    </tr>\n    <tr>\n      <td id=\"T_3cfba_row7_col0\" class=\"data row7 col0\" ><a href='https://upgini.com/#data_sources' target='_blank' rel='noopener noreferrer'>Upgini</a></td>\n      <td id=\"T_3cfba_row7_col1\" class=\"data row7 col1\" ><a href='https://upgini.com/#data_sources' target='_blank' rel='noopener noreferrer'>Public/Comm. shared</a></td>\n      <td id=\"T_3cfba_row7_col2\" class=\"data row7 col2\" >f_financial_date_crude_oil_a27b1766</td>\n      <td id=\"T_3cfba_row7_col3\" class=\"data row7 col3\" >0.024972</td>\n      <td id=\"T_3cfba_row7_col4\" class=\"data row7 col4\" >100.000000</td>\n      <td id=\"T_3cfba_row7_col5\" class=\"data row7 col5\" >numerical</td>\n      <td id=\"T_3cfba_row7_col6\" class=\"data row7 col6\" >Free</td>\n    </tr>\n  </tbody>\n</table>\n"
     },
     "metadata": {},
     "output_type": "display_data"
    },
    {
     "name": "stdout",
     "output_type": "stream",
     "text": [
      "Calculating metrics...\n",
      "Done\n",
      "\u001B[92m\u001B[1m\n",
      "Quality metrics\u001B[0m\n"
     ]
    },
    {
     "data": {
      "text/plain": "       match_rate  enriched mean_squared_error\n                                              \ntrain       100.0                  54564.03321",
      "text/html": "<div>\n<style scoped>\n    .dataframe tbody tr th:only-of-type {\n        vertical-align: middle;\n    }\n\n    .dataframe tbody tr th {\n        vertical-align: top;\n    }\n\n    .dataframe thead th {\n        text-align: right;\n    }\n</style>\n<table border=\"1\" class=\"dataframe\">\n  <thead>\n    <tr style=\"text-align: right;\">\n      <th></th>\n      <th>match_rate</th>\n      <th>enriched mean_squared_error</th>\n    </tr>\n    <tr>\n      <th></th>\n      <th></th>\n      <th></th>\n    </tr>\n  </thead>\n  <tbody>\n    <tr>\n      <th>train</th>\n      <td>100.0</td>\n      <td>54564.03321</td>\n    </tr>\n  </tbody>\n</table>\n</div>"
     },
     "metadata": {},
     "output_type": "display_data"
    },
    {
     "name": "stdout",
     "output_type": "stream",
     "text": [
      "WARNING: 98.14815% of the rows are fully duplicated.\n"
     ]
    },
    {
     "data": {
      "text/plain": "<IPython.core.display.HTML object>",
      "text/html": "<table><tr><th style='font-weight:bold'>Column name</th><th style='font-weight:bold'>Status</th><th style='font-weight:bold'>Description</th></tr><tr><td>country_iso_code</td><td style='background-color:#DAF7A6;color:black'>All valid</td><td>All values in this column are good to go</td></tr><tr><td>date</td><td style='background-color:#DAF7A6;color:black'>All valid</td><td>All values in this column are good to go</td></tr></table>"
     },
     "metadata": {},
     "output_type": "display_data"
    },
    {
     "name": "stdout",
     "output_type": "stream",
     "text": [
      "Running search request with search_id=2c9d762a-2b3b-4725-8595-6266e45c5a28\n",
      "We'll send email notification once it's completed, just use your personal api_key from profile.upgini.com\n",
      "Done\n",
      "\n",
      "Collecting selected features...\n",
      "Done\n",
      "WARNING: 98.14815% of the rows are fully duplicated.\n"
     ]
    },
    {
     "data": {
      "text/plain": "<IPython.core.display.HTML object>",
      "text/html": "<table><tr><th style='font-weight:bold'>Column name</th><th style='font-weight:bold'>Status</th><th style='font-weight:bold'>Description</th></tr><tr><td>country_iso_code</td><td style='background-color:#DAF7A6;color:black'>All valid</td><td>All values in this column are good to go</td></tr><tr><td>date</td><td style='background-color:#DAF7A6;color:black'>All valid</td><td>All values in this column are good to go</td></tr></table>"
     },
     "metadata": {},
     "output_type": "display_data"
    },
    {
     "name": "stdout",
     "output_type": "stream",
     "text": [
      "Running search request with search_id=81bb3780-22b5-4848-80c3-fd59c1177773\n",
      "We'll send email notification once it's completed, just use your personal api_key from profile.upgini.com\n",
      "Done\n",
      "\n",
      "Collecting selected features...\n",
      "Done\n"
     ]
    },
    {
     "name": "stderr",
     "output_type": "stream",
     "text": [
      "/Users/jarret/opt/anaconda3/envs/CSCI-567-FinalProject/lib/python3.10/site-packages/joblib/externals/loky/process_executor.py:702: UserWarning: A worker stopped while some jobs were given to the executor. This can be caused by a too short worker timeout or by a memory leak.\n",
      "  warnings.warn(\n"
     ]
    },
    {
     "name": "stdout",
     "output_type": "stream",
     "text": [
      "RMSLE || TRAINING Score: 0.08877908542803682\n",
      "========================================\n",
      "Family: DAIRY\n"
     ]
    },
    {
     "name": "stderr",
     "output_type": "stream",
     "text": [
      "/Users/jarret/opt/anaconda3/envs/CSCI-567-FinalProject/lib/python3.10/site-packages/joblib/externals/loky/process_executor.py:702: UserWarning: A worker stopped while some jobs were given to the executor. This can be caused by a too short worker timeout or by a memory leak.\n",
      "  warnings.warn(\n",
      "/Users/jarret/opt/anaconda3/envs/CSCI-567-FinalProject/lib/python3.10/site-packages/joblib/externals/loky/process_executor.py:702: UserWarning: A worker stopped while some jobs were given to the executor. This can be caused by a too short worker timeout or by a memory leak.\n",
      "  warnings.warn(\n",
      "/Users/jarret/opt/anaconda3/envs/CSCI-567-FinalProject/lib/python3.10/site-packages/joblib/externals/loky/process_executor.py:702: UserWarning: A worker stopped while some jobs were given to the executor. This can be caused by a too short worker timeout or by a memory leak.\n",
      "  warnings.warn(\n",
      "/Users/jarret/opt/anaconda3/envs/CSCI-567-FinalProject/lib/python3.10/site-packages/joblib/externals/loky/process_executor.py:702: UserWarning: A worker stopped while some jobs were given to the executor. This can be caused by a too short worker timeout or by a memory leak.\n",
      "  warnings.warn(\n",
      "/Users/jarret/opt/anaconda3/envs/CSCI-567-FinalProject/lib/python3.10/site-packages/joblib/externals/loky/process_executor.py:702: UserWarning: A worker stopped while some jobs were given to the executor. This can be caused by a too short worker timeout or by a memory leak.\n",
      "  warnings.warn(\n"
     ]
    },
    {
     "name": "stdout",
     "output_type": "stream",
     "text": [
      "RMSLE || TRAINING Score: 0.08591401204889866\n",
      "========================================\n",
      "Family: DELI\n"
     ]
    },
    {
     "name": "stderr",
     "output_type": "stream",
     "text": [
      "/Users/jarret/opt/anaconda3/envs/CSCI-567-FinalProject/lib/python3.10/site-packages/joblib/externals/loky/process_executor.py:702: UserWarning: A worker stopped while some jobs were given to the executor. This can be caused by a too short worker timeout or by a memory leak.\n",
      "  warnings.warn(\n",
      "/Users/jarret/opt/anaconda3/envs/CSCI-567-FinalProject/lib/python3.10/site-packages/joblib/externals/loky/process_executor.py:702: UserWarning: A worker stopped while some jobs were given to the executor. This can be caused by a too short worker timeout or by a memory leak.\n",
      "  warnings.warn(\n",
      "/Users/jarret/opt/anaconda3/envs/CSCI-567-FinalProject/lib/python3.10/site-packages/joblib/externals/loky/process_executor.py:702: UserWarning: A worker stopped while some jobs were given to the executor. This can be caused by a too short worker timeout or by a memory leak.\n",
      "  warnings.warn(\n",
      "/Users/jarret/opt/anaconda3/envs/CSCI-567-FinalProject/lib/python3.10/site-packages/joblib/externals/loky/process_executor.py:702: UserWarning: A worker stopped while some jobs were given to the executor. This can be caused by a too short worker timeout or by a memory leak.\n",
      "  warnings.warn(\n"
     ]
    },
    {
     "name": "stdout",
     "output_type": "stream",
     "text": [
      "RMSLE || TRAINING Score: 0.08380225609764064\n",
      "========================================\n",
      "Family: EGGS\n"
     ]
    },
    {
     "name": "stderr",
     "output_type": "stream",
     "text": [
      "/Users/jarret/opt/anaconda3/envs/CSCI-567-FinalProject/lib/python3.10/site-packages/joblib/externals/loky/process_executor.py:702: UserWarning: A worker stopped while some jobs were given to the executor. This can be caused by a too short worker timeout or by a memory leak.\n",
      "  warnings.warn(\n",
      "/Users/jarret/opt/anaconda3/envs/CSCI-567-FinalProject/lib/python3.10/site-packages/joblib/externals/loky/process_executor.py:702: UserWarning: A worker stopped while some jobs were given to the executor. This can be caused by a too short worker timeout or by a memory leak.\n",
      "  warnings.warn(\n",
      "/Users/jarret/opt/anaconda3/envs/CSCI-567-FinalProject/lib/python3.10/site-packages/joblib/externals/loky/process_executor.py:702: UserWarning: A worker stopped while some jobs were given to the executor. This can be caused by a too short worker timeout or by a memory leak.\n",
      "  warnings.warn(\n",
      "/Users/jarret/opt/anaconda3/envs/CSCI-567-FinalProject/lib/python3.10/site-packages/joblib/externals/loky/process_executor.py:702: UserWarning: A worker stopped while some jobs were given to the executor. This can be caused by a too short worker timeout or by a memory leak.\n",
      "  warnings.warn(\n",
      "/Users/jarret/opt/anaconda3/envs/CSCI-567-FinalProject/lib/python3.10/site-packages/joblib/externals/loky/process_executor.py:702: UserWarning: A worker stopped while some jobs were given to the executor. This can be caused by a too short worker timeout or by a memory leak.\n",
      "  warnings.warn(\n"
     ]
    },
    {
     "name": "stdout",
     "output_type": "stream",
     "text": [
      "RMSLE || TRAINING Score: 0.1222556600583942\n",
      "========================================\n",
      "Family: FROZEN FOODS\n"
     ]
    },
    {
     "name": "stderr",
     "output_type": "stream",
     "text": [
      "/Users/jarret/opt/anaconda3/envs/CSCI-567-FinalProject/lib/python3.10/site-packages/joblib/externals/loky/process_executor.py:702: UserWarning: A worker stopped while some jobs were given to the executor. This can be caused by a too short worker timeout or by a memory leak.\n",
      "  warnings.warn(\n",
      "/Users/jarret/opt/anaconda3/envs/CSCI-567-FinalProject/lib/python3.10/site-packages/joblib/externals/loky/process_executor.py:702: UserWarning: A worker stopped while some jobs were given to the executor. This can be caused by a too short worker timeout or by a memory leak.\n",
      "  warnings.warn(\n",
      "/Users/jarret/opt/anaconda3/envs/CSCI-567-FinalProject/lib/python3.10/site-packages/joblib/externals/loky/process_executor.py:702: UserWarning: A worker stopped while some jobs were given to the executor. This can be caused by a too short worker timeout or by a memory leak.\n",
      "  warnings.warn(\n",
      "/Users/jarret/opt/anaconda3/envs/CSCI-567-FinalProject/lib/python3.10/site-packages/joblib/externals/loky/process_executor.py:702: UserWarning: A worker stopped while some jobs were given to the executor. This can be caused by a too short worker timeout or by a memory leak.\n",
      "  warnings.warn(\n"
     ]
    },
    {
     "name": "stdout",
     "output_type": "stream",
     "text": [
      "RMSLE || TRAINING Score: 0.13342662259099544\n",
      "========================================\n",
      "Family: GROCERY I\n"
     ]
    },
    {
     "name": "stderr",
     "output_type": "stream",
     "text": [
      "/Users/jarret/opt/anaconda3/envs/CSCI-567-FinalProject/lib/python3.10/site-packages/joblib/externals/loky/process_executor.py:702: UserWarning: A worker stopped while some jobs were given to the executor. This can be caused by a too short worker timeout or by a memory leak.\n",
      "  warnings.warn(\n",
      "/Users/jarret/opt/anaconda3/envs/CSCI-567-FinalProject/lib/python3.10/site-packages/joblib/externals/loky/process_executor.py:702: UserWarning: A worker stopped while some jobs were given to the executor. This can be caused by a too short worker timeout or by a memory leak.\n",
      "  warnings.warn(\n"
     ]
    },
    {
     "name": "stdout",
     "output_type": "stream",
     "text": [
      "RMSLE || TRAINING Score: 0.0957466883246702\n",
      "========================================\n",
      "Family: GROCERY II\n"
     ]
    },
    {
     "name": "stderr",
     "output_type": "stream",
     "text": [
      "/Users/jarret/opt/anaconda3/envs/CSCI-567-FinalProject/lib/python3.10/site-packages/joblib/externals/loky/process_executor.py:702: UserWarning: A worker stopped while some jobs were given to the executor. This can be caused by a too short worker timeout or by a memory leak.\n",
      "  warnings.warn(\n"
     ]
    },
    {
     "name": "stdout",
     "output_type": "stream",
     "text": [
      "RMSLE || TRAINING Score: 0.2154060150914354\n",
      "========================================\n",
      "Family: HARDWARE\n"
     ]
    },
    {
     "name": "stderr",
     "output_type": "stream",
     "text": [
      "/Users/jarret/opt/anaconda3/envs/CSCI-567-FinalProject/lib/python3.10/site-packages/joblib/externals/loky/process_executor.py:702: UserWarning: A worker stopped while some jobs were given to the executor. This can be caused by a too short worker timeout or by a memory leak.\n",
      "  warnings.warn(\n",
      "/Users/jarret/opt/anaconda3/envs/CSCI-567-FinalProject/lib/python3.10/site-packages/joblib/externals/loky/process_executor.py:702: UserWarning: A worker stopped while some jobs were given to the executor. This can be caused by a too short worker timeout or by a memory leak.\n",
      "  warnings.warn(\n"
     ]
    },
    {
     "name": "stdout",
     "output_type": "stream",
     "text": [
      "RMSLE || TRAINING Score: 0.20461440401924078\n",
      "========================================\n",
      "Family: HOME AND KITCHEN I\n"
     ]
    },
    {
     "name": "stderr",
     "output_type": "stream",
     "text": [
      "/Users/jarret/opt/anaconda3/envs/CSCI-567-FinalProject/lib/python3.10/site-packages/joblib/externals/loky/process_executor.py:702: UserWarning: A worker stopped while some jobs were given to the executor. This can be caused by a too short worker timeout or by a memory leak.\n",
      "  warnings.warn(\n"
     ]
    },
    {
     "name": "stdout",
     "output_type": "stream",
     "text": [
      "RMSLE || TRAINING Score: 0.2122892010831945\n",
      "========================================\n",
      "Family: HOME AND KITCHEN II\n"
     ]
    },
    {
     "name": "stderr",
     "output_type": "stream",
     "text": [
      "/Users/jarret/opt/anaconda3/envs/CSCI-567-FinalProject/lib/python3.10/site-packages/joblib/externals/loky/process_executor.py:702: UserWarning: A worker stopped while some jobs were given to the executor. This can be caused by a too short worker timeout or by a memory leak.\n",
      "  warnings.warn(\n"
     ]
    },
    {
     "name": "stdout",
     "output_type": "stream",
     "text": [
      "RMSLE || TRAINING Score: 0.16737928477025704\n",
      "========================================\n",
      "Family: HOME APPLIANCES\n"
     ]
    },
    {
     "name": "stderr",
     "output_type": "stream",
     "text": [
      "/Users/jarret/opt/anaconda3/envs/CSCI-567-FinalProject/lib/python3.10/site-packages/joblib/externals/loky/process_executor.py:702: UserWarning: A worker stopped while some jobs were given to the executor. This can be caused by a too short worker timeout or by a memory leak.\n",
      "  warnings.warn(\n"
     ]
    },
    {
     "name": "stdout",
     "output_type": "stream",
     "text": [
      "RMSLE || TRAINING Score: 0.14315670630286373\n",
      "========================================\n",
      "Family: HOME CARE\n"
     ]
    },
    {
     "name": "stderr",
     "output_type": "stream",
     "text": [
      "/Users/jarret/opt/anaconda3/envs/CSCI-567-FinalProject/lib/python3.10/site-packages/joblib/externals/loky/process_executor.py:702: UserWarning: A worker stopped while some jobs were given to the executor. This can be caused by a too short worker timeout or by a memory leak.\n",
      "  warnings.warn(\n",
      "/Users/jarret/opt/anaconda3/envs/CSCI-567-FinalProject/lib/python3.10/site-packages/joblib/externals/loky/process_executor.py:702: UserWarning: A worker stopped while some jobs were given to the executor. This can be caused by a too short worker timeout or by a memory leak.\n",
      "  warnings.warn(\n"
     ]
    },
    {
     "name": "stdout",
     "output_type": "stream",
     "text": [
      "RMSLE || TRAINING Score: 0.11719139164455242\n",
      "========================================\n",
      "Family: LADIESWEAR\n"
     ]
    },
    {
     "name": "stderr",
     "output_type": "stream",
     "text": [
      "/Users/jarret/opt/anaconda3/envs/CSCI-567-FinalProject/lib/python3.10/site-packages/joblib/externals/loky/process_executor.py:702: UserWarning: A worker stopped while some jobs were given to the executor. This can be caused by a too short worker timeout or by a memory leak.\n",
      "  warnings.warn(\n"
     ]
    },
    {
     "name": "stdout",
     "output_type": "stream",
     "text": [
      "RMSLE || TRAINING Score: 0.14728769738517203\n",
      "========================================\n",
      "Family: LAWN AND GARDEN\n"
     ]
    },
    {
     "name": "stderr",
     "output_type": "stream",
     "text": [
      "/Users/jarret/opt/anaconda3/envs/CSCI-567-FinalProject/lib/python3.10/site-packages/joblib/externals/loky/process_executor.py:702: UserWarning: A worker stopped while some jobs were given to the executor. This can be caused by a too short worker timeout or by a memory leak.\n",
      "  warnings.warn(\n",
      "/Users/jarret/opt/anaconda3/envs/CSCI-567-FinalProject/lib/python3.10/site-packages/joblib/externals/loky/process_executor.py:702: UserWarning: A worker stopped while some jobs were given to the executor. This can be caused by a too short worker timeout or by a memory leak.\n",
      "  warnings.warn(\n"
     ]
    },
    {
     "name": "stdout",
     "output_type": "stream",
     "text": [
      "RMSLE || TRAINING Score: 0.1957117985797875\n",
      "========================================\n",
      "Family: LINGERIE\n"
     ]
    },
    {
     "name": "stderr",
     "output_type": "stream",
     "text": [
      "/Users/jarret/opt/anaconda3/envs/CSCI-567-FinalProject/lib/python3.10/site-packages/joblib/externals/loky/process_executor.py:702: UserWarning: A worker stopped while some jobs were given to the executor. This can be caused by a too short worker timeout or by a memory leak.\n",
      "  warnings.warn(\n",
      "/Users/jarret/opt/anaconda3/envs/CSCI-567-FinalProject/lib/python3.10/site-packages/joblib/externals/loky/process_executor.py:702: UserWarning: A worker stopped while some jobs were given to the executor. This can be caused by a too short worker timeout or by a memory leak.\n",
      "  warnings.warn(\n",
      "/Users/jarret/opt/anaconda3/envs/CSCI-567-FinalProject/lib/python3.10/site-packages/joblib/externals/loky/process_executor.py:702: UserWarning: A worker stopped while some jobs were given to the executor. This can be caused by a too short worker timeout or by a memory leak.\n",
      "  warnings.warn(\n",
      "/Users/jarret/opt/anaconda3/envs/CSCI-567-FinalProject/lib/python3.10/site-packages/joblib/externals/loky/process_executor.py:702: UserWarning: A worker stopped while some jobs were given to the executor. This can be caused by a too short worker timeout or by a memory leak.\n",
      "  warnings.warn(\n",
      "/Users/jarret/opt/anaconda3/envs/CSCI-567-FinalProject/lib/python3.10/site-packages/joblib/externals/loky/process_executor.py:702: UserWarning: A worker stopped while some jobs were given to the executor. This can be caused by a too short worker timeout or by a memory leak.\n",
      "  warnings.warn(\n"
     ]
    },
    {
     "name": "stdout",
     "output_type": "stream",
     "text": [
      "RMSLE || TRAINING Score: 0.23976024792481768\n",
      "========================================\n",
      "Family: LIQUOR,WINE,BEER\n"
     ]
    },
    {
     "data": {
      "text/plain": "<IPython.core.display.HTML object>",
      "text/html": "<table><tr><th style='font-weight:bold'>Column name</th><th style='font-weight:bold'>Status</th><th style='font-weight:bold'>Description</th></tr><tr><td>country_iso_code</td><td style='background-color:#DAF7A6;color:black'>All valid</td><td>All values in this column are good to go</td></tr><tr><td>date</td><td style='background-color:#DAF7A6;color:black'>All valid</td><td>All values in this column are good to go</td></tr><tr><td>target</td><td style='background-color:#DAF7A6;color:black'>All valid</td><td>All values in this column are good to go</td></tr></table>"
     },
     "metadata": {},
     "output_type": "display_data"
    },
    {
     "name": "stdout",
     "output_type": "stream",
     "text": [
      "WARNING: You use 1.1.55 version, but latest is 1.1.65.\n",
      "Running search request with search_id=b795032f-abb5-402f-85fa-5742d821e864\n",
      "We'll send email notification once it's completed, just use your personal api_key from profile.upgini.com\n",
      "|\r"
     ]
    }
   ],
   "source": [
    "%%time\n",
    "train_df, test_df = index_timeseries_train_test_split(df=df,\n",
    "                                                      date_index='date',\n",
    "                                                      date_format='%Y-%m-%d',\n",
    "                                                      earliest_train_date='2013-03-01',\n",
    "                                                      split_date='2017-08-16',\n",
    "                                                      verbose=False)\n",
    "\n",
    "# Get stopped families for each store\n",
    "closed_stores_df = get_closed_stores(train_df, last_days=12)\n",
    "\n",
    "\n",
    "training_total_pred_df = pd.DataFrame()\n",
    "test_total_pred_df = pd.DataFrame()\n",
    "for train_pred_df, test_pred_df in family_prediction_generator(train_df, test_df):\n",
    "    # Keep prediction for submission\n",
    "    training_total_pred_df = pd.concat([training_total_pred_df, train_pred_df])\n",
    "    test_total_pred_df = pd.concat([test_total_pred_df, test_pred_df])"
   ],
   "metadata": {
    "collapsed": false,
    "pycharm": {
     "name": "#%%\n",
     "is_executing": true
    }
   }
  },
  {
   "cell_type": "code",
   "execution_count": null,
   "outputs": [],
   "source": [
    "test_total_pred_df = test_total_pred_df.sort_values(['date', 'store_nbr', 'family'])\n",
    "\n",
    "# Zero the sales for stopped families\n",
    "test_total_pred_df= apply_zero_forecasting(test_total_pred_df, closed_stores_df)\n",
    "\n",
    "ids = pd.read_csv(path + 'test.csv')['id']\n",
    "test_total_pred_df['id'] = ids.values\n",
    "\n",
    "submit_df = test_total_pred_df[['id', 'sales']]\n",
    "\n",
    "if len(submit_df) != 28512: # Minor check before submission :-)\n",
    "    raise Exception(f'The rows ({len(submit_df)}) of the export are not correct')\n",
    "else:\n",
    "    current_dateTime = datetime.now()\n",
    "    latest_filename = 'submission.csv'\n",
    "    submit_df.to_csv(latest_filename, index=True)\n"
   ],
   "metadata": {
    "collapsed": false,
    "pycharm": {
     "name": "#%%\n"
    }
   }
  }
 ],
 "metadata": {
  "kernelspec": {
   "display_name": "Python 3",
   "language": "python",
   "name": "python3"
  },
  "language_info": {
   "codemirror_mode": {
    "name": "ipython",
    "version": 2
   },
   "file_extension": ".py",
   "mimetype": "text/x-python",
   "name": "python",
   "nbconvert_exporter": "python",
   "pygments_lexer": "ipython2",
   "version": "2.7.6"
  }
 },
 "nbformat": 4,
 "nbformat_minor": 0
}