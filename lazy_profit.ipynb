{
 "cells": [
  {
   "cell_type": "code",
   "execution_count": 1,
   "metadata": {
    "collapsed": false,
    "pycharm": {
     "name": "#%%\n"
    }
   },
   "outputs": [
    {
     "data": {
      "text/html": [
       "<div>\n",
       "<style scoped>\n",
       "    .dataframe tbody tr th:only-of-type {\n",
       "        vertical-align: middle;\n",
       "    }\n",
       "\n",
       "    .dataframe tbody tr th {\n",
       "        vertical-align: top;\n",
       "    }\n",
       "\n",
       "    .dataframe thead th {\n",
       "        text-align: right;\n",
       "    }\n",
       "</style>\n",
       "<table border=\"1\" class=\"dataframe\">\n",
       "  <thead>\n",
       "    <tr style=\"text-align: right;\">\n",
       "      <th></th>\n",
       "      <th>store_nbr</th>\n",
       "      <th>city</th>\n",
       "      <th>state</th>\n",
       "      <th>type</th>\n",
       "      <th>cluster</th>\n",
       "    </tr>\n",
       "  </thead>\n",
       "  <tbody>\n",
       "    <tr>\n",
       "      <th>0</th>\n",
       "      <td>1</td>\n",
       "      <td>Quito</td>\n",
       "      <td>Pichincha</td>\n",
       "      <td>D</td>\n",
       "      <td>13</td>\n",
       "    </tr>\n",
       "    <tr>\n",
       "      <th>1</th>\n",
       "      <td>2</td>\n",
       "      <td>Quito</td>\n",
       "      <td>Pichincha</td>\n",
       "      <td>D</td>\n",
       "      <td>13</td>\n",
       "    </tr>\n",
       "    <tr>\n",
       "      <th>2</th>\n",
       "      <td>3</td>\n",
       "      <td>Quito</td>\n",
       "      <td>Pichincha</td>\n",
       "      <td>D</td>\n",
       "      <td>8</td>\n",
       "    </tr>\n",
       "    <tr>\n",
       "      <th>3</th>\n",
       "      <td>4</td>\n",
       "      <td>Quito</td>\n",
       "      <td>Pichincha</td>\n",
       "      <td>D</td>\n",
       "      <td>9</td>\n",
       "    </tr>\n",
       "    <tr>\n",
       "      <th>4</th>\n",
       "      <td>5</td>\n",
       "      <td>Santo Domingo</td>\n",
       "      <td>Santo Domingo de los Tsachilas</td>\n",
       "      <td>D</td>\n",
       "      <td>4</td>\n",
       "    </tr>\n",
       "  </tbody>\n",
       "</table>\n",
       "</div>"
      ],
      "text/plain": [
       "   store_nbr           city                           state type  cluster\n",
       "0          1          Quito                       Pichincha    D       13\n",
       "1          2          Quito                       Pichincha    D       13\n",
       "2          3          Quito                       Pichincha    D        8\n",
       "3          4          Quito                       Pichincha    D        9\n",
       "4          5  Santo Domingo  Santo Domingo de los Tsachilas    D        4"
      ]
     },
     "execution_count": 1,
     "metadata": {},
     "output_type": "execute_result"
    }
   ],
   "source": [
    "import pandas as pd\n",
    "import numpy as np\n",
    "import matplotlib.pyplot as plt\n",
    "import seaborn as sns\n",
    "\n",
    "data = pd.read_csv('inputs/train.csv', index_col='id')\n",
    "data['date'] = pd.to_datetime(data['date'])\n",
    "\n",
    "stores = pd.read_csv('inputs/stores.csv')\n",
    "stores.head()"
   ]
  },
  {
   "cell_type": "code",
   "execution_count": 2,
   "metadata": {
    "collapsed": false,
    "pycharm": {
     "name": "#%%\n"
    }
   },
   "outputs": [],
   "source": [
    "data_stores = data.merge(stores, left_on='store_nbr', right_on='store_nbr')"
   ]
  },
  {
   "cell_type": "code",
   "execution_count": 3,
   "metadata": {
    "collapsed": false,
    "pycharm": {
     "name": "#%%\n"
    }
   },
   "outputs": [],
   "source": [
    "transact = pd.read_csv('inputs/transactions.csv')\n",
    "transact['date'] = pd.to_datetime(transact['date'])\n",
    "data_stores_trans  = data_stores.merge(transact, on=['store_nbr', 'date'])"
   ]
  },
  {
   "cell_type": "code",
   "execution_count": 4,
   "metadata": {
    "collapsed": false,
    "pycharm": {
     "name": "#%%\n"
    }
   },
   "outputs": [
    {
     "data": {
      "text/html": [
       "<div>\n",
       "<style scoped>\n",
       "    .dataframe tbody tr th:only-of-type {\n",
       "        vertical-align: middle;\n",
       "    }\n",
       "\n",
       "    .dataframe tbody tr th {\n",
       "        vertical-align: top;\n",
       "    }\n",
       "\n",
       "    .dataframe thead th {\n",
       "        text-align: right;\n",
       "    }\n",
       "</style>\n",
       "<table border=\"1\" class=\"dataframe\">\n",
       "  <thead>\n",
       "    <tr style=\"text-align: right;\">\n",
       "      <th></th>\n",
       "      <th>date</th>\n",
       "      <th>store_nbr</th>\n",
       "      <th>family</th>\n",
       "      <th>sales</th>\n",
       "      <th>onpromotion</th>\n",
       "      <th>city</th>\n",
       "      <th>state</th>\n",
       "      <th>type</th>\n",
       "      <th>cluster</th>\n",
       "      <th>transactions</th>\n",
       "    </tr>\n",
       "  </thead>\n",
       "  <tbody>\n",
       "    <tr>\n",
       "      <th>0</th>\n",
       "      <td>2013-01-02</td>\n",
       "      <td>1</td>\n",
       "      <td>AUTOMOTIVE</td>\n",
       "      <td>2.0</td>\n",
       "      <td>0</td>\n",
       "      <td>Quito</td>\n",
       "      <td>Pichincha</td>\n",
       "      <td>D</td>\n",
       "      <td>13</td>\n",
       "      <td>2111</td>\n",
       "    </tr>\n",
       "    <tr>\n",
       "      <th>1</th>\n",
       "      <td>2013-01-02</td>\n",
       "      <td>1</td>\n",
       "      <td>BABY CARE</td>\n",
       "      <td>0.0</td>\n",
       "      <td>0</td>\n",
       "      <td>Quito</td>\n",
       "      <td>Pichincha</td>\n",
       "      <td>D</td>\n",
       "      <td>13</td>\n",
       "      <td>2111</td>\n",
       "    </tr>\n",
       "    <tr>\n",
       "      <th>2</th>\n",
       "      <td>2013-01-02</td>\n",
       "      <td>1</td>\n",
       "      <td>BEAUTY</td>\n",
       "      <td>2.0</td>\n",
       "      <td>0</td>\n",
       "      <td>Quito</td>\n",
       "      <td>Pichincha</td>\n",
       "      <td>D</td>\n",
       "      <td>13</td>\n",
       "      <td>2111</td>\n",
       "    </tr>\n",
       "    <tr>\n",
       "      <th>3</th>\n",
       "      <td>2013-01-02</td>\n",
       "      <td>1</td>\n",
       "      <td>BEVERAGES</td>\n",
       "      <td>1091.0</td>\n",
       "      <td>0</td>\n",
       "      <td>Quito</td>\n",
       "      <td>Pichincha</td>\n",
       "      <td>D</td>\n",
       "      <td>13</td>\n",
       "      <td>2111</td>\n",
       "    </tr>\n",
       "    <tr>\n",
       "      <th>4</th>\n",
       "      <td>2013-01-02</td>\n",
       "      <td>1</td>\n",
       "      <td>BOOKS</td>\n",
       "      <td>0.0</td>\n",
       "      <td>0</td>\n",
       "      <td>Quito</td>\n",
       "      <td>Pichincha</td>\n",
       "      <td>D</td>\n",
       "      <td>13</td>\n",
       "      <td>2111</td>\n",
       "    </tr>\n",
       "  </tbody>\n",
       "</table>\n",
       "</div>"
      ],
      "text/plain": [
       "        date  store_nbr      family   sales  onpromotion   city      state  \\\n",
       "0 2013-01-02          1  AUTOMOTIVE     2.0            0  Quito  Pichincha   \n",
       "1 2013-01-02          1   BABY CARE     0.0            0  Quito  Pichincha   \n",
       "2 2013-01-02          1      BEAUTY     2.0            0  Quito  Pichincha   \n",
       "3 2013-01-02          1   BEVERAGES  1091.0            0  Quito  Pichincha   \n",
       "4 2013-01-02          1       BOOKS     0.0            0  Quito  Pichincha   \n",
       "\n",
       "  type  cluster  transactions  \n",
       "0    D       13          2111  \n",
       "1    D       13          2111  \n",
       "2    D       13          2111  \n",
       "3    D       13          2111  \n",
       "4    D       13          2111  "
      ]
     },
     "execution_count": 4,
     "metadata": {},
     "output_type": "execute_result"
    }
   ],
   "source": [
    "data_stores_trans.head()"
   ]
  },
  {
   "cell_type": "code",
   "execution_count": 5,
   "metadata": {
    "collapsed": false,
    "pycharm": {
     "name": "#%%\n"
    }
   },
   "outputs": [],
   "source": [
    "df = data_stores_trans.copy()"
   ]
  },
  {
   "cell_type": "code",
   "execution_count": 6,
   "metadata": {
    "collapsed": false,
    "pycharm": {
     "name": "#%%\n"
    }
   },
   "outputs": [],
   "source": [
    "# df['sales'].replace(0, np.nan, inplace=True)"
   ]
  },
  {
   "cell_type": "code",
   "execution_count": 7,
   "metadata": {
    "collapsed": false,
    "pycharm": {
     "name": "#%%\n"
    }
   },
   "outputs": [],
   "source": [
    "# df.groupby(['store_nbr']).median().sort_values('transactions')"
   ]
  },
  {
   "cell_type": "markdown",
   "metadata": {
    "collapsed": false,
    "pycharm": {
     "name": "#%% md\n"
    }
   },
   "source": [
    "THE CODE BELOW INTEGRATES THE HW4 STUFF AND ADDS THE WORK FROM ABOVE..."
   ]
  },
  {
   "cell_type": "code",
   "execution_count": 8,
   "metadata": {
    "collapsed": false,
    "pycharm": {
     "name": "#%%\n"
    }
   },
   "outputs": [],
   "source": [
    "# path = 'inputs/'\n",
    "# # read oil price\n",
    "# data_oil = pd.read_csv(path + 'oil.csv', parse_dates=['date'], infer_datetime_format=True, index_col='date')\n",
    "#\n",
    "# ########################################################################################################################\n",
    "# # TODO: compute data_oil['ma_oil'] as the moving average of data_oil['dcoilwtico'] with window size 7\n",
    "# # Hint: check the documentation of .rolling() method of pandas.DataFrame\n",
    "# ########################################################################################################################\n",
    "# data_oil['ma_oil'] = data_oil['dcoilwtico'].rolling(7).mean()\n",
    "#\n",
    "# # Create continguous moving average of oil prices\n",
    "# calendar = pd.DataFrame(index=pd.date_range('2013-01-01', '2017-08-31'))\n",
    "#\n",
    "# ########################################################################################################################\n",
    "# # TODO 1: merge two DataFrame instances (data_oil and calendar) such that the merged instances has the same indexes\n",
    "# # as calendar.\n",
    "# # TODO 2: replace each NaN in data_oil['ma_oil'] by the first non-null value before it.\n",
    "# # Hint: check the documentation of .merge() and .fillna() methods of pandas.DataFrame\n",
    "# ########################################################################################################################\n",
    "# calendar = calendar.join(data_oil)\n",
    "#\n",
    "# data_oil['ma_oil'].fillna(method='ffill', inplace=True)\n",
    "# calendar['ma_oil'].fillna(method='ffill', inplace=True)"
   ]
  },
  {
   "cell_type": "code",
   "execution_count": 9,
   "metadata": {
    "pycharm": {
     "name": "#%%\n"
    }
   },
   "outputs": [],
   "source": [
    "data = pd.read_csv('inputs/train.csv', index_col='id')\n",
    "data['date'] = pd.to_datetime(data['date'])\n",
    "data['nat_holiday'] = 0\n",
    "data['reg_holiday'] = 0\n",
    "data['loc_holiday'] = 0\n",
    "\n",
    "stores = pd.read_csv('inputs/stores.csv', index_col='store_nbr')\n",
    "\n",
    "holidays = pd.read_csv('inputs/holidays_events.csv')\n",
    "holidays['date'] = pd.to_datetime(holidays['date'])\n",
    "\n",
    "holidays = holidays.reset_index()\n",
    "stores = stores.reset_index()\n",
    "\n",
    "for index, row in holidays.iterrows():\n",
    "    store_nbr_list = []\n",
    "    if row['locale'] == 'Local':\n",
    "        for sindex, srow in stores.iterrows():\n",
    "            if srow['city'] == row['locale_name']:\n",
    "                data.loc[(data['date'] == row['date']) & (data['store_nbr'] == srow['store_nbr']), 'loc_holiday'] = 1\n",
    "    if row['locale'] == 'Regional':\n",
    "        for sindex, srow in stores.iterrows():\n",
    "            if srow['state'] == row['locale_name']:\n",
    "                data.loc[(data['date'] == row['date']) & (data['store_nbr'] == srow['store_nbr']), 'reg_holiday'] = 1\n",
    "    if row['locale'] == 'National':\n",
    "        data.loc[data['date'] == row['date'], 'nat_holiday'] = 1"
   ]
  },
  {
   "cell_type": "code",
   "execution_count": 10,
   "metadata": {
    "collapsed": false,
    "pycharm": {
     "name": "#%%\n"
    }
   },
   "outputs": [],
   "source": [
    "path = 'inputs/'\n",
    "# read oil price\n",
    "data_oil = pd.read_csv(path + 'oil.csv', parse_dates=['date'], infer_datetime_format=True)\n",
    "\n",
    "########################################################################################################################\n",
    "# TODO: compute data_oil['ma_oil'] as the moving average of data_oil['dcoilwtico'] with window size 7\n",
    "# Hint: check the documentation of .rolling() method of pandas.DataFrame\n",
    "########################################################################################################################\n",
    "data_oil['ma_oil'] = data_oil['dcoilwtico'].rolling(7).mean()\n",
    "\n",
    "# Create continguous moving average of oil prices\n",
    "calendar = pd.DataFrame()\n",
    "calendar['date'] = pd.date_range('2013-01-01', '2017-08-31')\n",
    "# calendar.head()\n",
    "########################################################################################################################\n",
    "# TODO 1: merge two DataFrame instances (data_oil and calendar) such that the merged instances has the same indexes\n",
    "# as calendar.\n",
    "# TODO 2: replace each NaN in data_oil['ma_oil'] by the first non-null value before it.\n",
    "# Hint: check the documentation of .merge() and .fillna() methods of pandas.DataFrame\n",
    "########################################################################################################################\n",
    "cally = pd.merge(calendar, data_oil, how='outer', on='date' )\n",
    "calendar = cally.copy()\n",
    "# calendar = calendar.merge(data_oil, on='date')\n",
    "\n",
    "# calendar.head()\n",
    "\n",
    "data_oil['ma_oil'].fillna(method='ffill', inplace=True)\n",
    "calendar['ma_oil'].fillna(method='ffill', inplace=True)"
   ]
  },
  {
   "cell_type": "code",
   "execution_count": 11,
   "metadata": {
    "collapsed": false,
    "pycharm": {
     "name": "#%%\n"
    }
   },
   "outputs": [],
   "source": [
    "calendar['wd'] = [i.dayofweek < 5 for i in calendar['date']]"
   ]
  },
  {
   "cell_type": "code",
   "execution_count": 12,
   "metadata": {
    "collapsed": false,
    "pycharm": {
     "name": "#%%\n"
    }
   },
   "outputs": [],
   "source": [
    "stores_new = pd.read_csv(path + 'stores.csv',\n",
    "                         usecols=['store_nbr', 'city', 'state', 'type', 'cluster'],\n",
    "                         dtype={'store_nbr': 'category', 'city': 'category', 'state': 'category', 'type': 'category', 'cluster': 'category'})"
   ]
  },
  {
   "cell_type": "code",
   "execution_count": 13,
   "metadata": {
    "collapsed": false,
    "pycharm": {
     "name": "#%%\n"
    }
   },
   "outputs": [],
   "source": [
    "transactions = pd.read_csv(path + 'transactions.csv',\n",
    "                          usecols=['store_nbr', 'date', 'transactions'],\n",
    "                          dtype={'store_nbr': 'category', 'transactions': 'float32'},\n",
    "                          parse_dates=['date'], infer_datetime_format=True)\n",
    "# transactions.date = transactions.date.dt.to_period('D')"
   ]
  },
  {
   "cell_type": "code",
   "execution_count": 14,
   "metadata": {
    "collapsed": false,
    "pycharm": {
     "name": "#%%\n"
    }
   },
   "outputs": [],
   "source": [
    "df_train = pd.read_csv(path + 'train.csv',\n",
    "                       usecols=['store_nbr', 'family', 'date', 'sales', 'onpromotion'],\n",
    "                       dtype={'store_nbr': 'category', 'family': 'category', 'sales': 'float32', 'onpromotion': 'float32'},\n",
    "                       parse_dates=['date'], infer_datetime_format=True)\n",
    "\n",
    "# df_train.date = df_train.date.dt.to_period('D')\n",
    "# df_train = temp.merge(transactions, on=['store_nbr','date'])\n"
   ]
  },
  {
   "cell_type": "code",
   "execution_count": 15,
   "metadata": {
    "collapsed": false,
    "pycharm": {
     "name": "#%%\n"
    }
   },
   "outputs": [],
   "source": [
    "# temp = df_train.merge(transactions, on =['store_nbr', 'date'])\n",
    "temp = pd.merge(transactions, df_train, how='outer', on =['store_nbr', 'date'])"
   ]
  },
  {
   "cell_type": "code",
   "execution_count": 16,
   "metadata": {
    "collapsed": false,
    "pycharm": {
     "name": "#%%\n"
    }
   },
   "outputs": [],
   "source": [
    "temp2 = temp.merge(stores_new, on='store_nbr')"
   ]
  },
  {
   "cell_type": "code",
   "execution_count": 17,
   "metadata": {
    "pycharm": {
     "name": "#%%\n"
    }
   },
   "outputs": [
    {
     "data": {
      "text/plain": [
       "(3000888, 10)"
      ]
     },
     "execution_count": 17,
     "metadata": {},
     "output_type": "execute_result"
    }
   ],
   "source": [
    "temp2.shape"
   ]
  },
  {
   "cell_type": "code",
   "execution_count": 18,
   "metadata": {
    "collapsed": false,
    "pycharm": {
     "name": "#%%\n"
    }
   },
   "outputs": [],
   "source": [
    "df_train = temp2.copy()\n",
    "# df_train = df_train.set_index(['store_nbr', 'family', 'date']).sort_index()"
   ]
  },
  {
   "cell_type": "code",
   "execution_count": 19,
   "metadata": {
    "collapsed": false,
    "pycharm": {
     "name": "#%%\n"
    }
   },
   "outputs": [],
   "source": [
    "df_test = pd.read_csv(path + 'test.csv',\n",
    "                      usecols=['store_nbr', 'family', 'date', 'onpromotion'],\n",
    "                      dtype={'store_nbr': 'category', 'family': 'category', 'onpromotion': 'float32'},\n",
    "                      parse_dates=['date'], infer_datetime_format=True)\n",
    "\n",
    "# df_test.date = df_test.date.dt.to_period('D')\n",
    "# Adding in additional features\n",
    "\n",
    "\n",
    "# df_test = df_test.set_index(['store_nbr', 'family', 'date']).sort_index()"
   ]
  },
  {
   "cell_type": "code",
   "execution_count": 20,
   "metadata": {
    "pycharm": {
     "name": "#%%\n"
    }
   },
   "outputs": [
    {
     "data": {
      "text/html": [
       "<div>\n",
       "<style scoped>\n",
       "    .dataframe tbody tr th:only-of-type {\n",
       "        vertical-align: middle;\n",
       "    }\n",
       "\n",
       "    .dataframe tbody tr th {\n",
       "        vertical-align: top;\n",
       "    }\n",
       "\n",
       "    .dataframe thead th {\n",
       "        text-align: right;\n",
       "    }\n",
       "</style>\n",
       "<table border=\"1\" class=\"dataframe\">\n",
       "  <thead>\n",
       "    <tr style=\"text-align: right;\">\n",
       "      <th></th>\n",
       "      <th>date</th>\n",
       "      <th>store_nbr</th>\n",
       "      <th>family</th>\n",
       "      <th>onpromotion</th>\n",
       "      <th>city</th>\n",
       "      <th>state</th>\n",
       "      <th>type</th>\n",
       "      <th>cluster</th>\n",
       "    </tr>\n",
       "  </thead>\n",
       "  <tbody>\n",
       "    <tr>\n",
       "      <th>0</th>\n",
       "      <td>2017-08-16</td>\n",
       "      <td>1</td>\n",
       "      <td>AUTOMOTIVE</td>\n",
       "      <td>0.0</td>\n",
       "      <td>Quito</td>\n",
       "      <td>Pichincha</td>\n",
       "      <td>D</td>\n",
       "      <td>13</td>\n",
       "    </tr>\n",
       "    <tr>\n",
       "      <th>1</th>\n",
       "      <td>2017-08-16</td>\n",
       "      <td>1</td>\n",
       "      <td>BABY CARE</td>\n",
       "      <td>0.0</td>\n",
       "      <td>Quito</td>\n",
       "      <td>Pichincha</td>\n",
       "      <td>D</td>\n",
       "      <td>13</td>\n",
       "    </tr>\n",
       "    <tr>\n",
       "      <th>2</th>\n",
       "      <td>2017-08-16</td>\n",
       "      <td>1</td>\n",
       "      <td>BEAUTY</td>\n",
       "      <td>2.0</td>\n",
       "      <td>Quito</td>\n",
       "      <td>Pichincha</td>\n",
       "      <td>D</td>\n",
       "      <td>13</td>\n",
       "    </tr>\n",
       "    <tr>\n",
       "      <th>3</th>\n",
       "      <td>2017-08-16</td>\n",
       "      <td>1</td>\n",
       "      <td>BEVERAGES</td>\n",
       "      <td>20.0</td>\n",
       "      <td>Quito</td>\n",
       "      <td>Pichincha</td>\n",
       "      <td>D</td>\n",
       "      <td>13</td>\n",
       "    </tr>\n",
       "    <tr>\n",
       "      <th>4</th>\n",
       "      <td>2017-08-16</td>\n",
       "      <td>1</td>\n",
       "      <td>BOOKS</td>\n",
       "      <td>0.0</td>\n",
       "      <td>Quito</td>\n",
       "      <td>Pichincha</td>\n",
       "      <td>D</td>\n",
       "      <td>13</td>\n",
       "    </tr>\n",
       "    <tr>\n",
       "      <th>...</th>\n",
       "      <td>...</td>\n",
       "      <td>...</td>\n",
       "      <td>...</td>\n",
       "      <td>...</td>\n",
       "      <td>...</td>\n",
       "      <td>...</td>\n",
       "      <td>...</td>\n",
       "      <td>...</td>\n",
       "    </tr>\n",
       "    <tr>\n",
       "      <th>28507</th>\n",
       "      <td>2017-08-31</td>\n",
       "      <td>9</td>\n",
       "      <td>POULTRY</td>\n",
       "      <td>1.0</td>\n",
       "      <td>Quito</td>\n",
       "      <td>Pichincha</td>\n",
       "      <td>B</td>\n",
       "      <td>6</td>\n",
       "    </tr>\n",
       "    <tr>\n",
       "      <th>28508</th>\n",
       "      <td>2017-08-31</td>\n",
       "      <td>9</td>\n",
       "      <td>PREPARED FOODS</td>\n",
       "      <td>0.0</td>\n",
       "      <td>Quito</td>\n",
       "      <td>Pichincha</td>\n",
       "      <td>B</td>\n",
       "      <td>6</td>\n",
       "    </tr>\n",
       "    <tr>\n",
       "      <th>28509</th>\n",
       "      <td>2017-08-31</td>\n",
       "      <td>9</td>\n",
       "      <td>PRODUCE</td>\n",
       "      <td>1.0</td>\n",
       "      <td>Quito</td>\n",
       "      <td>Pichincha</td>\n",
       "      <td>B</td>\n",
       "      <td>6</td>\n",
       "    </tr>\n",
       "    <tr>\n",
       "      <th>28510</th>\n",
       "      <td>2017-08-31</td>\n",
       "      <td>9</td>\n",
       "      <td>SCHOOL AND OFFICE SUPPLIES</td>\n",
       "      <td>9.0</td>\n",
       "      <td>Quito</td>\n",
       "      <td>Pichincha</td>\n",
       "      <td>B</td>\n",
       "      <td>6</td>\n",
       "    </tr>\n",
       "    <tr>\n",
       "      <th>28511</th>\n",
       "      <td>2017-08-31</td>\n",
       "      <td>9</td>\n",
       "      <td>SEAFOOD</td>\n",
       "      <td>0.0</td>\n",
       "      <td>Quito</td>\n",
       "      <td>Pichincha</td>\n",
       "      <td>B</td>\n",
       "      <td>6</td>\n",
       "    </tr>\n",
       "  </tbody>\n",
       "</table>\n",
       "<p>28512 rows × 8 columns</p>\n",
       "</div>"
      ],
      "text/plain": [
       "            date store_nbr                      family  onpromotion   city  \\\n",
       "0     2017-08-16         1                  AUTOMOTIVE          0.0  Quito   \n",
       "1     2017-08-16         1                   BABY CARE          0.0  Quito   \n",
       "2     2017-08-16         1                      BEAUTY          2.0  Quito   \n",
       "3     2017-08-16         1                   BEVERAGES         20.0  Quito   \n",
       "4     2017-08-16         1                       BOOKS          0.0  Quito   \n",
       "...          ...       ...                         ...          ...    ...   \n",
       "28507 2017-08-31         9                     POULTRY          1.0  Quito   \n",
       "28508 2017-08-31         9              PREPARED FOODS          0.0  Quito   \n",
       "28509 2017-08-31         9                     PRODUCE          1.0  Quito   \n",
       "28510 2017-08-31         9  SCHOOL AND OFFICE SUPPLIES          9.0  Quito   \n",
       "28511 2017-08-31         9                     SEAFOOD          0.0  Quito   \n",
       "\n",
       "           state type cluster  \n",
       "0      Pichincha    D      13  \n",
       "1      Pichincha    D      13  \n",
       "2      Pichincha    D      13  \n",
       "3      Pichincha    D      13  \n",
       "4      Pichincha    D      13  \n",
       "...          ...  ...     ...  \n",
       "28507  Pichincha    B       6  \n",
       "28508  Pichincha    B       6  \n",
       "28509  Pichincha    B       6  \n",
       "28510  Pichincha    B       6  \n",
       "28511  Pichincha    B       6  \n",
       "\n",
       "[28512 rows x 8 columns]"
      ]
     },
     "execution_count": 20,
     "metadata": {},
     "output_type": "execute_result"
    }
   ],
   "source": [
    "test_stores = df_test.merge(stores_new, on='store_nbr')\n",
    "test_stores"
   ]
  },
  {
   "cell_type": "code",
   "execution_count": 21,
   "metadata": {
    "pycharm": {
     "name": "#%%\n"
    }
   },
   "outputs": [
    {
     "data": {
      "text/html": [
       "<div>\n",
       "<style scoped>\n",
       "    .dataframe tbody tr th:only-of-type {\n",
       "        vertical-align: middle;\n",
       "    }\n",
       "\n",
       "    .dataframe tbody tr th {\n",
       "        vertical-align: top;\n",
       "    }\n",
       "\n",
       "    .dataframe thead th {\n",
       "        text-align: right;\n",
       "    }\n",
       "</style>\n",
       "<table border=\"1\" class=\"dataframe\">\n",
       "  <thead>\n",
       "    <tr style=\"text-align: right;\">\n",
       "      <th></th>\n",
       "      <th>date</th>\n",
       "      <th>store_nbr</th>\n",
       "      <th>family</th>\n",
       "      <th>onpromotion</th>\n",
       "      <th>city</th>\n",
       "      <th>state</th>\n",
       "      <th>type</th>\n",
       "      <th>cluster</th>\n",
       "      <th>dcoilwtico</th>\n",
       "      <th>ma_oil</th>\n",
       "      <th>wd</th>\n",
       "    </tr>\n",
       "  </thead>\n",
       "  <tbody>\n",
       "    <tr>\n",
       "      <th>0</th>\n",
       "      <td>2017-08-16</td>\n",
       "      <td>1</td>\n",
       "      <td>AUTOMOTIVE</td>\n",
       "      <td>0.0</td>\n",
       "      <td>Quito</td>\n",
       "      <td>Pichincha</td>\n",
       "      <td>D</td>\n",
       "      <td>13</td>\n",
       "      <td>46.80</td>\n",
       "      <td>48.281429</td>\n",
       "      <td>True</td>\n",
       "    </tr>\n",
       "    <tr>\n",
       "      <th>1</th>\n",
       "      <td>2017-08-16</td>\n",
       "      <td>1</td>\n",
       "      <td>BABY CARE</td>\n",
       "      <td>0.0</td>\n",
       "      <td>Quito</td>\n",
       "      <td>Pichincha</td>\n",
       "      <td>D</td>\n",
       "      <td>13</td>\n",
       "      <td>46.80</td>\n",
       "      <td>48.281429</td>\n",
       "      <td>True</td>\n",
       "    </tr>\n",
       "    <tr>\n",
       "      <th>2</th>\n",
       "      <td>2017-08-16</td>\n",
       "      <td>1</td>\n",
       "      <td>BEAUTY</td>\n",
       "      <td>2.0</td>\n",
       "      <td>Quito</td>\n",
       "      <td>Pichincha</td>\n",
       "      <td>D</td>\n",
       "      <td>13</td>\n",
       "      <td>46.80</td>\n",
       "      <td>48.281429</td>\n",
       "      <td>True</td>\n",
       "    </tr>\n",
       "    <tr>\n",
       "      <th>3</th>\n",
       "      <td>2017-08-16</td>\n",
       "      <td>1</td>\n",
       "      <td>BEVERAGES</td>\n",
       "      <td>20.0</td>\n",
       "      <td>Quito</td>\n",
       "      <td>Pichincha</td>\n",
       "      <td>D</td>\n",
       "      <td>13</td>\n",
       "      <td>46.80</td>\n",
       "      <td>48.281429</td>\n",
       "      <td>True</td>\n",
       "    </tr>\n",
       "    <tr>\n",
       "      <th>4</th>\n",
       "      <td>2017-08-16</td>\n",
       "      <td>1</td>\n",
       "      <td>BOOKS</td>\n",
       "      <td>0.0</td>\n",
       "      <td>Quito</td>\n",
       "      <td>Pichincha</td>\n",
       "      <td>D</td>\n",
       "      <td>13</td>\n",
       "      <td>46.80</td>\n",
       "      <td>48.281429</td>\n",
       "      <td>True</td>\n",
       "    </tr>\n",
       "    <tr>\n",
       "      <th>...</th>\n",
       "      <td>...</td>\n",
       "      <td>...</td>\n",
       "      <td>...</td>\n",
       "      <td>...</td>\n",
       "      <td>...</td>\n",
       "      <td>...</td>\n",
       "      <td>...</td>\n",
       "      <td>...</td>\n",
       "      <td>...</td>\n",
       "      <td>...</td>\n",
       "      <td>...</td>\n",
       "    </tr>\n",
       "    <tr>\n",
       "      <th>28507</th>\n",
       "      <td>2017-08-31</td>\n",
       "      <td>9</td>\n",
       "      <td>POULTRY</td>\n",
       "      <td>1.0</td>\n",
       "      <td>Quito</td>\n",
       "      <td>Pichincha</td>\n",
       "      <td>B</td>\n",
       "      <td>6</td>\n",
       "      <td>47.26</td>\n",
       "      <td>47.060000</td>\n",
       "      <td>True</td>\n",
       "    </tr>\n",
       "    <tr>\n",
       "      <th>28508</th>\n",
       "      <td>2017-08-31</td>\n",
       "      <td>9</td>\n",
       "      <td>PREPARED FOODS</td>\n",
       "      <td>0.0</td>\n",
       "      <td>Quito</td>\n",
       "      <td>Pichincha</td>\n",
       "      <td>B</td>\n",
       "      <td>6</td>\n",
       "      <td>47.26</td>\n",
       "      <td>47.060000</td>\n",
       "      <td>True</td>\n",
       "    </tr>\n",
       "    <tr>\n",
       "      <th>28509</th>\n",
       "      <td>2017-08-31</td>\n",
       "      <td>9</td>\n",
       "      <td>PRODUCE</td>\n",
       "      <td>1.0</td>\n",
       "      <td>Quito</td>\n",
       "      <td>Pichincha</td>\n",
       "      <td>B</td>\n",
       "      <td>6</td>\n",
       "      <td>47.26</td>\n",
       "      <td>47.060000</td>\n",
       "      <td>True</td>\n",
       "    </tr>\n",
       "    <tr>\n",
       "      <th>28510</th>\n",
       "      <td>2017-08-31</td>\n",
       "      <td>9</td>\n",
       "      <td>SCHOOL AND OFFICE SUPPLIES</td>\n",
       "      <td>9.0</td>\n",
       "      <td>Quito</td>\n",
       "      <td>Pichincha</td>\n",
       "      <td>B</td>\n",
       "      <td>6</td>\n",
       "      <td>47.26</td>\n",
       "      <td>47.060000</td>\n",
       "      <td>True</td>\n",
       "    </tr>\n",
       "    <tr>\n",
       "      <th>28511</th>\n",
       "      <td>2017-08-31</td>\n",
       "      <td>9</td>\n",
       "      <td>SEAFOOD</td>\n",
       "      <td>0.0</td>\n",
       "      <td>Quito</td>\n",
       "      <td>Pichincha</td>\n",
       "      <td>B</td>\n",
       "      <td>6</td>\n",
       "      <td>47.26</td>\n",
       "      <td>47.060000</td>\n",
       "      <td>True</td>\n",
       "    </tr>\n",
       "  </tbody>\n",
       "</table>\n",
       "<p>28512 rows × 11 columns</p>\n",
       "</div>"
      ],
      "text/plain": [
       "            date store_nbr                      family  onpromotion   city  \\\n",
       "0     2017-08-16         1                  AUTOMOTIVE          0.0  Quito   \n",
       "1     2017-08-16         1                   BABY CARE          0.0  Quito   \n",
       "2     2017-08-16         1                      BEAUTY          2.0  Quito   \n",
       "3     2017-08-16         1                   BEVERAGES         20.0  Quito   \n",
       "4     2017-08-16         1                       BOOKS          0.0  Quito   \n",
       "...          ...       ...                         ...          ...    ...   \n",
       "28507 2017-08-31         9                     POULTRY          1.0  Quito   \n",
       "28508 2017-08-31         9              PREPARED FOODS          0.0  Quito   \n",
       "28509 2017-08-31         9                     PRODUCE          1.0  Quito   \n",
       "28510 2017-08-31         9  SCHOOL AND OFFICE SUPPLIES          9.0  Quito   \n",
       "28511 2017-08-31         9                     SEAFOOD          0.0  Quito   \n",
       "\n",
       "           state type cluster  dcoilwtico     ma_oil    wd  \n",
       "0      Pichincha    D      13       46.80  48.281429  True  \n",
       "1      Pichincha    D      13       46.80  48.281429  True  \n",
       "2      Pichincha    D      13       46.80  48.281429  True  \n",
       "3      Pichincha    D      13       46.80  48.281429  True  \n",
       "4      Pichincha    D      13       46.80  48.281429  True  \n",
       "...          ...  ...     ...         ...        ...   ...  \n",
       "28507  Pichincha    B       6       47.26  47.060000  True  \n",
       "28508  Pichincha    B       6       47.26  47.060000  True  \n",
       "28509  Pichincha    B       6       47.26  47.060000  True  \n",
       "28510  Pichincha    B       6       47.26  47.060000  True  \n",
       "28511  Pichincha    B       6       47.26  47.060000  True  \n",
       "\n",
       "[28512 rows x 11 columns]"
      ]
     },
     "execution_count": 21,
     "metadata": {},
     "output_type": "execute_result"
    }
   ],
   "source": [
    "test_stores_cal = test_stores.merge(calendar, on='date')\n",
    "test_stores_cal"
   ]
  },
  {
   "cell_type": "code",
   "execution_count": 22,
   "metadata": {
    "pycharm": {
     "name": "#%%\n"
    }
   },
   "outputs": [
    {
     "data": {
      "text/plain": [
       "True"
      ]
     },
     "execution_count": 22,
     "metadata": {},
     "output_type": "execute_result"
    }
   ],
   "source": [
    "pd.to_datetime('2017-08-16') in test_stores_cal.date.unique()"
   ]
  },
  {
   "cell_type": "code",
   "execution_count": 23,
   "metadata": {
    "collapsed": false,
    "pycharm": {
     "name": "#%%\n"
    }
   },
   "outputs": [],
   "source": [
    "store1 = df_train.loc[df_train['store_nbr'] == '1']\n",
    "# df_train.head()\n",
    "# df_train.groupby('store_nbr')\n",
    "# ddf = df_train.set_index(['store_nbr', 'family', 'date']).sort_index()"
   ]
  },
  {
   "cell_type": "code",
   "execution_count": 24,
   "metadata": {
    "collapsed": false,
    "pycharm": {
     "name": "#%%\n"
    }
   },
   "outputs": [
    {
     "data": {
      "text/html": [
       "<div>\n",
       "<style scoped>\n",
       "    .dataframe tbody tr th:only-of-type {\n",
       "        vertical-align: middle;\n",
       "    }\n",
       "\n",
       "    .dataframe tbody tr th {\n",
       "        vertical-align: top;\n",
       "    }\n",
       "\n",
       "    .dataframe thead th {\n",
       "        text-align: right;\n",
       "    }\n",
       "</style>\n",
       "<table border=\"1\" class=\"dataframe\">\n",
       "  <thead>\n",
       "    <tr style=\"text-align: right;\">\n",
       "      <th></th>\n",
       "      <th>date</th>\n",
       "      <th>store_nbr</th>\n",
       "      <th>transactions</th>\n",
       "      <th>family</th>\n",
       "      <th>sales</th>\n",
       "      <th>onpromotion</th>\n",
       "      <th>city</th>\n",
       "      <th>state</th>\n",
       "      <th>type</th>\n",
       "      <th>cluster</th>\n",
       "      <th>dcoilwtico</th>\n",
       "      <th>ma_oil</th>\n",
       "      <th>wd</th>\n",
       "    </tr>\n",
       "  </thead>\n",
       "  <tbody>\n",
       "    <tr>\n",
       "      <th>0</th>\n",
       "      <td>2013-01-01</td>\n",
       "      <td>25</td>\n",
       "      <td>770.0</td>\n",
       "      <td>AUTOMOTIVE</td>\n",
       "      <td>0.0</td>\n",
       "      <td>0.0</td>\n",
       "      <td>Salinas</td>\n",
       "      <td>Santa Elena</td>\n",
       "      <td>D</td>\n",
       "      <td>1</td>\n",
       "      <td>NaN</td>\n",
       "      <td>NaN</td>\n",
       "      <td>True</td>\n",
       "    </tr>\n",
       "    <tr>\n",
       "      <th>1</th>\n",
       "      <td>2013-01-01</td>\n",
       "      <td>25</td>\n",
       "      <td>770.0</td>\n",
       "      <td>BABY CARE</td>\n",
       "      <td>0.0</td>\n",
       "      <td>0.0</td>\n",
       "      <td>Salinas</td>\n",
       "      <td>Santa Elena</td>\n",
       "      <td>D</td>\n",
       "      <td>1</td>\n",
       "      <td>NaN</td>\n",
       "      <td>NaN</td>\n",
       "      <td>True</td>\n",
       "    </tr>\n",
       "    <tr>\n",
       "      <th>2</th>\n",
       "      <td>2013-01-01</td>\n",
       "      <td>25</td>\n",
       "      <td>770.0</td>\n",
       "      <td>BEAUTY</td>\n",
       "      <td>2.0</td>\n",
       "      <td>0.0</td>\n",
       "      <td>Salinas</td>\n",
       "      <td>Santa Elena</td>\n",
       "      <td>D</td>\n",
       "      <td>1</td>\n",
       "      <td>NaN</td>\n",
       "      <td>NaN</td>\n",
       "      <td>True</td>\n",
       "    </tr>\n",
       "    <tr>\n",
       "      <th>3</th>\n",
       "      <td>2013-01-01</td>\n",
       "      <td>25</td>\n",
       "      <td>770.0</td>\n",
       "      <td>BEVERAGES</td>\n",
       "      <td>810.0</td>\n",
       "      <td>0.0</td>\n",
       "      <td>Salinas</td>\n",
       "      <td>Santa Elena</td>\n",
       "      <td>D</td>\n",
       "      <td>1</td>\n",
       "      <td>NaN</td>\n",
       "      <td>NaN</td>\n",
       "      <td>True</td>\n",
       "    </tr>\n",
       "    <tr>\n",
       "      <th>4</th>\n",
       "      <td>2013-01-01</td>\n",
       "      <td>25</td>\n",
       "      <td>770.0</td>\n",
       "      <td>BOOKS</td>\n",
       "      <td>0.0</td>\n",
       "      <td>0.0</td>\n",
       "      <td>Salinas</td>\n",
       "      <td>Santa Elena</td>\n",
       "      <td>D</td>\n",
       "      <td>1</td>\n",
       "      <td>NaN</td>\n",
       "      <td>NaN</td>\n",
       "      <td>True</td>\n",
       "    </tr>\n",
       "    <tr>\n",
       "      <th>...</th>\n",
       "      <td>...</td>\n",
       "      <td>...</td>\n",
       "      <td>...</td>\n",
       "      <td>...</td>\n",
       "      <td>...</td>\n",
       "      <td>...</td>\n",
       "      <td>...</td>\n",
       "      <td>...</td>\n",
       "      <td>...</td>\n",
       "      <td>...</td>\n",
       "      <td>...</td>\n",
       "      <td>...</td>\n",
       "      <td>...</td>\n",
       "    </tr>\n",
       "    <tr>\n",
       "      <th>3000883</th>\n",
       "      <td>2016-10-26</td>\n",
       "      <td>52</td>\n",
       "      <td>NaN</td>\n",
       "      <td>POULTRY</td>\n",
       "      <td>0.0</td>\n",
       "      <td>0.0</td>\n",
       "      <td>Manta</td>\n",
       "      <td>Manabi</td>\n",
       "      <td>A</td>\n",
       "      <td>11</td>\n",
       "      <td>48.75</td>\n",
       "      <td>50.17</td>\n",
       "      <td>True</td>\n",
       "    </tr>\n",
       "    <tr>\n",
       "      <th>3000884</th>\n",
       "      <td>2016-10-26</td>\n",
       "      <td>52</td>\n",
       "      <td>NaN</td>\n",
       "      <td>PREPARED FOODS</td>\n",
       "      <td>0.0</td>\n",
       "      <td>0.0</td>\n",
       "      <td>Manta</td>\n",
       "      <td>Manabi</td>\n",
       "      <td>A</td>\n",
       "      <td>11</td>\n",
       "      <td>48.75</td>\n",
       "      <td>50.17</td>\n",
       "      <td>True</td>\n",
       "    </tr>\n",
       "    <tr>\n",
       "      <th>3000885</th>\n",
       "      <td>2016-10-26</td>\n",
       "      <td>52</td>\n",
       "      <td>NaN</td>\n",
       "      <td>PRODUCE</td>\n",
       "      <td>0.0</td>\n",
       "      <td>0.0</td>\n",
       "      <td>Manta</td>\n",
       "      <td>Manabi</td>\n",
       "      <td>A</td>\n",
       "      <td>11</td>\n",
       "      <td>48.75</td>\n",
       "      <td>50.17</td>\n",
       "      <td>True</td>\n",
       "    </tr>\n",
       "    <tr>\n",
       "      <th>3000886</th>\n",
       "      <td>2016-10-26</td>\n",
       "      <td>52</td>\n",
       "      <td>NaN</td>\n",
       "      <td>SCHOOL AND OFFICE SUPPLIES</td>\n",
       "      <td>0.0</td>\n",
       "      <td>0.0</td>\n",
       "      <td>Manta</td>\n",
       "      <td>Manabi</td>\n",
       "      <td>A</td>\n",
       "      <td>11</td>\n",
       "      <td>48.75</td>\n",
       "      <td>50.17</td>\n",
       "      <td>True</td>\n",
       "    </tr>\n",
       "    <tr>\n",
       "      <th>3000887</th>\n",
       "      <td>2016-10-26</td>\n",
       "      <td>52</td>\n",
       "      <td>NaN</td>\n",
       "      <td>SEAFOOD</td>\n",
       "      <td>0.0</td>\n",
       "      <td>0.0</td>\n",
       "      <td>Manta</td>\n",
       "      <td>Manabi</td>\n",
       "      <td>A</td>\n",
       "      <td>11</td>\n",
       "      <td>48.75</td>\n",
       "      <td>50.17</td>\n",
       "      <td>True</td>\n",
       "    </tr>\n",
       "  </tbody>\n",
       "</table>\n",
       "<p>3000888 rows × 13 columns</p>\n",
       "</div>"
      ],
      "text/plain": [
       "              date store_nbr  transactions                      family  sales  \\\n",
       "0       2013-01-01        25         770.0                  AUTOMOTIVE    0.0   \n",
       "1       2013-01-01        25         770.0                   BABY CARE    0.0   \n",
       "2       2013-01-01        25         770.0                      BEAUTY    2.0   \n",
       "3       2013-01-01        25         770.0                   BEVERAGES  810.0   \n",
       "4       2013-01-01        25         770.0                       BOOKS    0.0   \n",
       "...            ...       ...           ...                         ...    ...   \n",
       "3000883 2016-10-26        52           NaN                     POULTRY    0.0   \n",
       "3000884 2016-10-26        52           NaN              PREPARED FOODS    0.0   \n",
       "3000885 2016-10-26        52           NaN                     PRODUCE    0.0   \n",
       "3000886 2016-10-26        52           NaN  SCHOOL AND OFFICE SUPPLIES    0.0   \n",
       "3000887 2016-10-26        52           NaN                     SEAFOOD    0.0   \n",
       "\n",
       "         onpromotion     city        state type cluster  dcoilwtico  ma_oil  \\\n",
       "0                0.0  Salinas  Santa Elena    D       1         NaN     NaN   \n",
       "1                0.0  Salinas  Santa Elena    D       1         NaN     NaN   \n",
       "2                0.0  Salinas  Santa Elena    D       1         NaN     NaN   \n",
       "3                0.0  Salinas  Santa Elena    D       1         NaN     NaN   \n",
       "4                0.0  Salinas  Santa Elena    D       1         NaN     NaN   \n",
       "...              ...      ...          ...  ...     ...         ...     ...   \n",
       "3000883          0.0    Manta       Manabi    A      11       48.75   50.17   \n",
       "3000884          0.0    Manta       Manabi    A      11       48.75   50.17   \n",
       "3000885          0.0    Manta       Manabi    A      11       48.75   50.17   \n",
       "3000886          0.0    Manta       Manabi    A      11       48.75   50.17   \n",
       "3000887          0.0    Manta       Manabi    A      11       48.75   50.17   \n",
       "\n",
       "           wd  \n",
       "0        True  \n",
       "1        True  \n",
       "2        True  \n",
       "3        True  \n",
       "4        True  \n",
       "...       ...  \n",
       "3000883  True  \n",
       "3000884  True  \n",
       "3000885  True  \n",
       "3000886  True  \n",
       "3000887  True  \n",
       "\n",
       "[3000888 rows x 13 columns]"
      ]
     },
     "execution_count": 24,
     "metadata": {},
     "output_type": "execute_result"
    }
   ],
   "source": [
    "testy = df_train.merge(calendar, on='date')\n",
    "testy"
   ]
  },
  {
   "cell_type": "code",
   "execution_count": 25,
   "metadata": {
    "pycharm": {
     "name": "#%%\n"
    }
   },
   "outputs": [],
   "source": [
    "# testy = pd.concat([testy, df_test])\n",
    "# testy"
   ]
  },
  {
   "cell_type": "code",
   "execution_count": 26,
   "metadata": {
    "pycharm": {
     "name": "#%%\n"
    }
   },
   "outputs": [],
   "source": [
    "# testy.drop(['ma_oil', 'dcoilwtico'])\n",
    "# testy =pd.merge(testy, cally, how='outer', on='date')\n",
    "# testy"
   ]
  },
  {
   "cell_type": "code",
   "execution_count": 27,
   "metadata": {
    "pycharm": {
     "name": "#%%\n"
    }
   },
   "outputs": [
    {
     "data": {
      "text/html": [
       "<div>\n",
       "<style scoped>\n",
       "    .dataframe tbody tr th:only-of-type {\n",
       "        vertical-align: middle;\n",
       "    }\n",
       "\n",
       "    .dataframe tbody tr th {\n",
       "        vertical-align: top;\n",
       "    }\n",
       "\n",
       "    .dataframe thead th {\n",
       "        text-align: right;\n",
       "    }\n",
       "</style>\n",
       "<table border=\"1\" class=\"dataframe\">\n",
       "  <thead>\n",
       "    <tr style=\"text-align: right;\">\n",
       "      <th></th>\n",
       "      <th>date</th>\n",
       "      <th>store_nbr</th>\n",
       "      <th>transactions</th>\n",
       "      <th>family</th>\n",
       "      <th>sales</th>\n",
       "      <th>onpromotion</th>\n",
       "      <th>city</th>\n",
       "      <th>state</th>\n",
       "      <th>type</th>\n",
       "      <th>cluster</th>\n",
       "      <th>dcoilwtico</th>\n",
       "      <th>ma_oil</th>\n",
       "      <th>wd</th>\n",
       "    </tr>\n",
       "  </thead>\n",
       "  <tbody>\n",
       "  </tbody>\n",
       "</table>\n",
       "</div>"
      ],
      "text/plain": [
       "Empty DataFrame\n",
       "Columns: [date, store_nbr, transactions, family, sales, onpromotion, city, state, type, cluster, dcoilwtico, ma_oil, wd]\n",
       "Index: []"
      ]
     },
     "execution_count": 27,
     "metadata": {},
     "output_type": "execute_result"
    }
   ],
   "source": [
    "testy.loc[testy['date'] == pd.to_datetime('2017-08-16')]"
   ]
  },
  {
   "cell_type": "code",
   "execution_count": 28,
   "metadata": {
    "collapsed": false,
    "pycharm": {
     "name": "#%%\n"
    }
   },
   "outputs": [],
   "source": [
    "def insert_holidays(testy):\n",
    "    # data = pd.read_csv('inputs/train.csv', index_col='id')\n",
    "    # data['date'] = pd.to_datetime(data['date'])\n",
    "    data = testy.copy()\n",
    "    data['nat_holiday'] = 0\n",
    "    data['reg_holiday'] = 0\n",
    "    data['loc_holiday'] = 0\n",
    "\n",
    "\n",
    "    # stores = pd.read_csv('inputs/stores.csv', index_col='store_nbr')\n",
    "    stores = stores_new.copy()\n",
    "    # holidays = pd.read_csv('inputs/holidays_events.csv')\n",
    "    # holidays['date'] = pd.to_datetime(holidays['date'])\n",
    "    holidays = pd.read_csv(path + 'holidays_events.csv',\n",
    "                        usecols=['date', 'type', 'locale', 'locale_name', 'transferred'],\n",
    "                        dtype={'type': 'category', 'locale': 'category', 'locale_name': 'category', 'transferred': 'bool'},\n",
    "                        parse_dates=['date'], infer_datetime_format=True\n",
    "                        )\n",
    "\n",
    "    # holidays.date = holidays.date.dt.to_period('D')\n",
    "    holidays = holidays.reset_index()\n",
    "    stores = stores.reset_index()\n",
    "\n",
    "    for index, row in holidays.iterrows():\n",
    "        store_nbr_list = []\n",
    "        if row['locale'] == 'Local':\n",
    "            for sindex, srow in stores.iterrows():\n",
    "                if srow['city'] == row['locale_name']:\n",
    "                    data.loc[(data['date'] == row['date']) & (data['store_nbr'] == srow['store_nbr']), 'loc_holiday'] = 1\n",
    "        if row['locale'] == 'Regional':\n",
    "            for sindex, srow in stores.iterrows():\n",
    "                if srow['state'] == row['locale_name']:\n",
    "                    data.loc[(data['date'] == row['date']) & (data['store_nbr'] == srow['store_nbr']), 'reg_holiday'] = 1\n",
    "        if row['locale'] == 'National':\n",
    "            data.loc[data['date'] == row['date'], 'nat_holiday'] = 1\n",
    "\n",
    "    return data"
   ]
  },
  {
   "cell_type": "code",
   "execution_count": 29,
   "metadata": {
    "pycharm": {
     "name": "#%%\n"
    }
   },
   "outputs": [],
   "source": [
    "data = insert_holidays(testy)\n",
    "data_test = insert_holidays(test_stores_cal)"
   ]
  },
  {
   "cell_type": "code",
   "execution_count": 30,
   "metadata": {
    "pycharm": {
     "name": "#%%\n"
    }
   },
   "outputs": [],
   "source": [
    "# Get rid of nans\n",
    "data.transactions.fillna(0, inplace=True)\n",
    "data['ma_oil'].fillna(method='ffill', inplace=True)"
   ]
  },
  {
   "cell_type": "code",
   "execution_count": 31,
   "metadata": {
    "pycharm": {
     "name": "#%%\n"
    }
   },
   "outputs": [
    {
     "data": {
      "text/html": [
       "<div>\n",
       "<style scoped>\n",
       "    .dataframe tbody tr th:only-of-type {\n",
       "        vertical-align: middle;\n",
       "    }\n",
       "\n",
       "    .dataframe tbody tr th {\n",
       "        vertical-align: top;\n",
       "    }\n",
       "\n",
       "    .dataframe thead th {\n",
       "        text-align: right;\n",
       "    }\n",
       "</style>\n",
       "<table border=\"1\" class=\"dataframe\">\n",
       "  <thead>\n",
       "    <tr style=\"text-align: right;\">\n",
       "      <th></th>\n",
       "      <th>date</th>\n",
       "      <th>store_nbr</th>\n",
       "      <th>transactions</th>\n",
       "      <th>family</th>\n",
       "      <th>sales</th>\n",
       "      <th>onpromotion</th>\n",
       "      <th>city</th>\n",
       "      <th>state</th>\n",
       "      <th>type</th>\n",
       "      <th>cluster</th>\n",
       "      <th>dcoilwtico</th>\n",
       "      <th>ma_oil</th>\n",
       "      <th>wd</th>\n",
       "      <th>nat_holiday</th>\n",
       "      <th>reg_holiday</th>\n",
       "      <th>loc_holiday</th>\n",
       "    </tr>\n",
       "  </thead>\n",
       "  <tbody>\n",
       "    <tr>\n",
       "      <th>0</th>\n",
       "      <td>2013-01-01</td>\n",
       "      <td>25</td>\n",
       "      <td>770.0</td>\n",
       "      <td>AUTOMOTIVE</td>\n",
       "      <td>0.0</td>\n",
       "      <td>0.0</td>\n",
       "      <td>Salinas</td>\n",
       "      <td>Santa Elena</td>\n",
       "      <td>D</td>\n",
       "      <td>1</td>\n",
       "      <td>NaN</td>\n",
       "      <td>NaN</td>\n",
       "      <td>True</td>\n",
       "      <td>1</td>\n",
       "      <td>0</td>\n",
       "      <td>0</td>\n",
       "    </tr>\n",
       "    <tr>\n",
       "      <th>1</th>\n",
       "      <td>2013-01-01</td>\n",
       "      <td>25</td>\n",
       "      <td>770.0</td>\n",
       "      <td>BABY CARE</td>\n",
       "      <td>0.0</td>\n",
       "      <td>0.0</td>\n",
       "      <td>Salinas</td>\n",
       "      <td>Santa Elena</td>\n",
       "      <td>D</td>\n",
       "      <td>1</td>\n",
       "      <td>NaN</td>\n",
       "      <td>NaN</td>\n",
       "      <td>True</td>\n",
       "      <td>1</td>\n",
       "      <td>0</td>\n",
       "      <td>0</td>\n",
       "    </tr>\n",
       "    <tr>\n",
       "      <th>2</th>\n",
       "      <td>2013-01-01</td>\n",
       "      <td>25</td>\n",
       "      <td>770.0</td>\n",
       "      <td>BEAUTY</td>\n",
       "      <td>2.0</td>\n",
       "      <td>0.0</td>\n",
       "      <td>Salinas</td>\n",
       "      <td>Santa Elena</td>\n",
       "      <td>D</td>\n",
       "      <td>1</td>\n",
       "      <td>NaN</td>\n",
       "      <td>NaN</td>\n",
       "      <td>True</td>\n",
       "      <td>1</td>\n",
       "      <td>0</td>\n",
       "      <td>0</td>\n",
       "    </tr>\n",
       "    <tr>\n",
       "      <th>3</th>\n",
       "      <td>2013-01-01</td>\n",
       "      <td>25</td>\n",
       "      <td>770.0</td>\n",
       "      <td>BEVERAGES</td>\n",
       "      <td>810.0</td>\n",
       "      <td>0.0</td>\n",
       "      <td>Salinas</td>\n",
       "      <td>Santa Elena</td>\n",
       "      <td>D</td>\n",
       "      <td>1</td>\n",
       "      <td>NaN</td>\n",
       "      <td>NaN</td>\n",
       "      <td>True</td>\n",
       "      <td>1</td>\n",
       "      <td>0</td>\n",
       "      <td>0</td>\n",
       "    </tr>\n",
       "    <tr>\n",
       "      <th>4</th>\n",
       "      <td>2013-01-01</td>\n",
       "      <td>25</td>\n",
       "      <td>770.0</td>\n",
       "      <td>BOOKS</td>\n",
       "      <td>0.0</td>\n",
       "      <td>0.0</td>\n",
       "      <td>Salinas</td>\n",
       "      <td>Santa Elena</td>\n",
       "      <td>D</td>\n",
       "      <td>1</td>\n",
       "      <td>NaN</td>\n",
       "      <td>NaN</td>\n",
       "      <td>True</td>\n",
       "      <td>1</td>\n",
       "      <td>0</td>\n",
       "      <td>0</td>\n",
       "    </tr>\n",
       "    <tr>\n",
       "      <th>...</th>\n",
       "      <td>...</td>\n",
       "      <td>...</td>\n",
       "      <td>...</td>\n",
       "      <td>...</td>\n",
       "      <td>...</td>\n",
       "      <td>...</td>\n",
       "      <td>...</td>\n",
       "      <td>...</td>\n",
       "      <td>...</td>\n",
       "      <td>...</td>\n",
       "      <td>...</td>\n",
       "      <td>...</td>\n",
       "      <td>...</td>\n",
       "      <td>...</td>\n",
       "      <td>...</td>\n",
       "      <td>...</td>\n",
       "    </tr>\n",
       "    <tr>\n",
       "      <th>3000883</th>\n",
       "      <td>2016-10-26</td>\n",
       "      <td>52</td>\n",
       "      <td>0.0</td>\n",
       "      <td>POULTRY</td>\n",
       "      <td>0.0</td>\n",
       "      <td>0.0</td>\n",
       "      <td>Manta</td>\n",
       "      <td>Manabi</td>\n",
       "      <td>A</td>\n",
       "      <td>11</td>\n",
       "      <td>48.75</td>\n",
       "      <td>50.17</td>\n",
       "      <td>True</td>\n",
       "      <td>0</td>\n",
       "      <td>0</td>\n",
       "      <td>0</td>\n",
       "    </tr>\n",
       "    <tr>\n",
       "      <th>3000884</th>\n",
       "      <td>2016-10-26</td>\n",
       "      <td>52</td>\n",
       "      <td>0.0</td>\n",
       "      <td>PREPARED FOODS</td>\n",
       "      <td>0.0</td>\n",
       "      <td>0.0</td>\n",
       "      <td>Manta</td>\n",
       "      <td>Manabi</td>\n",
       "      <td>A</td>\n",
       "      <td>11</td>\n",
       "      <td>48.75</td>\n",
       "      <td>50.17</td>\n",
       "      <td>True</td>\n",
       "      <td>0</td>\n",
       "      <td>0</td>\n",
       "      <td>0</td>\n",
       "    </tr>\n",
       "    <tr>\n",
       "      <th>3000885</th>\n",
       "      <td>2016-10-26</td>\n",
       "      <td>52</td>\n",
       "      <td>0.0</td>\n",
       "      <td>PRODUCE</td>\n",
       "      <td>0.0</td>\n",
       "      <td>0.0</td>\n",
       "      <td>Manta</td>\n",
       "      <td>Manabi</td>\n",
       "      <td>A</td>\n",
       "      <td>11</td>\n",
       "      <td>48.75</td>\n",
       "      <td>50.17</td>\n",
       "      <td>True</td>\n",
       "      <td>0</td>\n",
       "      <td>0</td>\n",
       "      <td>0</td>\n",
       "    </tr>\n",
       "    <tr>\n",
       "      <th>3000886</th>\n",
       "      <td>2016-10-26</td>\n",
       "      <td>52</td>\n",
       "      <td>0.0</td>\n",
       "      <td>SCHOOL AND OFFICE SUPPLIES</td>\n",
       "      <td>0.0</td>\n",
       "      <td>0.0</td>\n",
       "      <td>Manta</td>\n",
       "      <td>Manabi</td>\n",
       "      <td>A</td>\n",
       "      <td>11</td>\n",
       "      <td>48.75</td>\n",
       "      <td>50.17</td>\n",
       "      <td>True</td>\n",
       "      <td>0</td>\n",
       "      <td>0</td>\n",
       "      <td>0</td>\n",
       "    </tr>\n",
       "    <tr>\n",
       "      <th>3000887</th>\n",
       "      <td>2016-10-26</td>\n",
       "      <td>52</td>\n",
       "      <td>0.0</td>\n",
       "      <td>SEAFOOD</td>\n",
       "      <td>0.0</td>\n",
       "      <td>0.0</td>\n",
       "      <td>Manta</td>\n",
       "      <td>Manabi</td>\n",
       "      <td>A</td>\n",
       "      <td>11</td>\n",
       "      <td>48.75</td>\n",
       "      <td>50.17</td>\n",
       "      <td>True</td>\n",
       "      <td>0</td>\n",
       "      <td>0</td>\n",
       "      <td>0</td>\n",
       "    </tr>\n",
       "  </tbody>\n",
       "</table>\n",
       "<p>3000888 rows × 16 columns</p>\n",
       "</div>"
      ],
      "text/plain": [
       "              date store_nbr  transactions                      family  sales  \\\n",
       "0       2013-01-01        25         770.0                  AUTOMOTIVE    0.0   \n",
       "1       2013-01-01        25         770.0                   BABY CARE    0.0   \n",
       "2       2013-01-01        25         770.0                      BEAUTY    2.0   \n",
       "3       2013-01-01        25         770.0                   BEVERAGES  810.0   \n",
       "4       2013-01-01        25         770.0                       BOOKS    0.0   \n",
       "...            ...       ...           ...                         ...    ...   \n",
       "3000883 2016-10-26        52           0.0                     POULTRY    0.0   \n",
       "3000884 2016-10-26        52           0.0              PREPARED FOODS    0.0   \n",
       "3000885 2016-10-26        52           0.0                     PRODUCE    0.0   \n",
       "3000886 2016-10-26        52           0.0  SCHOOL AND OFFICE SUPPLIES    0.0   \n",
       "3000887 2016-10-26        52           0.0                     SEAFOOD    0.0   \n",
       "\n",
       "         onpromotion     city        state type cluster  dcoilwtico  ma_oil  \\\n",
       "0                0.0  Salinas  Santa Elena    D       1         NaN     NaN   \n",
       "1                0.0  Salinas  Santa Elena    D       1         NaN     NaN   \n",
       "2                0.0  Salinas  Santa Elena    D       1         NaN     NaN   \n",
       "3                0.0  Salinas  Santa Elena    D       1         NaN     NaN   \n",
       "4                0.0  Salinas  Santa Elena    D       1         NaN     NaN   \n",
       "...              ...      ...          ...  ...     ...         ...     ...   \n",
       "3000883          0.0    Manta       Manabi    A      11       48.75   50.17   \n",
       "3000884          0.0    Manta       Manabi    A      11       48.75   50.17   \n",
       "3000885          0.0    Manta       Manabi    A      11       48.75   50.17   \n",
       "3000886          0.0    Manta       Manabi    A      11       48.75   50.17   \n",
       "3000887          0.0    Manta       Manabi    A      11       48.75   50.17   \n",
       "\n",
       "           wd  nat_holiday  reg_holiday  loc_holiday  \n",
       "0        True            1            0            0  \n",
       "1        True            1            0            0  \n",
       "2        True            1            0            0  \n",
       "3        True            1            0            0  \n",
       "4        True            1            0            0  \n",
       "...       ...          ...          ...          ...  \n",
       "3000883  True            0            0            0  \n",
       "3000884  True            0            0            0  \n",
       "3000885  True            0            0            0  \n",
       "3000886  True            0            0            0  \n",
       "3000887  True            0            0            0  \n",
       "\n",
       "[3000888 rows x 16 columns]"
      ]
     },
     "execution_count": 31,
     "metadata": {},
     "output_type": "execute_result"
    }
   ],
   "source": [
    "data"
   ]
  },
  {
   "cell_type": "code",
   "execution_count": 32,
   "metadata": {
    "pycharm": {
     "name": "#%%\n"
    }
   },
   "outputs": [
    {
     "data": {
      "text/plain": [
       "True"
      ]
     },
     "execution_count": 32,
     "metadata": {},
     "output_type": "execute_result"
    }
   ],
   "source": [
    "data['date'] = pd.to_datetime(data['date'])\n",
    "pd.to_datetime('2017-04-01') in data.date.unique()"
   ]
  },
  {
   "cell_type": "code",
   "execution_count": 33,
   "metadata": {
    "pycharm": {
     "name": "#%%\n"
    }
   },
   "outputs": [
    {
     "data": {
      "text/html": [
       "<div>\n",
       "<style scoped>\n",
       "    .dataframe tbody tr th:only-of-type {\n",
       "        vertical-align: middle;\n",
       "    }\n",
       "\n",
       "    .dataframe tbody tr th {\n",
       "        vertical-align: top;\n",
       "    }\n",
       "\n",
       "    .dataframe thead th {\n",
       "        text-align: right;\n",
       "    }\n",
       "</style>\n",
       "<table border=\"1\" class=\"dataframe\">\n",
       "  <thead>\n",
       "    <tr style=\"text-align: right;\">\n",
       "      <th></th>\n",
       "      <th>date</th>\n",
       "      <th>store_nbr</th>\n",
       "      <th>transactions</th>\n",
       "      <th>family</th>\n",
       "      <th>sales</th>\n",
       "      <th>onpromotion</th>\n",
       "      <th>city</th>\n",
       "      <th>state</th>\n",
       "      <th>type</th>\n",
       "      <th>cluster</th>\n",
       "      <th>dcoilwtico</th>\n",
       "      <th>ma_oil</th>\n",
       "      <th>wd</th>\n",
       "      <th>nat_holiday</th>\n",
       "      <th>reg_holiday</th>\n",
       "      <th>loc_holiday</th>\n",
       "    </tr>\n",
       "  </thead>\n",
       "  <tbody>\n",
       "    <tr>\n",
       "      <th>2633796</th>\n",
       "      <td>2017-04-01</td>\n",
       "      <td>25</td>\n",
       "      <td>942.0</td>\n",
       "      <td>AUTOMOTIVE</td>\n",
       "      <td>4.000000</td>\n",
       "      <td>0.0</td>\n",
       "      <td>Salinas</td>\n",
       "      <td>Santa Elena</td>\n",
       "      <td>D</td>\n",
       "      <td>1</td>\n",
       "      <td>NaN</td>\n",
       "      <td>48.570000</td>\n",
       "      <td>False</td>\n",
       "      <td>0</td>\n",
       "      <td>0</td>\n",
       "      <td>0</td>\n",
       "    </tr>\n",
       "    <tr>\n",
       "      <th>2633797</th>\n",
       "      <td>2017-04-01</td>\n",
       "      <td>25</td>\n",
       "      <td>942.0</td>\n",
       "      <td>BABY CARE</td>\n",
       "      <td>0.000000</td>\n",
       "      <td>0.0</td>\n",
       "      <td>Salinas</td>\n",
       "      <td>Santa Elena</td>\n",
       "      <td>D</td>\n",
       "      <td>1</td>\n",
       "      <td>NaN</td>\n",
       "      <td>48.570000</td>\n",
       "      <td>False</td>\n",
       "      <td>0</td>\n",
       "      <td>0</td>\n",
       "      <td>0</td>\n",
       "    </tr>\n",
       "    <tr>\n",
       "      <th>2633798</th>\n",
       "      <td>2017-04-01</td>\n",
       "      <td>25</td>\n",
       "      <td>942.0</td>\n",
       "      <td>BEAUTY</td>\n",
       "      <td>4.000000</td>\n",
       "      <td>0.0</td>\n",
       "      <td>Salinas</td>\n",
       "      <td>Santa Elena</td>\n",
       "      <td>D</td>\n",
       "      <td>1</td>\n",
       "      <td>NaN</td>\n",
       "      <td>48.570000</td>\n",
       "      <td>False</td>\n",
       "      <td>0</td>\n",
       "      <td>0</td>\n",
       "      <td>0</td>\n",
       "    </tr>\n",
       "    <tr>\n",
       "      <th>2633799</th>\n",
       "      <td>2017-04-01</td>\n",
       "      <td>25</td>\n",
       "      <td>942.0</td>\n",
       "      <td>BEVERAGES</td>\n",
       "      <td>2191.000000</td>\n",
       "      <td>7.0</td>\n",
       "      <td>Salinas</td>\n",
       "      <td>Santa Elena</td>\n",
       "      <td>D</td>\n",
       "      <td>1</td>\n",
       "      <td>NaN</td>\n",
       "      <td>48.570000</td>\n",
       "      <td>False</td>\n",
       "      <td>0</td>\n",
       "      <td>0</td>\n",
       "      <td>0</td>\n",
       "    </tr>\n",
       "    <tr>\n",
       "      <th>2633800</th>\n",
       "      <td>2017-04-01</td>\n",
       "      <td>25</td>\n",
       "      <td>942.0</td>\n",
       "      <td>BOOKS</td>\n",
       "      <td>0.000000</td>\n",
       "      <td>0.0</td>\n",
       "      <td>Salinas</td>\n",
       "      <td>Santa Elena</td>\n",
       "      <td>D</td>\n",
       "      <td>1</td>\n",
       "      <td>NaN</td>\n",
       "      <td>48.570000</td>\n",
       "      <td>False</td>\n",
       "      <td>0</td>\n",
       "      <td>0</td>\n",
       "      <td>0</td>\n",
       "    </tr>\n",
       "    <tr>\n",
       "      <th>...</th>\n",
       "      <td>...</td>\n",
       "      <td>...</td>\n",
       "      <td>...</td>\n",
       "      <td>...</td>\n",
       "      <td>...</td>\n",
       "      <td>...</td>\n",
       "      <td>...</td>\n",
       "      <td>...</td>\n",
       "      <td>...</td>\n",
       "      <td>...</td>\n",
       "      <td>...</td>\n",
       "      <td>...</td>\n",
       "      <td>...</td>\n",
       "      <td>...</td>\n",
       "      <td>...</td>\n",
       "      <td>...</td>\n",
       "    </tr>\n",
       "    <tr>\n",
       "      <th>2877925</th>\n",
       "      <td>2017-08-15</td>\n",
       "      <td>52</td>\n",
       "      <td>2255.0</td>\n",
       "      <td>POULTRY</td>\n",
       "      <td>397.339996</td>\n",
       "      <td>0.0</td>\n",
       "      <td>Manta</td>\n",
       "      <td>Manabi</td>\n",
       "      <td>A</td>\n",
       "      <td>11</td>\n",
       "      <td>47.57</td>\n",
       "      <td>48.648571</td>\n",
       "      <td>True</td>\n",
       "      <td>0</td>\n",
       "      <td>0</td>\n",
       "      <td>0</td>\n",
       "    </tr>\n",
       "    <tr>\n",
       "      <th>2877926</th>\n",
       "      <td>2017-08-15</td>\n",
       "      <td>52</td>\n",
       "      <td>2255.0</td>\n",
       "      <td>PREPARED FOODS</td>\n",
       "      <td>104.417999</td>\n",
       "      <td>0.0</td>\n",
       "      <td>Manta</td>\n",
       "      <td>Manabi</td>\n",
       "      <td>A</td>\n",
       "      <td>11</td>\n",
       "      <td>47.57</td>\n",
       "      <td>48.648571</td>\n",
       "      <td>True</td>\n",
       "      <td>0</td>\n",
       "      <td>0</td>\n",
       "      <td>0</td>\n",
       "    </tr>\n",
       "    <tr>\n",
       "      <th>2877927</th>\n",
       "      <td>2017-08-15</td>\n",
       "      <td>52</td>\n",
       "      <td>2255.0</td>\n",
       "      <td>PRODUCE</td>\n",
       "      <td>3803.367920</td>\n",
       "      <td>8.0</td>\n",
       "      <td>Manta</td>\n",
       "      <td>Manabi</td>\n",
       "      <td>A</td>\n",
       "      <td>11</td>\n",
       "      <td>47.57</td>\n",
       "      <td>48.648571</td>\n",
       "      <td>True</td>\n",
       "      <td>0</td>\n",
       "      <td>0</td>\n",
       "      <td>0</td>\n",
       "    </tr>\n",
       "    <tr>\n",
       "      <th>2877928</th>\n",
       "      <td>2017-08-15</td>\n",
       "      <td>52</td>\n",
       "      <td>2255.0</td>\n",
       "      <td>SCHOOL AND OFFICE SUPPLIES</td>\n",
       "      <td>17.000000</td>\n",
       "      <td>0.0</td>\n",
       "      <td>Manta</td>\n",
       "      <td>Manabi</td>\n",
       "      <td>A</td>\n",
       "      <td>11</td>\n",
       "      <td>47.57</td>\n",
       "      <td>48.648571</td>\n",
       "      <td>True</td>\n",
       "      <td>0</td>\n",
       "      <td>0</td>\n",
       "      <td>0</td>\n",
       "    </tr>\n",
       "    <tr>\n",
       "      <th>2877929</th>\n",
       "      <td>2017-08-15</td>\n",
       "      <td>52</td>\n",
       "      <td>2255.0</td>\n",
       "      <td>SEAFOOD</td>\n",
       "      <td>7.000000</td>\n",
       "      <td>0.0</td>\n",
       "      <td>Manta</td>\n",
       "      <td>Manabi</td>\n",
       "      <td>A</td>\n",
       "      <td>11</td>\n",
       "      <td>47.57</td>\n",
       "      <td>48.648571</td>\n",
       "      <td>True</td>\n",
       "      <td>0</td>\n",
       "      <td>0</td>\n",
       "      <td>0</td>\n",
       "    </tr>\n",
       "  </tbody>\n",
       "</table>\n",
       "<p>244134 rows × 16 columns</p>\n",
       "</div>"
      ],
      "text/plain": [
       "              date store_nbr  transactions                      family  \\\n",
       "2633796 2017-04-01        25         942.0                  AUTOMOTIVE   \n",
       "2633797 2017-04-01        25         942.0                   BABY CARE   \n",
       "2633798 2017-04-01        25         942.0                      BEAUTY   \n",
       "2633799 2017-04-01        25         942.0                   BEVERAGES   \n",
       "2633800 2017-04-01        25         942.0                       BOOKS   \n",
       "...            ...       ...           ...                         ...   \n",
       "2877925 2017-08-15        52        2255.0                     POULTRY   \n",
       "2877926 2017-08-15        52        2255.0              PREPARED FOODS   \n",
       "2877927 2017-08-15        52        2255.0                     PRODUCE   \n",
       "2877928 2017-08-15        52        2255.0  SCHOOL AND OFFICE SUPPLIES   \n",
       "2877929 2017-08-15        52        2255.0                     SEAFOOD   \n",
       "\n",
       "               sales  onpromotion     city        state type cluster  \\\n",
       "2633796     4.000000          0.0  Salinas  Santa Elena    D       1   \n",
       "2633797     0.000000          0.0  Salinas  Santa Elena    D       1   \n",
       "2633798     4.000000          0.0  Salinas  Santa Elena    D       1   \n",
       "2633799  2191.000000          7.0  Salinas  Santa Elena    D       1   \n",
       "2633800     0.000000          0.0  Salinas  Santa Elena    D       1   \n",
       "...              ...          ...      ...          ...  ...     ...   \n",
       "2877925   397.339996          0.0    Manta       Manabi    A      11   \n",
       "2877926   104.417999          0.0    Manta       Manabi    A      11   \n",
       "2877927  3803.367920          8.0    Manta       Manabi    A      11   \n",
       "2877928    17.000000          0.0    Manta       Manabi    A      11   \n",
       "2877929     7.000000          0.0    Manta       Manabi    A      11   \n",
       "\n",
       "         dcoilwtico     ma_oil     wd  nat_holiday  reg_holiday  loc_holiday  \n",
       "2633796         NaN  48.570000  False            0            0            0  \n",
       "2633797         NaN  48.570000  False            0            0            0  \n",
       "2633798         NaN  48.570000  False            0            0            0  \n",
       "2633799         NaN  48.570000  False            0            0            0  \n",
       "2633800         NaN  48.570000  False            0            0            0  \n",
       "...             ...        ...    ...          ...          ...          ...  \n",
       "2877925       47.57  48.648571   True            0            0            0  \n",
       "2877926       47.57  48.648571   True            0            0            0  \n",
       "2877927       47.57  48.648571   True            0            0            0  \n",
       "2877928       47.57  48.648571   True            0            0            0  \n",
       "2877929       47.57  48.648571   True            0            0            0  \n",
       "\n",
       "[244134 rows x 16 columns]"
      ]
     },
     "execution_count": 33,
     "metadata": {},
     "output_type": "execute_result"
    }
   ],
   "source": [
    "# set the range of data used in training\n",
    "sdate = '2017-04-01'\n",
    "edate = '2017-08-15'\n",
    "\n",
    "data['date'] = pd.to_datetime(data['date'])\n",
    "data_cut_dates = data.loc[(data['date'] >= sdate) & (data['date'] <= edate)]\n",
    "data_cut_dates"
   ]
  },
  {
   "cell_type": "code",
   "execution_count": 34,
   "metadata": {
    "pycharm": {
     "name": "#%%\n"
    }
   },
   "outputs": [
    {
     "name": "stdout",
     "output_type": "stream",
     "text": [
      "x shape: (33, 137, 4)\n",
      "y shape: (33, 137)\n"
     ]
    }
   ],
   "source": [
    "# Train data\n",
    "X = np.zeros((data_cut_dates.family.nunique(), data_cut_dates.date.nunique(), 4))\n",
    "print(f'x shape: {X.shape}')\n",
    "\n",
    "# Truth data\n",
    "y_truth = np.zeros(X.shape[:2])\n",
    "print(f'y shape: {y_truth.shape}')\n",
    "\n",
    "family_groups = data_cut_dates.groupby('family')\n",
    "for i, (family, family_group) in enumerate(family_groups):\n",
    "    for j, (date, group) in enumerate(family_group.groupby('date')):\n",
    "        if i == 1 and j == 1:\n",
    "            first = False\n",
    "        X[i][j][0] = group.onpromotion.sum()\n",
    "        X[i][j][1] = group.ma_oil.mean()\n",
    "        X[i][j][2] = group.wd.any()\n",
    "        X[i][j][3] = min(group.nat_holiday.sum(), 1)\n",
    "        y_truth[i][j] = group.sales.sum()"
   ]
  },
  {
   "cell_type": "code",
   "execution_count": 46,
   "metadata": {
    "pycharm": {
     "name": "#%%\n"
    }
   },
   "outputs": [],
   "source": [
    "from lightgbm import LGBMRegressor\n",
    "\n",
    "#Can add weights/grouping to this as well if we want\n",
    "def RMSLE(y, y_pred):\n",
    "    is_higher_better = False\n",
    "    loss = 0\n",
    "    for i in range(len(y)):\n",
    "        loss += (Math.log(1 + y_pred[i]) - Math.log(1 + y[i]))**2\n",
    "    loss = loss / len(y)\n",
    "    return \"RMSLE\", loss, is_higher_better\n",
    "\n",
    "y_pred = np.zeros(X.shape[:2])\n",
    "models = []\n",
    "\n",
    "for i, (x, y) in enumerate(zip(X, y_truth)):\n",
    "    model = LGBMRegressor(n_estimators=100)\n",
    "    models.append(model)\n",
    "    model.fit(x, y, eval_metric=RMSLE)\n",
    "    # y_pred = pd.DataFrame(model.predict(X), index=X.index, columns=y.columns)\n",
    "    y_pred[i] = model.predict(x)\n",
    "    y_pred[i][np.where(y_pred[i] < 0)] = 0"
   ]
  },
  {
   "cell_type": "code",
   "execution_count": 36,
   "metadata": {
    "pycharm": {
     "name": "#%%\n"
    }
   },
   "outputs": [],
   "source": [
    "loss = np.sum( ( np.log(y_pred + 1) + np.log(y_truth + 1) )**2, axis=1 ) / y_truth.shape[1]"
   ]
  },
  {
   "cell_type": "code",
   "execution_count": 37,
   "metadata": {
    "pycharm": {
     "name": "#%%\n"
    }
   },
   "outputs": [
    {
     "data": {
      "text/plain": [
       "array([143.00062395,  22.27301756, 128.6824234 , 591.01599794,\n",
       "         8.77860002, 423.7241348 , 173.1703009 , 495.91368356,\n",
       "       467.08562353, 379.34267142, 343.92188635, 314.91123765,\n",
       "       618.73151919, 215.08736077,  77.13621223, 220.26418174,\n",
       "       219.37698258,  45.91933033, 375.28805337, 164.85199417,\n",
       "       183.75312135, 142.15550256, 282.16594184, 136.88150469,\n",
       "       391.52212966, 379.12993888, 151.90974696, 165.95568073,\n",
       "       394.85295453, 289.5796969 , 552.51133125, 137.90236144,\n",
       "       197.84043666])"
      ]
     },
     "execution_count": 37,
     "metadata": {},
     "output_type": "execute_result"
    }
   ],
   "source": [
    "loss"
   ]
  },
  {
   "cell_type": "code",
   "execution_count": 44,
   "metadata": {
    "pycharm": {
     "name": "#%%\n"
    }
   },
   "outputs": [],
   "source": [
    "X_test = np.zeros((data_cut_dates.family.nunique(), 16, 4))\n",
    "\n",
    "family_groups = data_test.groupby('family')\n",
    "for i, (family, family_group) in enumerate(family_groups):\n",
    "    for j, (date, group) in enumerate(family_group.groupby('date')):\n",
    "        X_test[i][j][0] = group.onpromotion.sum()\n",
    "        X_test[i][j][1] = group.ma_oil.mean()\n",
    "        X_test[i][j][2] = group.wd.any()\n",
    "        X_test[i][j][3] = min(group.nat_holiday.sum(), 1)"
   ]
  },
  {
   "cell_type": "code",
   "execution_count": 48,
   "metadata": {
    "pycharm": {
     "name": "#%%\n"
    }
   },
   "outputs": [],
   "source": [
    "test_pred = []\n",
    "for i, model in enumerate(models):\n",
    "    test_pred.append(model.predict(X_test[i]))"
   ]
  },
  {
   "cell_type": "code",
   "execution_count": 54,
   "metadata": {
    "pycharm": {
     "name": "#%%\n"
    }
   },
   "outputs": [],
   "source": [
    "submission_array = np.zeros((16, data_cut_dates.store_nbr.nunique(), data_cut_dates.family.nunique()))\n",
    "\n",
    "for i in range(16):\n",
    "    for j in range(data_cut_dates.store_nbr.nunique()):\n",
    "        for k in range(data_cut_dates.family.nunique()):\n",
    "            submission_array[i][j][k] = test_pred[k][i]\n"
   ]
  },
  {
   "cell_type": "code",
   "execution_count": 58,
   "metadata": {
    "pycharm": {
     "name": "#%%\n"
    }
   },
   "outputs": [
    {
     "data": {
      "text/plain": [
       "(28512,)"
      ]
     },
     "execution_count": 58,
     "metadata": {},
     "output_type": "execute_result"
    }
   ],
   "source": [
    "submission_array.flatten().shape"
   ]
  },
  {
   "cell_type": "code",
   "execution_count": 59,
   "metadata": {
    "pycharm": {
     "name": "#%%\n"
    }
   },
   "outputs": [],
   "source": [
    "# Create submission\n",
    "df_sub = pd.read_csv(path + 'sample_submission.csv', index_col='id')\n",
    "df_sub.sales = submission_array.flatten()\n",
    "df_sub.to_csv('submission.csv', index=True)"
   ]
  },
  {
   "cell_type": "code",
   "execution_count": null,
   "metadata": {
    "pycharm": {
     "name": "#%%\n"
    }
   },
   "outputs": [],
   "source": [
    "data_cut_dates.family.nunique()"
   ]
  }
 ],
 "metadata": {
  "kernelspec": {
   "display_name": "cs567",
   "language": "python",
   "name": "python3"
  },
  "language_info": {
   "codemirror_mode": {
    "name": "ipython",
    "version": 3
   },
   "file_extension": ".py",
   "mimetype": "text/x-python",
   "name": "python",
   "nbconvert_exporter": "python",
   "pygments_lexer": "ipython3",
   "version": "3.9.13"
  },
  "vscode": {
   "interpreter": {
    "hash": "5c9a4f255cf9e2ad0bd567c9928466766a62645062bb2c38e3d7d5a79eff3a32"
   }
  }
 },
 "nbformat": 4,
 "nbformat_minor": 0
}